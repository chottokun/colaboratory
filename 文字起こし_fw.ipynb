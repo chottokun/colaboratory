{
  "nbformat": 4,
  "nbformat_minor": 0,
  "metadata": {
    "colab": {
      "provenance": [],
      "gpuType": "T4",
      "include_colab_link": true
    },
    "kernelspec": {
      "name": "python3",
      "display_name": "Python 3"
    },
    "language_info": {
      "name": "python"
    },
    "accelerator": "GPU"
  },
  "cells": [
    {
      "cell_type": "markdown",
      "metadata": {
        "id": "view-in-github",
        "colab_type": "text"
      },
      "source": [
        "<a href=\"https://colab.research.google.com/github/chottokun/colaboratory/blob/main/%E6%96%87%E5%AD%97%E8%B5%B7%E3%81%93%E3%81%97_fw.ipynb\" target=\"_parent\"><img src=\"https://colab.research.google.com/assets/colab-badge.svg\" alt=\"Open In Colab\"/></a>"
      ]
    },
    {
      "cell_type": "code",
      "source": [
        "# pip\n",
        "!pip install faster_whisper\n",
        "!pip install -U yt-dlp"
      ],
      "metadata": {
        "colab": {
          "base_uri": "https://localhost:8080/"
        },
        "id": "QCpxHNK4IBFP",
        "outputId": "dce071ae-93ce-4940-a346-7169ac570afa"
      },
      "execution_count": 8,
      "outputs": [
        {
          "output_type": "stream",
          "name": "stdout",
          "text": [
            "Requirement already satisfied: faster_whisper in /usr/local/lib/python3.10/dist-packages (0.10.0)\n",
            "Requirement already satisfied: av==10.* in /usr/local/lib/python3.10/dist-packages (from faster_whisper) (10.0.0)\n",
            "Requirement already satisfied: ctranslate2<4,>=3.22 in /usr/local/lib/python3.10/dist-packages (from faster_whisper) (3.24.0)\n",
            "Requirement already satisfied: huggingface-hub>=0.13 in /usr/local/lib/python3.10/dist-packages (from faster_whisper) (0.20.3)\n",
            "Requirement already satisfied: tokenizers<0.16,>=0.13 in /usr/local/lib/python3.10/dist-packages (from faster_whisper) (0.15.1)\n",
            "Requirement already satisfied: onnxruntime<2,>=1.14 in /usr/local/lib/python3.10/dist-packages (from faster_whisper) (1.17.0)\n",
            "Requirement already satisfied: setuptools in /usr/local/lib/python3.10/dist-packages (from ctranslate2<4,>=3.22->faster_whisper) (67.7.2)\n",
            "Requirement already satisfied: numpy in /usr/local/lib/python3.10/dist-packages (from ctranslate2<4,>=3.22->faster_whisper) (1.23.5)\n",
            "Requirement already satisfied: pyyaml<7,>=5.3 in /usr/local/lib/python3.10/dist-packages (from ctranslate2<4,>=3.22->faster_whisper) (6.0.1)\n",
            "Requirement already satisfied: filelock in /usr/local/lib/python3.10/dist-packages (from huggingface-hub>=0.13->faster_whisper) (3.13.1)\n",
            "Requirement already satisfied: fsspec>=2023.5.0 in /usr/local/lib/python3.10/dist-packages (from huggingface-hub>=0.13->faster_whisper) (2023.6.0)\n",
            "Requirement already satisfied: requests in /usr/local/lib/python3.10/dist-packages (from huggingface-hub>=0.13->faster_whisper) (2.31.0)\n",
            "Requirement already satisfied: tqdm>=4.42.1 in /usr/local/lib/python3.10/dist-packages (from huggingface-hub>=0.13->faster_whisper) (4.66.1)\n",
            "Requirement already satisfied: typing-extensions>=3.7.4.3 in /usr/local/lib/python3.10/dist-packages (from huggingface-hub>=0.13->faster_whisper) (4.9.0)\n",
            "Requirement already satisfied: packaging>=20.9 in /usr/local/lib/python3.10/dist-packages (from huggingface-hub>=0.13->faster_whisper) (23.2)\n",
            "Requirement already satisfied: coloredlogs in /usr/local/lib/python3.10/dist-packages (from onnxruntime<2,>=1.14->faster_whisper) (15.0.1)\n",
            "Requirement already satisfied: flatbuffers in /usr/local/lib/python3.10/dist-packages (from onnxruntime<2,>=1.14->faster_whisper) (23.5.26)\n",
            "Requirement already satisfied: protobuf in /usr/local/lib/python3.10/dist-packages (from onnxruntime<2,>=1.14->faster_whisper) (3.20.3)\n",
            "Requirement already satisfied: sympy in /usr/local/lib/python3.10/dist-packages (from onnxruntime<2,>=1.14->faster_whisper) (1.12)\n",
            "Requirement already satisfied: humanfriendly>=9.1 in /usr/local/lib/python3.10/dist-packages (from coloredlogs->onnxruntime<2,>=1.14->faster_whisper) (10.0)\n",
            "Requirement already satisfied: charset-normalizer<4,>=2 in /usr/local/lib/python3.10/dist-packages (from requests->huggingface-hub>=0.13->faster_whisper) (3.3.2)\n",
            "Requirement already satisfied: idna<4,>=2.5 in /usr/local/lib/python3.10/dist-packages (from requests->huggingface-hub>=0.13->faster_whisper) (3.6)\n",
            "Requirement already satisfied: urllib3<3,>=1.21.1 in /usr/local/lib/python3.10/dist-packages (from requests->huggingface-hub>=0.13->faster_whisper) (2.0.7)\n",
            "Requirement already satisfied: certifi>=2017.4.17 in /usr/local/lib/python3.10/dist-packages (from requests->huggingface-hub>=0.13->faster_whisper) (2024.2.2)\n",
            "Requirement already satisfied: mpmath>=0.19 in /usr/local/lib/python3.10/dist-packages (from sympy->onnxruntime<2,>=1.14->faster_whisper) (1.3.0)\n",
            "Requirement already satisfied: yt-dlp in /usr/local/lib/python3.10/dist-packages (2023.12.30)\n",
            "Requirement already satisfied: mutagen in /usr/local/lib/python3.10/dist-packages (from yt-dlp) (1.47.0)\n",
            "Requirement already satisfied: pycryptodomex in /usr/local/lib/python3.10/dist-packages (from yt-dlp) (3.20.0)\n",
            "Requirement already satisfied: certifi in /usr/local/lib/python3.10/dist-packages (from yt-dlp) (2024.2.2)\n",
            "Requirement already satisfied: requests<3,>=2.31.0 in /usr/local/lib/python3.10/dist-packages (from yt-dlp) (2.31.0)\n",
            "Requirement already satisfied: urllib3<3,>=1.26.17 in /usr/local/lib/python3.10/dist-packages (from yt-dlp) (2.0.7)\n",
            "Requirement already satisfied: websockets>=12.0 in /usr/local/lib/python3.10/dist-packages (from yt-dlp) (12.0)\n",
            "Requirement already satisfied: brotli in /usr/local/lib/python3.10/dist-packages (from yt-dlp) (1.1.0)\n",
            "Requirement already satisfied: charset-normalizer<4,>=2 in /usr/local/lib/python3.10/dist-packages (from requests<3,>=2.31.0->yt-dlp) (3.3.2)\n",
            "Requirement already satisfied: idna<4,>=2.5 in /usr/local/lib/python3.10/dist-packages (from requests<3,>=2.31.0->yt-dlp) (3.6)\n"
          ]
        }
      ]
    },
    {
      "cell_type": "code",
      "source": [
        "# Get sample audio.\n",
        "!yt-dlp  -o \"audio.mp3\" -x --audio-format mp3 https://www.youtube.com/watch?v=AA9nzm4F9g4&t"
      ],
      "metadata": {
        "colab": {
          "base_uri": "https://localhost:8080/"
        },
        "id": "J0Z9FyfUMvrT",
        "outputId": "4a78f013-6869-4c0c-a734-fce176e23e2f"
      },
      "execution_count": 9,
      "outputs": [
        {
          "output_type": "stream",
          "name": "stdout",
          "text": [
            "/bin/bash: line 1: t: command not found\n",
            "[youtube] Extracting URL: https://www.youtube.com/watch?v=AA9nzm4F9g4\n",
            "[youtube] AA9nzm4F9g4: Downloading webpage\n",
            "[youtube] AA9nzm4F9g4: Downloading ios player API JSON\n",
            "[youtube] AA9nzm4F9g4: Downloading android player API JSON\n",
            "[youtube] AA9nzm4F9g4: Downloading m3u8 information\n",
            "[info] AA9nzm4F9g4: Downloading 1 format(s): 251\n",
            "[download] audio.mp3 has already been downloaded\n",
            "[ExtractAudio] Not converting audio audio.mp3; file is already in target format mp3\n"
          ]
        }
      ]
    },
    {
      "cell_type": "code",
      "source": [
        "%%capture\n",
        "# cuda version ^^;\n",
        "!apt install libcublas11"
      ],
      "metadata": {
        "id": "3Xqp1B1OraZ9"
      },
      "execution_count": 10,
      "outputs": []
    },
    {
      "cell_type": "code",
      "source": [
        "from faster_whisper import WhisperModel"
      ],
      "metadata": {
        "id": "cwXZ3pnkVYJI"
      },
      "execution_count": 1,
      "outputs": []
    },
    {
      "cell_type": "code",
      "source": [
        "# 文字起こし\n",
        "\n",
        "model = WhisperModel(\"large-v3\", device=\"cuda\", compute_type=\"float32\")\n",
        "filepath = \"./audio.mp3\"\n",
        "\n",
        "def get_text_from_audio(model=model, filepath=\"audio.mp3\", lang=\"ja\"):\n",
        "\n",
        "  result, info = model.transcribe(\n",
        "                            filepath,\n",
        "                            beam_size=10,\n",
        "                            language=lang,\n",
        "                            # vad_filter=True,\n",
        "                            without_timestamps=True,\n",
        "                            )\n",
        "\n",
        "  return result, info\n",
        "\n",
        "result, info = get_text_from_audio(model=model)\n",
        "print(result)"
      ],
      "metadata": {
        "colab": {
          "base_uri": "https://localhost:8080/"
        },
        "id": "C1lWiOyhJ0BA",
        "outputId": "597015e3-ce76-4f02-acd0-fe127b3b5240"
      },
      "execution_count": 2,
      "outputs": [
        {
          "output_type": "stream",
          "name": "stdout",
          "text": [
            "<generator object WhisperModel.generate_segments at 0x7fbe8aa840b0>\n"
          ]
        }
      ]
    },
    {
      "cell_type": "code",
      "source": [
        "filename=\"text\"\n",
        "\n",
        "with open(f\"/content/{filename}.txt\", \"w\") as f:\n",
        "  f.write(f\"Transcription of {filename}\\n\")\n",
        "  for index, seg in enumerate(result):\n",
        "    text = seg.text\n",
        "    f.write(text+\"\\n\")\n",
        "    print(text+\"\\n\")\n"
      ],
      "metadata": {
        "colab": {
          "base_uri": "https://localhost:8080/"
        },
        "id": "hpSVpPBXtrR2",
        "outputId": "a939d371-a43a-4838-b6ba-9a3835d33567"
      },
      "execution_count": 3,
      "outputs": [
        {
          "output_type": "stream",
          "name": "stdout",
          "text": [
            "どうしたエビのようにピクピク敬礼して豚の餌にでもなりたいのかこのウジ虫どもめ貴様のアホな頭蓋骨を切開して起立というものを叩き込んでやろう600?インスタント食品を作って食べて片付けるほどの時間だぞ渋滞相手に持つわけがない海でも割ってみるおつもりですかそれとも水をワインに変えてみます?\n",
            "\n",
            "渋滞相手に持つわけがない\n",
            "\n",
            "お持ちですか?ふざけるな!ビザはお持ちではないでは放流としてのご入国を希望されます皆殺しにしろ!撃て!時間の無駄ですねああそこの召喚以外は撃てはっ!ダキアには足を向けて寝れんな実弾演習に協力してもらったばかりか\n",
            "\n",
            "戦後の花火まで用意してくれるとは止まれ!目標は達成だ!さて帰還するとしようか大隊諸君将尉隊を率いて迎撃しろ悪いが私はあれを独り占めだあの数の爆撃機ですよ実は空軍でもエースになりたいと思っていたところでなそれには戦闘機で落とす必要がありますけどそうなのか?\n",
            "\n",
            "とはいえこの状況で背を向けるのは無理か敵前逃亡扱いされてはかなわん給料分の仕事はするとしよう落ち着いて狙う!こんにちはそしてさようなら\n",
            "\n",
            "まさしく天才だなええ\n",
            "\n",
            "天の災いです片道切符で地獄行きの代物ですよ戦友諸君私は神ではなく三望本部を論理と知性の画像を信ずる義務と謙信こそが我らの誉れだこの戦い勝ちに行くぞ煉獄であろうと赴き征服することこそ帝国軍人の本部\n",
            "\n",
            "番犬は優秀であるということを教えてやる!お手出し無用に願います\n",
            "\n"
          ]
        }
      ]
    },
    {
      "cell_type": "code",
      "source": [
        "from google.colab import files\n",
        "files.download(f\"/content/text.txt\")"
      ],
      "metadata": {
        "id": "mXyTcqpsXNJc",
        "colab": {
          "base_uri": "https://localhost:8080/",
          "height": 17
        },
        "outputId": "df857871-584b-40ff-f309-ef85cc8084d9"
      },
      "execution_count": 4,
      "outputs": [
        {
          "output_type": "display_data",
          "data": {
            "text/plain": [
              "<IPython.core.display.Javascript object>"
            ],
            "application/javascript": [
              "\n",
              "    async function download(id, filename, size) {\n",
              "      if (!google.colab.kernel.accessAllowed) {\n",
              "        return;\n",
              "      }\n",
              "      const div = document.createElement('div');\n",
              "      const label = document.createElement('label');\n",
              "      label.textContent = `Downloading \"${filename}\": `;\n",
              "      div.appendChild(label);\n",
              "      const progress = document.createElement('progress');\n",
              "      progress.max = size;\n",
              "      div.appendChild(progress);\n",
              "      document.body.appendChild(div);\n",
              "\n",
              "      const buffers = [];\n",
              "      let downloaded = 0;\n",
              "\n",
              "      const channel = await google.colab.kernel.comms.open(id);\n",
              "      // Send a message to notify the kernel that we're ready.\n",
              "      channel.send({})\n",
              "\n",
              "      for await (const message of channel.messages) {\n",
              "        // Send a message to notify the kernel that we're ready.\n",
              "        channel.send({})\n",
              "        if (message.buffers) {\n",
              "          for (const buffer of message.buffers) {\n",
              "            buffers.push(buffer);\n",
              "            downloaded += buffer.byteLength;\n",
              "            progress.value = downloaded;\n",
              "          }\n",
              "        }\n",
              "      }\n",
              "      const blob = new Blob(buffers, {type: 'application/binary'});\n",
              "      const a = document.createElement('a');\n",
              "      a.href = window.URL.createObjectURL(blob);\n",
              "      a.download = filename;\n",
              "      div.appendChild(a);\n",
              "      a.click();\n",
              "      div.remove();\n",
              "    }\n",
              "  "
            ]
          },
          "metadata": {}
        },
        {
          "output_type": "display_data",
          "data": {
            "text/plain": [
              "<IPython.core.display.Javascript object>"
            ],
            "application/javascript": [
              "download(\"download_296b6b01-2fba-48c8-bf4b-b03bd5d2dc5d\", \"text.txt\", 1773)"
            ]
          },
          "metadata": {}
        }
      ]
    },
    {
      "cell_type": "code",
      "source": [
        "del model"
      ],
      "metadata": {
        "id": "VDSPK7nzrAxv"
      },
      "execution_count": 5,
      "outputs": []
    }
  ]
}