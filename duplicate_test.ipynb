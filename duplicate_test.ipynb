{
  "nbformat": 4,
  "nbformat_minor": 0,
  "metadata": {
    "colab": {
      "provenance": [],
      "authorship_tag": "ABX9TyMdkXhgV0CFbFNuf7iN7Xls",
      "include_colab_link": true
    },
    "kernelspec": {
      "name": "python3",
      "display_name": "Python 3"
    },
    "language_info": {
      "name": "python"
    }
  },
  "cells": [
    {
      "cell_type": "markdown",
      "metadata": {
        "id": "view-in-github",
        "colab_type": "text"
      },
      "source": [
        "<a href=\"https://colab.research.google.com/github/chottokun/colaboratory/blob/main/duplicate_test.ipynb\" target=\"_parent\"><img src=\"https://colab.research.google.com/assets/colab-badge.svg\" alt=\"Open In Colab\"/></a>"
      ]
    },
    {
      "cell_type": "code",
      "execution_count": 1,
      "metadata": {
        "id": "E-tGzmdGVJ5j"
      },
      "outputs": [],
      "source": [
        "#"
      ]
    },
    {
      "cell_type": "code",
      "source": [
        "!mkdir origin\n",
        "!mkdir target"
      ],
      "metadata": {
        "id": "kmSdYI2JVSpo"
      },
      "execution_count": 2,
      "outputs": []
    },
    {
      "cell_type": "code",
      "source": [
        "import filecmp\n",
        "import sys\n",
        "import shutil\n",
        "from pathlib import Path\n",
        "\n",
        "# 参考\n",
        "# https://cfd.life/column/python%E3%83%95%E3%82%A1%E3%82%A4%E3%83%AB%E3%81%AE%E3%82%B3%E3%83%94%E3%83%BC%E3%81%8C%E5%85%A8%E3%81%A6%E6%AD%A3%E5%B8%B8%E3%81%AB%E8%A1%8C%E3%81%88%E3%81%A6%E3%81%84%E3%82%8B%E4%BA%8B%E3%82%92/\n",
        "\n",
        "class compare_result:\n",
        "    def __init__(self,\n",
        "                 sub_left_only,\n",
        "                 sub_right_only,\n",
        "                 sub_diff_files,\n",
        "                 sub_funny_files,\n",
        "                ):\n",
        "\n",
        "        self.left_only=sub_left_only\n",
        "        self.right_only=sub_right_only\n",
        "        self.diff_files=sub_diff_files\n",
        "        self.funny_files=sub_funny_files\n",
        "\n",
        "def compare_dirs(dir1, dir2, ignore=None):\n",
        "    dirs_equal = filecmp.dircmp(dir1, dir2, ignore=ignore)\n",
        "\n",
        "    left_only = dirs_equal.left_only\n",
        "    right_only = dirs_equal.right_only\n",
        "    diff_files = dirs_equal.diff_files\n",
        "    funny_files = dirs_equal.funny_files\n",
        "\n",
        "    for subdir in dirs_equal.common_dirs:\n",
        "\n",
        "        subdir1 = f\"{dir1}/{subdir}\"\n",
        "        subdir2 = f\"{dir2}/{subdir}\"\n",
        "\n",
        "        cd = compare_dirs(subdir1, subdir2, ignore)\n",
        "\n",
        "        left_only += [f\"{subdir}/{f}\" for f in cd.left_only]\n",
        "        right_only += [f\"{subdir}/{f}\" for f in cd.right_only]\n",
        "        diff_files += [f\"{subdir}/{f}\" for f in cd.diff_files]\n",
        "        funny_files += [f\"{subdir}/{f}\" for f in cd.funny_files]\n",
        "\n",
        "    return compare_result(left_only, right_only, diff_files, funny_files)\n",
        "    # yield compare_result(left_only, right_only, diff_files, funny_files)\n",
        "\n",
        "def get_origin_files(cd):\n",
        "    for cp in cd.right_only:\n",
        "        parent_path = Path(cp)\n",
        "        origin_path = origin_folder / cp\n",
        "        target_path = target_folder / parent_path.parent\n",
        "\n",
        "        if not origin_path.is_file():\n",
        "            for _path in Path(origin_path).glob(\"**/*\"):\n",
        "                # print(_path)\n",
        "                yield _path, target_path / cp\n",
        "            continue\n",
        "\n",
        "        yield origin_path, target_path\n",
        "\n",
        "\n",
        "if __name__==\"__main__\":\n",
        "\n",
        "    # 引数\n",
        "    args = sys.argv\n",
        "\n",
        "    #\n",
        "    target_folder = Path(\"./target\") if args[0] != None else args[0]\n",
        "    origin_folder = Path(\"./origin\") if len(args) << 2 else args[1]\n",
        "\n",
        "    filecmp.clear_cache()\n",
        "\n",
        "    cd=compare_dirs(target_folder, origin_folder, ignore=[\"$RECYCLE.BIN\"])\n",
        "\n",
        "    # print(\"Left only:\")\n",
        "    # print(cd.left_only)\n",
        "    # print(\"Right only:\")\n",
        "    # print(cd.right_only)\n",
        "    # print(\"Different files:\")\n",
        "    # print(cd.diff_files)\n",
        "    # print(\"Funny files:\")\n",
        "    # print(cd.funny_files)\n",
        "\n",
        "    for _op, _tp in get_origin_files(cd):\n",
        "        print(_op, _tp)\n",
        "        print(f'MB: {_op.stat().st_size / 1048576:.3f}')\n",
        "        print((1 * (_op.stat().st_size / 1048576)), \"sec\")\n",
        "        # shutil.copy2() でコピーする。\n"
      ],
      "metadata": {
        "id": "KPPnZaHqVRVx"
      },
      "execution_count": 3,
      "outputs": []
    }
  ]
}