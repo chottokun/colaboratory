{
  "nbformat": 4,
  "nbformat_minor": 0,
  "metadata": {
    "colab": {
      "provenance": [],
      "machine_shape": "hm",
      "authorship_tag": "ABX9TyNILCSOorgHx4MwnKzPCaDk"
    },
    "kernelspec": {
      "name": "python3",
      "display_name": "Python 3"
    },
    "language_info": {
      "name": "python"
    },
    "gpuClass": "standard",
    "accelerator": "GPU"
  },
  "cells": [
    {
      "cell_type": "code",
      "source": [
        "!nvidia-smi"
      ],
      "metadata": {
        "colab": {
          "base_uri": "https://localhost:8080/"
        },
        "id": "rHe1o8kvxByP",
        "outputId": "c6a7d8da-1de0-480a-c676-033973122ec3"
      },
      "execution_count": null,
      "outputs": [
        {
          "output_type": "stream",
          "name": "stdout",
          "text": [
            "Wed Jan  4 01:05:32 2023       \n",
            "+-----------------------------------------------------------------------------+\n",
            "| NVIDIA-SMI 460.32.03    Driver Version: 460.32.03    CUDA Version: 11.2     |\n",
            "|-------------------------------+----------------------+----------------------+\n",
            "| GPU  Name        Persistence-M| Bus-Id        Disp.A | Volatile Uncorr. ECC |\n",
            "| Fan  Temp  Perf  Pwr:Usage/Cap|         Memory-Usage | GPU-Util  Compute M. |\n",
            "|                               |                      |               MIG M. |\n",
            "|===============================+======================+======================|\n",
            "|   0  Tesla T4            Off  | 00000000:00:04.0 Off |                    0 |\n",
            "| N/A   54C    P0    28W /  70W |  11524MiB / 15109MiB |      0%      Default |\n",
            "|                               |                      |                  N/A |\n",
            "+-------------------------------+----------------------+----------------------+\n",
            "                                                                               \n",
            "+-----------------------------------------------------------------------------+\n",
            "| Processes:                                                                  |\n",
            "|  GPU   GI   CI        PID   Type   Process name                  GPU Memory |\n",
            "|        ID   ID                                                   Usage      |\n",
            "|=============================================================================|\n",
            "+-----------------------------------------------------------------------------+\n"
          ]
        }
      ]
    },
    {
      "cell_type": "code",
      "source": [
        "from psutil import virtual_memory\n",
        "ram_gb = virtual_memory().total / 1e9\n",
        "print('Your runtime : {:.1f} GB.'.format(ram_gb))\n"
      ],
      "metadata": {
        "colab": {
          "base_uri": "https://localhost:8080/"
        },
        "id": "49q2e-REPFLO",
        "outputId": "e4e0f604-59cf-4d66-9dc8-9dfab82e2e60"
      },
      "execution_count": null,
      "outputs": [
        {
          "output_type": "stream",
          "name": "stdout",
          "text": [
            "Your runtime : 27.3 GB.\n"
          ]
        }
      ]
    },
    {
      "cell_type": "code",
      "source": [
        "!pip install -U pip transformers\n",
        "!pip install sentencepiece"
      ],
      "metadata": {
        "colab": {
          "base_uri": "https://localhost:8080/"
        },
        "id": "_C4Ar--Yw2x6",
        "outputId": "bc007de7-2542-4743-d828-ff3b4c7fc6a0"
      },
      "execution_count": null,
      "outputs": [
        {
          "output_type": "stream",
          "name": "stdout",
          "text": [
            "Looking in indexes: https://pypi.org/simple, https://us-python.pkg.dev/colab-wheels/public/simple/\n",
            "Requirement already satisfied: pip in /usr/local/lib/python3.8/dist-packages (22.3.1)\n",
            "Requirement already satisfied: transformers in /usr/local/lib/python3.8/dist-packages (4.25.1)\n",
            "Requirement already satisfied: regex!=2019.12.17 in /usr/local/lib/python3.8/dist-packages (from transformers) (2022.6.2)\n",
            "Requirement already satisfied: tokenizers!=0.11.3,<0.14,>=0.11.1 in /usr/local/lib/python3.8/dist-packages (from transformers) (0.13.2)\n",
            "Requirement already satisfied: huggingface-hub<1.0,>=0.10.0 in /usr/local/lib/python3.8/dist-packages (from transformers) (0.11.1)\n",
            "Requirement already satisfied: requests in /usr/local/lib/python3.8/dist-packages (from transformers) (2.25.1)\n",
            "Requirement already satisfied: packaging>=20.0 in /usr/local/lib/python3.8/dist-packages (from transformers) (21.3)\n",
            "Requirement already satisfied: numpy>=1.17 in /usr/local/lib/python3.8/dist-packages (from transformers) (1.21.6)\n",
            "Requirement already satisfied: tqdm>=4.27 in /usr/local/lib/python3.8/dist-packages (from transformers) (4.64.1)\n",
            "Requirement already satisfied: filelock in /usr/local/lib/python3.8/dist-packages (from transformers) (3.8.2)\n",
            "Requirement already satisfied: pyyaml>=5.1 in /usr/local/lib/python3.8/dist-packages (from transformers) (6.0)\n",
            "Requirement already satisfied: typing-extensions>=3.7.4.3 in /usr/local/lib/python3.8/dist-packages (from huggingface-hub<1.0,>=0.10.0->transformers) (4.4.0)\n",
            "Requirement already satisfied: pyparsing!=3.0.5,>=2.0.2 in /usr/local/lib/python3.8/dist-packages (from packaging>=20.0->transformers) (3.0.9)\n",
            "Requirement already satisfied: certifi>=2017.4.17 in /usr/local/lib/python3.8/dist-packages (from requests->transformers) (2022.12.7)\n",
            "Requirement already satisfied: chardet<5,>=3.0.2 in /usr/local/lib/python3.8/dist-packages (from requests->transformers) (4.0.0)\n",
            "Requirement already satisfied: idna<3,>=2.5 in /usr/local/lib/python3.8/dist-packages (from requests->transformers) (2.10)\n",
            "Requirement already satisfied: urllib3<1.27,>=1.21.1 in /usr/local/lib/python3.8/dist-packages (from requests->transformers) (1.24.3)\n",
            "\u001b[33mWARNING: Running pip as the 'root' user can result in broken permissions and conflicting behaviour with the system package manager. It is recommended to use a virtual environment instead: https://pip.pypa.io/warnings/venv\u001b[0m\u001b[33m\n",
            "\u001b[0mLooking in indexes: https://pypi.org/simple, https://us-python.pkg.dev/colab-wheels/public/simple/\n",
            "Requirement already satisfied: sentencepiece in /usr/local/lib/python3.8/dist-packages (0.1.97)\n",
            "\u001b[33mWARNING: Running pip as the 'root' user can result in broken permissions and conflicting behaviour with the system package manager. It is recommended to use a virtual environment instead: https://pip.pypa.io/warnings/venv\u001b[0m\u001b[33m\n",
            "\u001b[0m"
          ]
        }
      ]
    },
    {
      "cell_type": "code",
      "execution_count": null,
      "metadata": {
        "id": "G66UOwh1wlLO"
      },
      "outputs": [],
      "source": [
        "# hf_checkpoint = 'facebook/nllb-200-1.3B'\n",
        "# hf_checkpoint = 'facebook/nllb-200-3.3B'\n",
        "# hf_checkpoint = 'facebook/nllb-200-distilled-600M'\n",
        "# hf_checkpoint = 'facebook/nllb-200-distilled-1.3B'\n",
        "# hf_checkpoint = 'thefrigidliquidation/nllb-jaen-1.3B-lightnovels'\n",
        "# hf_checkpoint = 'thefrigidliquidation/nllb-200-distilled-1.3B-bookworm'"
      ]
    },
    {
      "cell_type": "code",
      "source": [
        "ht_ckp = [\n",
        "# 'facebook/nllb-200-3.3B',\n",
        "'facebook/nllb-200-1.3B',\n",
        "'facebook/nllb-200-distilled-600M',\n",
        "'facebook/nllb-200-distilled-1.3B',\n",
        "'thefrigidliquidation/nllb-jaen-1.3B-lightnovels',\n",
        "'thefrigidliquidation/nllb-200-distilled-1.3B-bookworm',   \n",
        "]\n",
        "\n",
        "# 文章の出典（一部引用）\n",
        "# https://news.yahoo.co.jp/pickup/6449584 2023.1.4配信より\n",
        "# https://bwgift.hatenablog.com/\n",
        "# https://news.yahoo.co.jp/articles/87745cf9da199bc5c2f1dc3871144214f0f8c8f4 2023.1.3. 6時 配信より\n",
        "# https://ja.wikipedia.org/wiki/%E8%87%AA%E7%84%B6%E8%A8%80%E8%AA%9E%E5%87%A6%E7%90%86\n",
        "\n",
        "trg_texts = [\n",
        "    \"北海道や東北は日本海側を中心に雪が降り、ふぶく所もあるでしょう。これまでの大雪で積雪が急増している所があります。屋根から落ちてくる雪やなだれに注意してください。\",\n",
        "    \"最初は、つかみどころのない映画だなと見始めたが、素敵な音楽が散りばめられた音楽と青春映画だった。「映画」としてみると評価はしにくいけれども、音楽と青春のもどかしさを愛でる作品として素敵な印象を残した。\",\n",
        "    \"今夜日付が変わった後、4日(水)の未明から明け方にかけて、三大流星群のひとつ「しぶんぎ座流星群」が見頃を迎えます。\",\n",
        "    \"自然言語処理（しぜんげんごしょり、英語: natural language processing、略称：NLP）は、人間が日常的に使っている自然言語をコンピュータに処理させる一連の技術であり、人工知能と言語学の一分野である。\",\n",
        " ]\n"
      ],
      "metadata": {
        "id": "q1io23SHU7QX"
      },
      "execution_count": null,
      "outputs": []
    },
    {
      "cell_type": "code",
      "source": [
        "from transformers import AutoTokenizer, AutoModelForSeq2SeqLM, pipeline\n",
        "import torch\n",
        "\n",
        "device = 0 if torch.cuda.is_available() else -1\n"
      ],
      "metadata": {
        "id": "TrJQsTxzVXpP"
      },
      "execution_count": null,
      "outputs": []
    },
    {
      "cell_type": "code",
      "source": [
        "for checkpoint in ht_ckp:\n",
        "  tokenizer = AutoTokenizer.from_pretrained(checkpoint)\n",
        "  model = AutoModelForSeq2SeqLM.from_pretrained(checkpoint)\n",
        "  input_lang='jpn_Jpan'\n",
        "  target_lang = 'eng_Latn'\n",
        "  translation_pipeline = pipeline('translation', \n",
        "                                  model=model, \n",
        "                                  tokenizer=tokenizer, \n",
        "                                  src_lang=input_lang, \n",
        "                                  tgt_lang=target_lang, \n",
        "                                  max_length = 400,\n",
        "                                  device=device)\n",
        "  \n",
        "  for text in trg_texts:\n",
        "    %time output = translation_pipeline(text)\n",
        "    print(checkpoint, output[0]['translation_text'])"
      ],
      "metadata": {
        "colab": {
          "base_uri": "https://localhost:8080/"
        },
        "id": "9JHoTwekw1Gv",
        "outputId": "f9233c37-b9ee-4ecf-8644-5c2ee7135ca7"
      },
      "execution_count": null,
      "outputs": [
        {
          "output_type": "stream",
          "name": "stdout",
          "text": [
            "CPU times: user 1.27 s, sys: 12.7 ms, total: 1.29 s\n",
            "Wall time: 1.28 s\n",
            "facebook/nllb-200-1.3B There are places where snow falls and blows, especially in the northern part of the Hokkaido and Tōhoku regions, and on the Japanese side. There are places where snow has been increasing rapidly due to heavy snowfall. Be careful of snow falling from the roof.\n",
            "CPU times: user 1.29 s, sys: 2.63 ms, total: 1.29 s\n",
            "Wall time: 1.29 s\n",
            "facebook/nllb-200-1.3B At first, I thought it was a film that was hard to find, but it was a film of music and youth, with beautiful music scattered around it. It was difficult to evaluate it as a \"film\", but it left a good impression as a work that loves music and youthfulness.\n",
            "CPU times: user 807 ms, sys: 3.84 ms, total: 811 ms\n",
            "Wall time: 808 ms\n",
            "facebook/nllb-200-1.3B After the date change tonight, from the 4th of October, at dawn, we will see one of the three major meteor clusters, the \"Cosmic Cluster\".\n",
            "CPU times: user 770 ms, sys: 0 ns, total: 770 ms\n",
            "Wall time: 766 ms\n",
            "facebook/nllb-200-1.3B Natural language processing (NLP) is a set of techniques for processing natural languages used by humans on a daily basis. It is a branch of artificial intelligence and linguistics.\n",
            "CPU times: user 517 ms, sys: 4.27 ms, total: 521 ms\n",
            "Wall time: 517 ms\n",
            "facebook/nllb-200-distilled-600M There are also snowfalls and snowfalls along the northern and northern shores of the Japanese Sea. There are also snowfalls that have been the most severe ever.\n",
            "CPU times: user 490 ms, sys: 1.43 ms, total: 492 ms\n",
            "Wall time: 490 ms\n",
            "facebook/nllb-200-distilled-600M At first, I started to think it was a film that was untraceable, but it was a film of music and youth that was filled with beautiful music.\n",
            "CPU times: user 513 ms, sys: 1.48 ms, total: 515 ms\n",
            "Wall time: 512 ms\n",
            "facebook/nllb-200-distilled-600M After the date changes tonight, four days from the dawn of the water, we're going to see one of the three largest galaxies, the Big Bang galaxy.\n",
            "CPU times: user 517 ms, sys: 2.4 ms, total: 520 ms\n",
            "Wall time: 518 ms\n",
            "facebook/nllb-200-distilled-600M Natural language processing (NLP) is a set of technologies that enable computers to process natural language that humans use on a daily basis. It is a branch of artificial intelligence and linguistics.\n",
            "CPU times: user 1.23 s, sys: 5.64 ms, total: 1.23 s\n",
            "Wall time: 1.22 s\n",
            "facebook/nllb-200-distilled-1.3B In Hokkaido and Tōhoku, snow will fall and snow will fall, especially on the Sea of Japan side. There are places where heavy snow has so far caused a sharp increase in snowfall. Be careful of snow and hail falling from the roof.\n",
            "CPU times: user 1.2 s, sys: 2.6 ms, total: 1.2 s\n",
            "Wall time: 1.2 s\n",
            "facebook/nllb-200-distilled-1.3B At first, I thought it was a film that was untouchable, but it was a music and youth film with beautiful music. It was a film that was hard to judge, but it left a beautiful impression as a work that loved music and youthful fragility.\n",
            "CPU times: user 908 ms, sys: 5.26 ms, total: 913 ms\n",
            "Wall time: 910 ms\n",
            "facebook/nllb-200-distilled-1.3B After the date change tonight, the dawn of the fourth day (Water) will be the time to see one of the three major meteor groups, the \"Tsuga-te-yo meteor group\".\n",
            "CPU times: user 783 ms, sys: 2.41 ms, total: 786 ms\n",
            "Wall time: 783 ms\n",
            "facebook/nllb-200-distilled-1.3B Natural language processing (NLP) is a set of techniques for processing natural language used by humans in everyday life by computers. It is a branch of artificial intelligence and linguistics.\n",
            "CPU times: user 2.69 s, sys: 10 ms, total: 2.7 s\n",
            "Wall time: 2.69 s\n",
            "thefrigidliquidation/nllb-jaen-1.3B-lightnovels Snow falls in Hokkaido and Tohoku, mostly on the Sea of Japan side, and there are probably some spots where it's puffy. There are places where the heavy snowfall has caused a sudden increase in snow accumulation. Be careful of snow and drool falling from rooftops.\n",
            "CPU times: user 2.13 s, sys: 412 µs, total: 2.13 s\n",
            "Wall time: 2.13 s\n",
            "thefrigidliquidation/nllb-jaen-1.3B-lightnovels At first, I thought it was a pretty clumsy movie, but it was a youth movie with music and wonderful music. It was hard to judge it as a movie, but it left a wonderful impression as a work of love for music and the frustration of youth.\n",
            "CPU times: user 1.42 s, sys: 1.95 ms, total: 1.42 s\n",
            "Wall time: 1.42 s\n",
            "thefrigidliquidation/nllb-jaen-1.3B-lightnovels After the date changes tonight, from dawn on the fourth day (Wednesday), one of the three major meteor shower, the Shibungchi Meteor Shower, will be visible.\n",
            "CPU times: user 2.31 s, sys: 5.68 ms, total: 2.31 s\n",
            "Wall time: 2.31 s\n",
            "thefrigidliquidation/nllb-jaen-1.3B-lightnovels Natural language processing (Shizen gen-gosori, English: natural language processing, abbreviated as NLPP) is a series of technology that allows computers to process the natural language humans use on a daily basis, and is a branch of artificial intelligence and linguistics.\n",
            "CPU times: user 2.43 s, sys: 9.95 ms, total: 2.44 s\n",
            "Wall time: 2.43 s\n",
            "thefrigidliquidation/nllb-200-distilled-1.3B-bookworm There will be some places where snow falls and swells, especially on the northern and northeastern sides of the city, and there are some places where the previously heavy snow has caused a huge buildup of snow. Pay attention to the snow and mist falling from the roof.\n",
            "CPU times: user 2.89 s, sys: 1.4 ms, total: 2.89 s\n",
            "Wall time: 2.88 s\n",
            "thefrigidliquidation/nllb-200-distilled-1.3B-bookworm At first, I started to see it as a movie with no real foundation, but it was a music and youth movie with wonderful music scattered all over it--although I found it hard to judge it as a \"movie,\" it left a wonderful impression as a love story of music and the resilience of youth.\n",
            "CPU times: user 1.37 s, sys: 3.33 ms, total: 1.37 s\n",
            "Wall time: 1.37 s\n",
            "thefrigidliquidation/nllb-200-distilled-1.3B-bookworm After the date change tonight, it will be time to see the Star Cluster, one of the three major meteor groups, from the evening of the fourth day (Water) to dawn.\n",
            "CPU times: user 1.42 s, sys: 4.32 ms, total: 1.43 s\n",
            "Wall time: 1.42 s\n",
            "thefrigidliquidation/nllb-200-distilled-1.3B-bookworm Natural language processing (NLP) is a set of techniques for converting the natural language used by humans on a daily basis into a computer, and is a branch of artificial intelligence and linguistics.\n"
          ]
        }
      ]
    },
    {
      "cell_type": "markdown",
      "source": [
        "# Google翻訳  \n",
        "- \"In Hokkaido and Tohoku, it will snow mainly on the Sea of ​​Japan side, and there will be heavy snowfall. There are places where the snowfall is increasing rapidly due to the heavy snowfall. Be careful of snow and avalanches falling from the roof. Please give me.\",\n",
        "\n",
        "- \"At first, I thought it was an elusive movie, but it turned out to be a music and youth film with wonderful music. It left a wonderful impression as a beloved work. \",\n",
        "\n",
        "- After the date changes tonight, the Quadrantid meteor shower, one of the three major meteor showers, will reach its peak from dawn to dawn on Wednesday, April 4.\n",
        "\n",
        "- Natural language processing (English: natural language processing, abbreviation: NLP) is a series of technologies that allow computers to process the natural language that humans use on a daily basis, and is a part of artificial intelligence and linguistics. field."
      ],
      "metadata": {
        "id": "wzBL0wZOTH4n"
      }
    },
    {
      "cell_type": "code",
      "source": [
        "# 参考文献\n",
        "# https://huggingface.co/thefrigidliquidation\n",
        "# https://huggingface.co/spaces/Narrativaai/NLLB-Translator/blob/main/app.py"
      ],
      "metadata": {
        "id": "6SWnF5IxyCXY"
      },
      "execution_count": 1,
      "outputs": []
    }
  ]
}