{
  "nbformat": 4,
  "nbformat_minor": 0,
  "metadata": {
    "colab": {
      "provenance": [],
      "gpuType": "T4",
      "authorship_tag": "ABX9TyOgyVfDEEhHtv62fteuRkwp",
      "include_colab_link": true
    },
    "kernelspec": {
      "name": "python3",
      "display_name": "Python 3"
    },
    "language_info": {
      "name": "python"
    },
    "accelerator": "GPU"
  },
  "cells": [
    {
      "cell_type": "markdown",
      "metadata": {
        "id": "view-in-github",
        "colab_type": "text"
      },
      "source": [
        "<a href=\"https://colab.research.google.com/github/chottokun/colaboratory/blob/main/faster_whisper.ipynb\" target=\"_parent\"><img src=\"https://colab.research.google.com/assets/colab-badge.svg\" alt=\"Open In Colab\"/></a>"
      ]
    },
    {
      "cell_type": "code",
      "execution_count": null,
      "metadata": {
        "id": "LfZmvgW7PHRn"
      },
      "outputs": [],
      "source": [
        "# 参考にさせていただいたサイト　https://zenn.dev/tsuzukia/articles/1381e6c9a88577\n",
        "!pip install yt-dlp faster_whisper"
      ]
    },
    {
      "cell_type": "code",
      "source": [
        "import subprocess\n",
        "from faster_whisper import WhisperModel\n",
        "import time\n",
        "\n",
        "YOUTUBE_ID = \"hOYzB3Qa9DE\" # Youtube ID\n",
        "AUDIO_FILE_NAME = f\"{YOUTUBE_ID}.mp3\"\n",
        "\n",
        "# Download audio from Youtube\n",
        "def dl_yt(yt_url):\n",
        "    subprocess.run(f\"yt-dlp -x --audio-format mp3 -o {AUDIO_FILE_NAME} {yt_url}\", shell=True)\n",
        "\n",
        "dl_yt(f\"https://youtu.be/{YOUTUBE_ID}\")"
      ],
      "metadata": {
        "id": "dj7ktOyKPNu9"
      },
      "execution_count": null,
      "outputs": []
    },
    {
      "cell_type": "code",
      "source": [
        "def get_model():\n",
        "\n",
        "  model_size = \"large-v2\"\n",
        "  devices_compute = [[\"cuda\", \"float16\"],\n",
        "                     [\"cuda\", \"int8_float16\"],\n",
        "                     [\"cuda\", \"int8\"],\n",
        "                     [\"cpu\", \"int8\"],\n",
        "  ]\n",
        "\n",
        "  for i,j in devices_compute:\n",
        "    yield i,j, WhisperModel(model_size, device=i, compute_type=j)"
      ],
      "metadata": {
        "id": "HovmA-hjTtlE"
      },
      "execution_count": null,
      "outputs": []
    },
    {
      "cell_type": "code",
      "source": [
        "%%time\n",
        "\n",
        "for i,j, model in get_model():\n",
        "\n",
        "  time_sta = time.perf_counter()\n",
        "\n",
        "  segments, info = model.transcribe(AUDIO_FILE_NAME, beam_size=5)\n",
        "  print(\"Detected language '%s' with probability %f\" % (info.language, info.language_probability))\n",
        "  for segment in segments:\n",
        "      print(\"[%.2fs -> %.2fs] %s\" % (segment.start, segment.end, segment.text))\n",
        "\n",
        "  time_end = time.perf_counter()\n",
        "  tim = time_end- time_sta\n",
        "\n",
        "  print(i,j)\n",
        "  print(tim, \" Sec\")\n",
        "  print(\"---------------------------\")"
      ],
      "metadata": {
        "id": "V5VLz1qASYdG"
      },
      "execution_count": null,
      "outputs": []
    }
  ]
}