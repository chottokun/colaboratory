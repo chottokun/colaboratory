{
  "nbformat": 4,
  "nbformat_minor": 0,
  "metadata": {
    "colab": {
      "provenance": [],
      "gpuType": "T4",
      "authorship_tag": "ABX9TyM7kLHMb+ZpeZG1Gw3Dzl7G",
      "include_colab_link": true
    },
    "kernelspec": {
      "name": "python3",
      "display_name": "Python 3"
    },
    "language_info": {
      "name": "python"
    },
    "accelerator": "GPU"
  },
  "cells": [
    {
      "cell_type": "markdown",
      "metadata": {
        "id": "view-in-github",
        "colab_type": "text"
      },
      "source": [
        "<a href=\"https://colab.research.google.com/github/chottokun/colaboratory/blob/main/llama_cpp_python%E3%81%A7youri%E3%82%92%E5%8B%95%E3%81%8B%E3%81%97%E3%81%A6%E3%81%BF%E3%82%8B.ipynb\" target=\"_parent\"><img src=\"https://colab.research.google.com/assets/colab-badge.svg\" alt=\"Open In Colab\"/></a>"
      ]
    },
    {
      "cell_type": "code",
      "execution_count": 1,
      "metadata": {
        "colab": {
          "base_uri": "https://localhost:8080/"
        },
        "id": "xpHQc61331aD",
        "outputId": "d6d05963-fcd8-4467-a0c7-ea8ad2c27b72"
      },
      "outputs": [
        {
          "output_type": "stream",
          "name": "stdout",
          "text": [
            "Requirement already satisfied: llama-cpp-python in /usr/local/lib/python3.10/dist-packages (0.2.11)\n",
            "Requirement already satisfied: typing-extensions>=4.5.0 in /usr/local/lib/python3.10/dist-packages (from llama-cpp-python) (4.5.0)\n",
            "Requirement already satisfied: numpy>=1.20.0 in /usr/local/lib/python3.10/dist-packages (from llama-cpp-python) (1.23.5)\n",
            "Requirement already satisfied: diskcache>=5.6.1 in /usr/local/lib/python3.10/dist-packages (from llama-cpp-python) (5.6.3)\n"
          ]
        }
      ],
      "source": [
        "!CMAKE_ARGS=\"-DLLAMA_CUBLAS=on\" pip install llama-cpp-python"
      ]
    },
    {
      "cell_type": "code",
      "source": [
        "!wget -c https://huggingface.co/mmnga/rinna-youri-7b-instruction-gguf/resolve/main/rinna-youri-7b-instruction-q4_K_M.gguf"
      ],
      "metadata": {
        "colab": {
          "base_uri": "https://localhost:8080/"
        },
        "id": "wupZdfSA56zD",
        "outputId": "2767ad08-3d36-4d7b-e29a-f48fa29f00c1"
      },
      "execution_count": 2,
      "outputs": [
        {
          "output_type": "stream",
          "name": "stdout",
          "text": [
            "--2023-11-01 13:25:00--  https://huggingface.co/mmnga/rinna-youri-7b-instruction-gguf/resolve/main/rinna-youri-7b-instruction-q4_K_M.gguf\n",
            "Resolving huggingface.co (huggingface.co)... 18.164.174.55, 18.164.174.118, 18.164.174.17, ...\n",
            "Connecting to huggingface.co (huggingface.co)|18.164.174.55|:443... connected.\n",
            "HTTP request sent, awaiting response... 302 Found\n",
            "Location: https://cdn-lfs-us-1.huggingface.co/repos/63/6f/636fb1629fd807886aaf6394a031f886c99e12982b74d0e04a895a70b58af48e/37016d74c75e6e32f65fd38fa2b2f62b294892d8dd9c955896275e803f24086b?response-content-disposition=attachment%3B+filename*%3DUTF-8%27%27rinna-youri-7b-instruction-q4_K_M.gguf%3B+filename%3D%22rinna-youri-7b-instruction-q4_K_M.gguf%22%3B&Expires=1699104300&Policy=eyJTdGF0ZW1lbnQiOlt7IkNvbmRpdGlvbiI6eyJEYXRlTGVzc1RoYW4iOnsiQVdTOkVwb2NoVGltZSI6MTY5OTEwNDMwMH19LCJSZXNvdXJjZSI6Imh0dHBzOi8vY2RuLWxmcy11cy0xLmh1Z2dpbmdmYWNlLmNvL3JlcG9zLzYzLzZmLzYzNmZiMTYyOWZkODA3ODg2YWFmNjM5NGEwMzFmODg2Yzk5ZTEyOTgyYjc0ZDBlMDRhODk1YTcwYjU4YWY0OGUvMzcwMTZkNzRjNzVlNmUzMmY2NWZkMzhmYTJiMmY2MmIyOTQ4OTJkOGRkOWM5NTU4OTYyNzVlODAzZjI0MDg2Yj9yZXNwb25zZS1jb250ZW50LWRpc3Bvc2l0aW9uPSoifV19&Signature=i8OIx90%7EQQl60Z4jwvgZL0AcvAhodivUG85qSo4Pfgzka%7Ej1OGAzmfMp2WRku-RVy%7EUhYWgFUQHHF1R9KgRENiSywjXBE-CBsK%7E%7Eqq%7EoNg2yfcVl-IoD4mVQvUcQbPzPzecX8nxIDiV-s8rzsdYwqN%7EEjj6Ng%7EOwqdOJAimGD5DcdNxtyI3ERjjrXB5msd34cu2Vng0UzySQSMBGvIN0-Isn1NnxK4RuaDa66Oe2rYvj74NkdSWJdklgqIzjgGk-VVBwkNYxjzCELBuv2hULzL-Q2-bEERPQhAF4vbPuE99IQOWWj9GYe8rWuxZFPcnz0%7EAkHQRruMqtvwW2I5jr0g__&Key-Pair-Id=KCD77M1F0VK2B [following]\n",
            "--2023-11-01 13:25:00--  https://cdn-lfs-us-1.huggingface.co/repos/63/6f/636fb1629fd807886aaf6394a031f886c99e12982b74d0e04a895a70b58af48e/37016d74c75e6e32f65fd38fa2b2f62b294892d8dd9c955896275e803f24086b?response-content-disposition=attachment%3B+filename*%3DUTF-8%27%27rinna-youri-7b-instruction-q4_K_M.gguf%3B+filename%3D%22rinna-youri-7b-instruction-q4_K_M.gguf%22%3B&Expires=1699104300&Policy=eyJTdGF0ZW1lbnQiOlt7IkNvbmRpdGlvbiI6eyJEYXRlTGVzc1RoYW4iOnsiQVdTOkVwb2NoVGltZSI6MTY5OTEwNDMwMH19LCJSZXNvdXJjZSI6Imh0dHBzOi8vY2RuLWxmcy11cy0xLmh1Z2dpbmdmYWNlLmNvL3JlcG9zLzYzLzZmLzYzNmZiMTYyOWZkODA3ODg2YWFmNjM5NGEwMzFmODg2Yzk5ZTEyOTgyYjc0ZDBlMDRhODk1YTcwYjU4YWY0OGUvMzcwMTZkNzRjNzVlNmUzMmY2NWZkMzhmYTJiMmY2MmIyOTQ4OTJkOGRkOWM5NTU4OTYyNzVlODAzZjI0MDg2Yj9yZXNwb25zZS1jb250ZW50LWRpc3Bvc2l0aW9uPSoifV19&Signature=i8OIx90%7EQQl60Z4jwvgZL0AcvAhodivUG85qSo4Pfgzka%7Ej1OGAzmfMp2WRku-RVy%7EUhYWgFUQHHF1R9KgRENiSywjXBE-CBsK%7E%7Eqq%7EoNg2yfcVl-IoD4mVQvUcQbPzPzecX8nxIDiV-s8rzsdYwqN%7EEjj6Ng%7EOwqdOJAimGD5DcdNxtyI3ERjjrXB5msd34cu2Vng0UzySQSMBGvIN0-Isn1NnxK4RuaDa66Oe2rYvj74NkdSWJdklgqIzjgGk-VVBwkNYxjzCELBuv2hULzL-Q2-bEERPQhAF4vbPuE99IQOWWj9GYe8rWuxZFPcnz0%7EAkHQRruMqtvwW2I5jr0g__&Key-Pair-Id=KCD77M1F0VK2B\n",
            "Resolving cdn-lfs-us-1.huggingface.co (cdn-lfs-us-1.huggingface.co)... 18.155.192.106, 18.155.192.99, 18.155.192.68, ...\n",
            "Connecting to cdn-lfs-us-1.huggingface.co (cdn-lfs-us-1.huggingface.co)|18.155.192.106|:443... connected.\n",
            "HTTP request sent, awaiting response... 416 Requested Range Not Satisfiable\n",
            "\n",
            "    The file is already fully retrieved; nothing to do.\n",
            "\n"
          ]
        }
      ]
    },
    {
      "cell_type": "code",
      "source": [
        "from llama_cpp import Llama\n",
        "llm = Llama(model_path=\"rinna-youri-7b-instruction-q4_K_M.gguf\", n_gpu_layers=40)"
      ],
      "metadata": {
        "colab": {
          "base_uri": "https://localhost:8080/"
        },
        "id": "mjUAZeGg8KWA",
        "outputId": "4d0c9da5-e2b7-49aa-bef2-751802890e8d"
      },
      "execution_count": 3,
      "outputs": [
        {
          "output_type": "stream",
          "name": "stderr",
          "text": [
            "AVX = 1 | AVX2 = 1 | AVX512 = 0 | AVX512_VBMI = 0 | AVX512_VNNI = 0 | FMA = 1 | NEON = 0 | ARM_FMA = 0 | F16C = 1 | FP16_VA = 0 | WASM_SIMD = 0 | BLAS = 1 | SSE3 = 1 | SSSE3 = 1 | VSX = 0 | \n"
          ]
        }
      ]
    },
    {
      "cell_type": "code",
      "source": [
        "def generate_text(prompt):\n",
        "  output = llm(\n",
        "      prompt,max_tokens=512,stop=[\"### 指示:\", \"### 入力:\", \"### 応答:\"],echo=True,\n",
        "  )\n",
        "  # print(output)\n",
        "  ans = ans=output[\"choices\"][0][\"text\"].split(\"### 応答:\")[1].split(\"###\")[0]\n",
        "  return ans"
      ],
      "metadata": {
        "id": "6XGaqN4V4jaV"
      },
      "execution_count": 4,
      "outputs": []
    },
    {
      "cell_type": "code",
      "source": [
        "instruction = \"次の日本語を英語に翻訳してください。\"\n",
        "input = \"大規模言語モデル（だいきぼげんごモデル、英: large language model、LLM）は、多数のパラメータ（数千万から数十億）を持つ人工ニューラルネットワークで構成されるコンピュータ言語モデルで、膨大なラベルなしテキストを使用して自己教師あり学習または半教師あり学習によって訓練が行われる。\"\n",
        "prompt = f\"\"\"\n",
        "以下は、タスクを説明する指示と、文脈のある入力の組み合わせです。要求を適切に満たす応答を書きなさい。\n",
        "\n",
        "### 指示:\n",
        "{instruction}\n",
        "\n",
        "### 入力:\n",
        "{input}\n",
        "\n",
        "### 応答:\n",
        "\"\"\"\n",
        "\n",
        "print(generate_text(prompt))"
      ],
      "metadata": {
        "colab": {
          "base_uri": "https://localhost:8080/"
        },
        "id": "0Om6n9Ur6lhP",
        "outputId": "f0b25760-f92b-4162-9061-fb43551dc9b9"
      },
      "execution_count": 5,
      "outputs": [
        {
          "output_type": "stream",
          "name": "stdout",
          "text": [
            "\n",
            " Large language models (LLM) are computer language models composed of artificial neural networks with millions to billions parameters that can be trained using self-supervised or semi-supervised learning by using vast unlabeled text.\n"
          ]
        }
      ]
    },
    {
      "cell_type": "code",
      "source": [
        "instruction = \"SWOT分析を詳細に実施してください。\"\n",
        "input = \"自動車の中古車販売ビジネスについて\"\n",
        "prompt = f\"\"\"\n",
        "以下は、タスクを説明する指示と、文脈のある入力の組み合わせです。要求を適切に満たす応答を書きなさい。\n",
        "\n",
        "### 指示:\n",
        "{instruction}\n",
        "\n",
        "### 入力:\n",
        "{input}\n",
        "\n",
        "### 応答:\n",
        "\"\"\"\n",
        "\n",
        "print(generate_text(prompt))"
      ],
      "metadata": {
        "colab": {
          "base_uri": "https://localhost:8080/"
        },
        "id": "jSuiv2ep8hnN",
        "outputId": "1cdc6699-01de-4303-a2be-48d6509526e3"
      },
      "execution_count": 6,
      "outputs": [
        {
          "output_type": "stream",
          "name": "stderr",
          "text": [
            "Llama.generate: prefix-match hit\n"
          ]
        },
        {
          "output_type": "stream",
          "name": "stdout",
          "text": [
            "\n",
            " 強み（Strength）：豊富な在庫と信頼できる供給チェーン。車の質は高く、整備されています。値段も手ごろだが、より安全かつ高品質な中古車を求める人にとっては、最適な選択である。\n",
            "弱点（Weaknesses）：在庫管理の規模経済が必要だが、裕福でない消費者にとっては、高額な車へのローンや保険料を支払う能力が低く、在庫リスクも大きい。\n",
            "機会（Opportunities）： 新興国における中古自動車需要は非常に高いため、適切な戦略をとれば成長が見込めます\n"
          ]
        }
      ]
    },
    {
      "cell_type": "code",
      "source": [
        "instruction = \"ふたりの会話を一言で表現してください。\"\n",
        "input = \"\"\"\n",
        "やまだ：おはようございます。\n",
        "たなか：おはようございます。やまださん、私は、たなかです。\n",
        "やまだ：はじめまして。たなかです。インドから来ました。どうぞよろしくお願いします。\n",
        "たなか：たなかです。よろしくお願いします。\n",
        "やまだ：失礼ですが、おとしは？\n",
        "たなか：24歳です。やまださんは？おいくつですか？\n",
        "やまだ：私は37歳です。\n",
        "たなか：24歳、37歳の二人ですね。\n",
        "やまだ：ええ。よろしくお願いします。\n",
        "\"\"\"\n",
        "prompt = f\"\"\"\n",
        "以下は、タスクを説明する指示と、文脈のある入力の組み合わせです。要求を適切に満たす応答を書きなさい。\n",
        "\n",
        "### 指示:\n",
        "{instruction}\n",
        "\n",
        "### 入力:\n",
        "{input}\n",
        "\n",
        "### 応答:\n",
        "\"\"\"\n",
        "print(generate_text(prompt))"
      ],
      "metadata": {
        "colab": {
          "base_uri": "https://localhost:8080/"
        },
        "id": "fhEdH16E9t7I",
        "outputId": "0db69f67-b488-469b-b0d4-9fba88d05fe8"
      },
      "execution_count": 7,
      "outputs": [
        {
          "output_type": "stream",
          "name": "stderr",
          "text": [
            "Llama.generate: prefix-match hit\n"
          ]
        },
        {
          "output_type": "stream",
          "name": "stdout",
          "text": [
            "\n",
            " これは最高に楽しみな会話だ！\n"
          ]
        }
      ]
    }
  ]
}