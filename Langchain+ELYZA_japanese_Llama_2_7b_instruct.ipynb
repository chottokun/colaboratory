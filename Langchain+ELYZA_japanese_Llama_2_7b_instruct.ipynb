{
  "nbformat": 4,
  "nbformat_minor": 0,
  "metadata": {
    "colab": {
      "provenance": [],
      "gpuType": "T4",
      "authorship_tag": "ABX9TyOtswRD7o69ON6Nc/quRmaj",
      "include_colab_link": true
    },
    "kernelspec": {
      "name": "python3",
      "display_name": "Python 3"
    },
    "language_info": {
      "name": "python"
    },
    "accelerator": "GPU",
    "widgets": {
      "application/vnd.jupyter.widget-state+json": {
        "7f22f84c133148339a0605ab2c12a0b5": {
          "model_module": "@jupyter-widgets/controls",
          "model_name": "HBoxModel",
          "model_module_version": "1.5.0",
          "state": {
            "_dom_classes": [],
            "_model_module": "@jupyter-widgets/controls",
            "_model_module_version": "1.5.0",
            "_model_name": "HBoxModel",
            "_view_count": null,
            "_view_module": "@jupyter-widgets/controls",
            "_view_module_version": "1.5.0",
            "_view_name": "HBoxView",
            "box_style": "",
            "children": [
              "IPY_MODEL_90bf3491f1f6400396196fc1641d03fa",
              "IPY_MODEL_30ebd6959bc24ba397d1b80f9c72d441",
              "IPY_MODEL_a893998829f04ef8b10892dd7a1cdd35"
            ],
            "layout": "IPY_MODEL_f0cb4efdc1c447958f37a71fc7539637"
          }
        },
        "90bf3491f1f6400396196fc1641d03fa": {
          "model_module": "@jupyter-widgets/controls",
          "model_name": "HTMLModel",
          "model_module_version": "1.5.0",
          "state": {
            "_dom_classes": [],
            "_model_module": "@jupyter-widgets/controls",
            "_model_module_version": "1.5.0",
            "_model_name": "HTMLModel",
            "_view_count": null,
            "_view_module": "@jupyter-widgets/controls",
            "_view_module_version": "1.5.0",
            "_view_name": "HTMLView",
            "description": "",
            "description_tooltip": null,
            "layout": "IPY_MODEL_872eebdab9b94ec2af2fc1a2678acf1c",
            "placeholder": "​",
            "style": "IPY_MODEL_d56dfad2d3354af39b038be636cc496e",
            "value": "Loading checkpoint shards: 100%"
          }
        },
        "30ebd6959bc24ba397d1b80f9c72d441": {
          "model_module": "@jupyter-widgets/controls",
          "model_name": "FloatProgressModel",
          "model_module_version": "1.5.0",
          "state": {
            "_dom_classes": [],
            "_model_module": "@jupyter-widgets/controls",
            "_model_module_version": "1.5.0",
            "_model_name": "FloatProgressModel",
            "_view_count": null,
            "_view_module": "@jupyter-widgets/controls",
            "_view_module_version": "1.5.0",
            "_view_name": "ProgressView",
            "bar_style": "success",
            "description": "",
            "description_tooltip": null,
            "layout": "IPY_MODEL_c4547217ae2041beac7003017dc16acc",
            "max": 2,
            "min": 0,
            "orientation": "horizontal",
            "style": "IPY_MODEL_39a81ce2e55240af95681d5aba991f5a",
            "value": 2
          }
        },
        "a893998829f04ef8b10892dd7a1cdd35": {
          "model_module": "@jupyter-widgets/controls",
          "model_name": "HTMLModel",
          "model_module_version": "1.5.0",
          "state": {
            "_dom_classes": [],
            "_model_module": "@jupyter-widgets/controls",
            "_model_module_version": "1.5.0",
            "_model_name": "HTMLModel",
            "_view_count": null,
            "_view_module": "@jupyter-widgets/controls",
            "_view_module_version": "1.5.0",
            "_view_name": "HTMLView",
            "description": "",
            "description_tooltip": null,
            "layout": "IPY_MODEL_d68ddcdaef5c446fada9d0700814d312",
            "placeholder": "​",
            "style": "IPY_MODEL_6ac8962e563f4c39ad8ef184c16ffdc6",
            "value": " 2/2 [01:22&lt;00:00, 37.42s/it]"
          }
        },
        "f0cb4efdc1c447958f37a71fc7539637": {
          "model_module": "@jupyter-widgets/base",
          "model_name": "LayoutModel",
          "model_module_version": "1.2.0",
          "state": {
            "_model_module": "@jupyter-widgets/base",
            "_model_module_version": "1.2.0",
            "_model_name": "LayoutModel",
            "_view_count": null,
            "_view_module": "@jupyter-widgets/base",
            "_view_module_version": "1.2.0",
            "_view_name": "LayoutView",
            "align_content": null,
            "align_items": null,
            "align_self": null,
            "border": null,
            "bottom": null,
            "display": null,
            "flex": null,
            "flex_flow": null,
            "grid_area": null,
            "grid_auto_columns": null,
            "grid_auto_flow": null,
            "grid_auto_rows": null,
            "grid_column": null,
            "grid_gap": null,
            "grid_row": null,
            "grid_template_areas": null,
            "grid_template_columns": null,
            "grid_template_rows": null,
            "height": null,
            "justify_content": null,
            "justify_items": null,
            "left": null,
            "margin": null,
            "max_height": null,
            "max_width": null,
            "min_height": null,
            "min_width": null,
            "object_fit": null,
            "object_position": null,
            "order": null,
            "overflow": null,
            "overflow_x": null,
            "overflow_y": null,
            "padding": null,
            "right": null,
            "top": null,
            "visibility": null,
            "width": null
          }
        },
        "872eebdab9b94ec2af2fc1a2678acf1c": {
          "model_module": "@jupyter-widgets/base",
          "model_name": "LayoutModel",
          "model_module_version": "1.2.0",
          "state": {
            "_model_module": "@jupyter-widgets/base",
            "_model_module_version": "1.2.0",
            "_model_name": "LayoutModel",
            "_view_count": null,
            "_view_module": "@jupyter-widgets/base",
            "_view_module_version": "1.2.0",
            "_view_name": "LayoutView",
            "align_content": null,
            "align_items": null,
            "align_self": null,
            "border": null,
            "bottom": null,
            "display": null,
            "flex": null,
            "flex_flow": null,
            "grid_area": null,
            "grid_auto_columns": null,
            "grid_auto_flow": null,
            "grid_auto_rows": null,
            "grid_column": null,
            "grid_gap": null,
            "grid_row": null,
            "grid_template_areas": null,
            "grid_template_columns": null,
            "grid_template_rows": null,
            "height": null,
            "justify_content": null,
            "justify_items": null,
            "left": null,
            "margin": null,
            "max_height": null,
            "max_width": null,
            "min_height": null,
            "min_width": null,
            "object_fit": null,
            "object_position": null,
            "order": null,
            "overflow": null,
            "overflow_x": null,
            "overflow_y": null,
            "padding": null,
            "right": null,
            "top": null,
            "visibility": null,
            "width": null
          }
        },
        "d56dfad2d3354af39b038be636cc496e": {
          "model_module": "@jupyter-widgets/controls",
          "model_name": "DescriptionStyleModel",
          "model_module_version": "1.5.0",
          "state": {
            "_model_module": "@jupyter-widgets/controls",
            "_model_module_version": "1.5.0",
            "_model_name": "DescriptionStyleModel",
            "_view_count": null,
            "_view_module": "@jupyter-widgets/base",
            "_view_module_version": "1.2.0",
            "_view_name": "StyleView",
            "description_width": ""
          }
        },
        "c4547217ae2041beac7003017dc16acc": {
          "model_module": "@jupyter-widgets/base",
          "model_name": "LayoutModel",
          "model_module_version": "1.2.0",
          "state": {
            "_model_module": "@jupyter-widgets/base",
            "_model_module_version": "1.2.0",
            "_model_name": "LayoutModel",
            "_view_count": null,
            "_view_module": "@jupyter-widgets/base",
            "_view_module_version": "1.2.0",
            "_view_name": "LayoutView",
            "align_content": null,
            "align_items": null,
            "align_self": null,
            "border": null,
            "bottom": null,
            "display": null,
            "flex": null,
            "flex_flow": null,
            "grid_area": null,
            "grid_auto_columns": null,
            "grid_auto_flow": null,
            "grid_auto_rows": null,
            "grid_column": null,
            "grid_gap": null,
            "grid_row": null,
            "grid_template_areas": null,
            "grid_template_columns": null,
            "grid_template_rows": null,
            "height": null,
            "justify_content": null,
            "justify_items": null,
            "left": null,
            "margin": null,
            "max_height": null,
            "max_width": null,
            "min_height": null,
            "min_width": null,
            "object_fit": null,
            "object_position": null,
            "order": null,
            "overflow": null,
            "overflow_x": null,
            "overflow_y": null,
            "padding": null,
            "right": null,
            "top": null,
            "visibility": null,
            "width": null
          }
        },
        "39a81ce2e55240af95681d5aba991f5a": {
          "model_module": "@jupyter-widgets/controls",
          "model_name": "ProgressStyleModel",
          "model_module_version": "1.5.0",
          "state": {
            "_model_module": "@jupyter-widgets/controls",
            "_model_module_version": "1.5.0",
            "_model_name": "ProgressStyleModel",
            "_view_count": null,
            "_view_module": "@jupyter-widgets/base",
            "_view_module_version": "1.2.0",
            "_view_name": "StyleView",
            "bar_color": null,
            "description_width": ""
          }
        },
        "d68ddcdaef5c446fada9d0700814d312": {
          "model_module": "@jupyter-widgets/base",
          "model_name": "LayoutModel",
          "model_module_version": "1.2.0",
          "state": {
            "_model_module": "@jupyter-widgets/base",
            "_model_module_version": "1.2.0",
            "_model_name": "LayoutModel",
            "_view_count": null,
            "_view_module": "@jupyter-widgets/base",
            "_view_module_version": "1.2.0",
            "_view_name": "LayoutView",
            "align_content": null,
            "align_items": null,
            "align_self": null,
            "border": null,
            "bottom": null,
            "display": null,
            "flex": null,
            "flex_flow": null,
            "grid_area": null,
            "grid_auto_columns": null,
            "grid_auto_flow": null,
            "grid_auto_rows": null,
            "grid_column": null,
            "grid_gap": null,
            "grid_row": null,
            "grid_template_areas": null,
            "grid_template_columns": null,
            "grid_template_rows": null,
            "height": null,
            "justify_content": null,
            "justify_items": null,
            "left": null,
            "margin": null,
            "max_height": null,
            "max_width": null,
            "min_height": null,
            "min_width": null,
            "object_fit": null,
            "object_position": null,
            "order": null,
            "overflow": null,
            "overflow_x": null,
            "overflow_y": null,
            "padding": null,
            "right": null,
            "top": null,
            "visibility": null,
            "width": null
          }
        },
        "6ac8962e563f4c39ad8ef184c16ffdc6": {
          "model_module": "@jupyter-widgets/controls",
          "model_name": "DescriptionStyleModel",
          "model_module_version": "1.5.0",
          "state": {
            "_model_module": "@jupyter-widgets/controls",
            "_model_module_version": "1.5.0",
            "_model_name": "DescriptionStyleModel",
            "_view_count": null,
            "_view_module": "@jupyter-widgets/base",
            "_view_module_version": "1.2.0",
            "_view_name": "StyleView",
            "description_width": ""
          }
        }
      }
    }
  },
  "cells": [
    {
      "cell_type": "markdown",
      "metadata": {
        "id": "view-in-github",
        "colab_type": "text"
      },
      "source": [
        "<a href=\"https://colab.research.google.com/github/chottokun/colaboratory/blob/main/Langchain%2BELYZA_japanese_Llama_2_7b_instruct.ipynb\" target=\"_parent\"><img src=\"https://colab.research.google.com/assets/colab-badge.svg\" alt=\"Open In Colab\"/></a>"
      ]
    },
    {
      "cell_type": "code",
      "execution_count": null,
      "metadata": {
        "id": "T6DcF6O1yuPZ"
      },
      "outputs": [],
      "source": [
        "!pip install -q transformers accelerate bitsandbytes sentence_transformers\n",
        "!pip install -q langchain pypdf tiktoken faiss-cpu\n",
        "# faiss-gpu はGPUの節約wのために使わない。"
      ]
    },
    {
      "cell_type": "code",
      "source": [
        "from transformers import AutoModelForCausalLM, AutoTokenizer\n",
        "import torch\n",
        "\n",
        "# LLM\n",
        "tokenizer = AutoTokenizer.from_pretrained(\n",
        "    \"elyza/ELYZA-japanese-Llama-2-7b-instruct\"\n",
        ")\n",
        "model = AutoModelForCausalLM.from_pretrained(\n",
        "    \"elyza/ELYZA-japanese-Llama-2-7b-instruct\",\n",
        "    torch_dtype=torch.float16,\n",
        "    device_map=\"auto\"\n",
        ")"
      ],
      "metadata": {
        "colab": {
          "base_uri": "https://localhost:8080/",
          "height": 49,
          "referenced_widgets": [
            "7f22f84c133148339a0605ab2c12a0b5",
            "90bf3491f1f6400396196fc1641d03fa",
            "30ebd6959bc24ba397d1b80f9c72d441",
            "a893998829f04ef8b10892dd7a1cdd35",
            "f0cb4efdc1c447958f37a71fc7539637",
            "872eebdab9b94ec2af2fc1a2678acf1c",
            "d56dfad2d3354af39b038be636cc496e",
            "c4547217ae2041beac7003017dc16acc",
            "39a81ce2e55240af95681d5aba991f5a",
            "d68ddcdaef5c446fada9d0700814d312",
            "6ac8962e563f4c39ad8ef184c16ffdc6"
          ]
        },
        "id": "eSZvsxCPZgZE",
        "outputId": "12ca20c9-dc04-4be6-82e9-0ccc546d700b"
      },
      "execution_count": null,
      "outputs": [
        {
          "output_type": "display_data",
          "data": {
            "text/plain": [
              "Loading checkpoint shards:   0%|          | 0/2 [00:00<?, ?it/s]"
            ],
            "application/vnd.jupyter.widget-view+json": {
              "version_major": 2,
              "version_minor": 0,
              "model_id": "7f22f84c133148339a0605ab2c12a0b5"
            }
          },
          "metadata": {}
        }
      ]
    },
    {
      "cell_type": "code",
      "source": [
        "# MIT License\n",
        "# https://gist.github.com/alfredplpl\n",
        "# https://gist.github.com/alfredplpl/57a6338bce8a00de9c9d95bbf1a6d06d\n",
        "\n",
        "from transformers import AutoModelForCausalLM, AutoTokenizer, pipeline\n",
        "from langchain.document_loaders import PyPDFLoader\n",
        "from langchain.text_splitter import CharacterTextSplitter\n",
        "from langchain.vectorstores import FAISS\n",
        "from langchain.chains import RetrievalQA\n",
        "from langchain.embeddings import HuggingFaceEmbeddings\n",
        "from langchain.llms.huggingface_pipeline import HuggingFacePipeline\n",
        "from langchain import PromptTemplate\n",
        "\n",
        "\n",
        "# Prompt\n",
        "B_INST, E_INST = \"[INST]\", \"[/INST]\"\n",
        "B_SYS, E_SYS = \"<<SYS>>\\n\", \"\\n<</SYS>>\\n\\n\"\n",
        "DEFAULT_SYSTEM_PROMPT = (\n",
        "    \"以下の英文で記述された論文の一部をよく読み、\"\n",
        "    \"ユーザーからの質問に日本語で答えてください。\"\n",
        ")\n",
        "text = \"{context}\\nユーザからの質問は次のとおりです。{question}\"\n",
        "template = \"{bos_token}{b_inst} {system}{prompt} {e_inst} \".format(\n",
        "    bos_token=tokenizer.bos_token,\n",
        "    b_inst=B_INST,\n",
        "    system=f\"{B_SYS}{DEFAULT_SYSTEM_PROMPT}{E_SYS}\",\n",
        "    prompt=text,\n",
        "    e_inst=E_INST,\n",
        ")\n",
        "\n",
        "# load pdf\n",
        "loader = PyPDFLoader(\"https://arxiv.org/pdf/2303.13495.pdf\")\n",
        "documents = loader.load()\n",
        "\n",
        "#\n",
        "print(documents)\n",
        "\n",
        "# split text\n",
        "text_splitter = CharacterTextSplitter.from_tiktoken_encoder(\n",
        "    separator = \"\\n\",\n",
        "    chunk_size=50,\n",
        "    chunk_overlap=0\n",
        ")\n",
        "texts = text_splitter.split_documents(documents)\n",
        "\n",
        "\n",
        "# embeddings\n",
        "embeddings = HuggingFaceEmbeddings(model_name=\"intfloat/multilingual-e5-large\",\n",
        "                                   model_kwargs = {'device': 'cpu'}\n",
        "                                   )\n",
        "\n",
        "db = FAISS.from_documents(texts, embeddings)\n",
        "\n",
        "# Retrival\n",
        "retriever = db.as_retriever(search_kwargs={\"k\": 3})\n",
        "# model = AutoModelForCausalLM.from_pretrained(model_id,load_in_8bit=True)\n",
        "pipe = pipeline(\"text-generation\", model=model, tokenizer=tokenizer, max_new_tokens=512)\n",
        "PROMPT = PromptTemplate(template=template,\n",
        "                        input_variables=[\"question\",\"context\"],\n",
        "                        template_format=\"f-string\"\n",
        "                        )\n",
        "chain_type_kwargs = {\"prompt\": PROMPT}\n",
        "qa = RetrievalQA.from_chain_type(\n",
        "    llm=HuggingFacePipeline(pipeline=pipe),\n",
        "    retriever=retriever,\n",
        "    chain_type=\"stuff\",\n",
        "    return_source_documents=False,\n",
        "    chain_type_kwargs=chain_type_kwargs)\n",
        "\n",
        "# Run :)\n",
        "result = qa.run(\"この論文の学術的貢献を要約しなさい。\")\n",
        "print(result)"
      ],
      "metadata": {
        "colab": {
          "base_uri": "https://localhost:8080/"
        },
        "id": "Np1HkLBCrwVg",
        "outputId": "4f519eec-67c1-4468-e620-89f2d0038371"
      },
      "execution_count": null,
      "outputs": [
        {
          "output_type": "stream",
          "name": "stderr",
          "text": [
            "WARNING:langchain.text_splitter:Created a chunk of size 175, which is longer than the specified 50\n",
            "WARNING:langchain.text_splitter:Created a chunk of size 61, which is longer than the specified 50\n",
            "WARNING:langchain.text_splitter:Created a chunk of size 81, which is longer than the specified 50\n",
            "WARNING:langchain.text_splitter:Created a chunk of size 445, which is longer than the specified 50\n",
            "WARNING:langchain.text_splitter:Created a chunk of size 143, which is longer than the specified 50\n",
            "WARNING:langchain.text_splitter:Created a chunk of size 101, which is longer than the specified 50\n",
            "WARNING:langchain.text_splitter:Created a chunk of size 71, which is longer than the specified 50\n",
            "WARNING:langchain.text_splitter:Created a chunk of size 70, which is longer than the specified 50\n",
            "WARNING:langchain.text_splitter:Created a chunk of size 80, which is longer than the specified 50\n",
            "WARNING:langchain.text_splitter:Created a chunk of size 63, which is longer than the specified 50\n",
            "WARNING:langchain.text_splitter:Created a chunk of size 73, which is longer than the specified 50\n",
            "WARNING:langchain.text_splitter:Created a chunk of size 84, which is longer than the specified 50\n",
            "WARNING:langchain.text_splitter:Created a chunk of size 73, which is longer than the specified 50\n",
            "WARNING:langchain.text_splitter:Created a chunk of size 454, which is longer than the specified 50\n",
            "WARNING:langchain.text_splitter:Created a chunk of size 62, which is longer than the specified 50\n",
            "WARNING:langchain.text_splitter:Created a chunk of size 83, which is longer than the specified 50\n",
            "WARNING:langchain.text_splitter:Created a chunk of size 68, which is longer than the specified 50\n",
            "WARNING:langchain.text_splitter:Created a chunk of size 72, which is longer than the specified 50\n",
            "WARNING:langchain.text_splitter:Created a chunk of size 54, which is longer than the specified 50\n",
            "WARNING:langchain.text_splitter:Created a chunk of size 77, which is longer than the specified 50\n",
            "WARNING:langchain.text_splitter:Created a chunk of size 108, which is longer than the specified 50\n",
            "WARNING:langchain.text_splitter:Created a chunk of size 51, which is longer than the specified 50\n",
            "WARNING:langchain.text_splitter:Created a chunk of size 103, which is longer than the specified 50\n",
            "WARNING:langchain.text_splitter:Created a chunk of size 319, which is longer than the specified 50\n",
            "WARNING:langchain.text_splitter:Created a chunk of size 494, which is longer than the specified 50\n",
            "WARNING:langchain.text_splitter:Created a chunk of size 254, which is longer than the specified 50\n",
            "WARNING:langchain.text_splitter:Created a chunk of size 317, which is longer than the specified 50\n"
          ]
        },
        {
          "output_type": "stream",
          "name": "stdout",
          "text": [
            " 学術的貢献は以下の通りです。\n",
            "\n",
            "- 新しい問題、関係逆転、を学び、関係の導き出しから関係のプリセットを学習する手法を提案しました。\n",
            "- 関係の導き出しと関係のプリセットの両者が必要であることを詳細な実験から示しました。\n",
            "- これらの手法は、関係の導き出しと関係のプリセットを学習するReVerseフレームワークを提案しました。\n",
            "- これらの手法は、関係の導き出しと関係のプリセットの両者が重要であることを示す詳細な実験を行いました。\n",
            "- これらの手法は、関係の導き出しと関係のプリセットを学習するReVerseフレームワークを提案しました。\n",
            "\n",
            "これらの手法は、関係の導き出しと関係のプリセットの両者が重要であることを示す詳細な実験を行いました。\n",
            " 与えられた論文の結論を要約いたします。\n",
            "\n",
            "論文は、動物の名前を収録したデータセットを用いて、動物の名前を聞いた際に人がどのように応じるかを研究しています。その結果、動物の種類によって人の応答が異なることが明らかとなりました。この研究の結果は、動物の種類を識別するための新たな手法の開発に役立つ可能性があります。\n"
          ]
        }
      ]
    },
    {
      "cell_type": "code",
      "source": [
        "%%time\n",
        "result = qa.run(\"この論文の結論を要約しなさい。\")\n",
        "print(result)"
      ],
      "metadata": {
        "colab": {
          "base_uri": "https://localhost:8080/"
        },
        "id": "VsPjDUL-3GcM",
        "outputId": "1b5deef2-ce79-491b-f90c-a0720885af5c"
      },
      "execution_count": null,
      "outputs": [
        {
          "output_type": "stream",
          "name": "stdout",
          "text": [
            " 与えられた論文の結論を要約いたします。\n",
            "\n",
            "論文は、動物の名前を収録したデータセットを用いて、動物の名前を聞いた際に人がどのように応じるかを研究しています。その結果、動物の種類によって人の応答が異なることが明らかとなりました。この研究の結果は、動物の種類を識別するための新たな手法の開発に役立つ可能性があります。\n"
          ]
        }
      ]
    },
    {
      "cell_type": "code",
      "source": [
        "%%time\n",
        "result = qa.run(\"この論文ではどんなデータセットを用いましたか？\")\n",
        "print(result)"
      ],
      "metadata": {
        "colab": {
          "base_uri": "https://localhost:8080/"
        },
        "id": "IU2j6jEQ3btM",
        "outputId": "b6525704-01ff-4497-b07d-f83e4bfd9b21"
      },
      "execution_count": null,
      "outputs": [
        {
          "output_type": "stream",
          "name": "stdout",
          "text": [
            " 与えられた論文の一部をよく読み、ユーザーからの質問に回答いたします。\n",
            "\n",
            "論文では、データセット「t-SNE」を用いています。データセットは以下のリンクから入手することができます。\n",
            "\n",
            "http://www.jmlr.org/papers/volume9/villegas08a/villegas08a.zip\n",
            "\n",
            "また、データセット「bilistic models」は以下のリンクから入手することができます。\n",
            "\n",
            "https://arxiv.org/abs/2112.00390\n",
            "CPU times: user 12 s, sys: 40.3 ms, total: 12 s\n",
            "Wall time: 17.9 s\n"
          ]
        }
      ]
    },
    {
      "cell_type": "code",
      "source": [
        "%%time\n",
        "result = qa.run(\"この論文のPreposition Priorとは？\")\n",
        "print(result)"
      ],
      "metadata": {
        "colab": {
          "base_uri": "https://localhost:8080/"
        },
        "id": "w57dtZXN3wga",
        "outputId": "2b27868e-df68-4a65-dca4-61c016b2e925"
      },
      "execution_count": null,
      "outputs": [
        {
          "output_type": "stream",
          "name": "stdout",
          "text": [
            " 承知しました。ユーザーからの質問に回答いたします。\n",
            "\n",
            "Preposition Priorとは、前置詞のリストです。このリストを元に、関係補完の際に関係補完の候補を生成することができるというものです。\n",
            "CPU times: user 7.09 s, sys: 22.9 ms, total: 7.11 s\n",
            "Wall time: 9.61 s\n"
          ]
        }
      ]
    },
    {
      "cell_type": "code",
      "source": [
        "%%time\n",
        "result = qa.run(\"この論文のBenchmarkの結果をまとめてください。\")\n",
        "print(result)"
      ],
      "metadata": {
        "colab": {
          "base_uri": "https://localhost:8080/"
        },
        "id": "x5qDJD7I4Gei",
        "outputId": "c11a8375-3770-4c0c-c1fb-a49145ce925d"
      },
      "execution_count": null,
      "outputs": [
        {
          "output_type": "stream",
          "name": "stdout",
          "text": [
            " 承知しました。\n",
            "\n",
            "Benchmarkの結果として、以下のような情報が得られました。\n",
            "\n",
            "- ステアリングとノイズ除去の各モデルの性能を比較した結果、ステアリングのモデルの方がノイズ除去のモデルよりも性能が良いことがわかりました。\n",
            "- ステアリングとノイズ除去の各モデルの性能を、異なるパラメータの設定で評価した結果、パラメータの設定によって性能が大きく変わることがわかりました。\n",
            "\n",
            "これらの結果は、ReVersion Benchmarkの詳細について記述された英文の一部であり、全文は以下のリンクからご覧ください。\n",
            "\n",
            "[リンク]\n",
            "CPU times: user 16.6 s, sys: 70 ms, total: 16.7 s\n",
            "Wall time: 16.9 s\n"
          ]
        }
      ]
    },
    {
      "cell_type": "code",
      "source": [
        "%%time\n",
        "result = qa.run(\"この論文を易しくまとめてください。\")\n",
        "print(result)"
      ],
      "metadata": {
        "colab": {
          "base_uri": "https://localhost:8080/"
        },
        "id": "V1rnEsPP4oAV",
        "outputId": "bf24ba12-98fc-4678-ae2c-116af431f784"
      },
      "execution_count": null,
      "outputs": [
        {
          "output_type": "stream",
          "name": "stdout",
          "text": [
            " 与えられた論文を易しくまとめます。\n",
            "\n",
            "この論文は、画像認識のためのディープラーニングの手法について述べています。\n",
            "\n",
            "まず、画像を認識するためには、画像を特徴量に変換する必要があります。この特徴量の変換を行うのが、「コースディスクリプション」と「ノイズレベル」の2つのモジュールです。\n",
            "\n",
            "次に、特徴量に変換した画像を、ディープラーニングのニューラルネットワークに入力します。この入力画像を、適切なサイズに括ります。これを「サンプリング」と呼びます。\n",
            "\n",
            "最後に、ニューラルネットワークが学習した後、順を追って画像を認識します。\n",
            "\n",
            "以上が、この論文の要点です。\n",
            "CPU times: user 20 s, sys: 93.8 ms, total: 20.1 s\n",
            "Wall time: 29.2 s\n"
          ]
        }
      ]
    },
    {
      "cell_type": "code",
      "source": [
        "%%time\n",
        "result = qa.run(\"この論文の主張を詳細にまとめてください。\")\n",
        "print(result)"
      ],
      "metadata": {
        "colab": {
          "base_uri": "https://localhost:8080/"
        },
        "id": "Me18vxyE4vhE",
        "outputId": "2e77a1ac-3bae-4f56-d07e-1b6ec3a1fe06"
      },
      "execution_count": null,
      "outputs": [
        {
          "output_type": "stream",
          "name": "stdout",
          "text": [
            " 与えられた論文の主張を詳細にまとめます。\n",
            "\n",
            "論文は、犬や猿などの動物を用いて、画像認識の研究を行っています。その際、犬や猿はそれぞれ「犬<R>犬」や「猿<R>猿」という関係性を持っていることがわかります。また、人や木などの「コースディスクリプション」を持っていることもわかります。これらの情報を用いて、画像認識のアルゴリズムを改良することで、より正確な認識を行うことができることが示されています。\n",
            "CPU times: user 15.5 s, sys: 64.9 ms, total: 15.6 s\n",
            "Wall time: 18.3 s\n"
          ]
        }
      ]
    }
  ]
}