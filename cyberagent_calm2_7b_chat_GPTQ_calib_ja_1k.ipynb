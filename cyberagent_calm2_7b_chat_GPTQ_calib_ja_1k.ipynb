{
  "nbformat": 4,
  "nbformat_minor": 0,
  "metadata": {
    "colab": {
      "provenance": [],
      "gpuType": "T4",
      "authorship_tag": "ABX9TyMx9J5r7DLdChsXsH+XQYEQ",
      "include_colab_link": true
    },
    "kernelspec": {
      "name": "python3",
      "display_name": "Python 3"
    },
    "language_info": {
      "name": "python"
    },
    "accelerator": "GPU"
  },
  "cells": [
    {
      "cell_type": "markdown",
      "metadata": {
        "id": "view-in-github",
        "colab_type": "text"
      },
      "source": [
        "<a href=\"https://colab.research.google.com/github/chottokun/colaboratory/blob/main/cyberagent_calm2_7b_chat_GPTQ_calib_ja_1k.ipynb\" target=\"_parent\"><img src=\"https://colab.research.google.com/assets/colab-badge.svg\" alt=\"Open In Colab\"/></a>"
      ]
    },
    {
      "cell_type": "code",
      "execution_count": 1,
      "metadata": {
        "colab": {
          "base_uri": "https://localhost:8080/"
        },
        "id": "G8lPE_RsHb7R",
        "outputId": "8babb5ab-a8b4-4424-ae5a-4ef7c97a9ba4"
      },
      "outputs": [
        {
          "output_type": "stream",
          "name": "stdout",
          "text": [
            "Requirement already satisfied: auto-gptq[triton]==0.4.2 in /usr/local/lib/python3.10/dist-packages (0.4.2)\n",
            "Requirement already satisfied: transformers in /usr/local/lib/python3.10/dist-packages (4.35.0)\n",
            "Requirement already satisfied: accelerate>=0.19.0 in /usr/local/lib/python3.10/dist-packages (from auto-gptq[triton]==0.4.2) (0.24.1)\n",
            "Requirement already satisfied: datasets in /usr/local/lib/python3.10/dist-packages (from auto-gptq[triton]==0.4.2) (2.14.6)\n",
            "Requirement already satisfied: numpy in /usr/local/lib/python3.10/dist-packages (from auto-gptq[triton]==0.4.2) (1.23.5)\n",
            "Requirement already satisfied: rouge in /usr/local/lib/python3.10/dist-packages (from auto-gptq[triton]==0.4.2) (1.0.1)\n",
            "Requirement already satisfied: torch>=1.13.0 in /usr/local/lib/python3.10/dist-packages (from auto-gptq[triton]==0.4.2) (2.0.1)\n",
            "Requirement already satisfied: safetensors in /usr/local/lib/python3.10/dist-packages (from auto-gptq[triton]==0.4.2) (0.4.0)\n",
            "Requirement already satisfied: peft in /usr/local/lib/python3.10/dist-packages (from auto-gptq[triton]==0.4.2) (0.6.0)\n",
            "Requirement already satisfied: triton==2.0.0 in /usr/local/lib/python3.10/dist-packages (from auto-gptq[triton]==0.4.2) (2.0.0)\n",
            "Requirement already satisfied: cmake in /usr/local/lib/python3.10/dist-packages (from triton==2.0.0->auto-gptq[triton]==0.4.2) (3.27.7)\n",
            "Requirement already satisfied: filelock in /usr/local/lib/python3.10/dist-packages (from triton==2.0.0->auto-gptq[triton]==0.4.2) (3.12.4)\n",
            "Requirement already satisfied: lit in /usr/local/lib/python3.10/dist-packages (from triton==2.0.0->auto-gptq[triton]==0.4.2) (17.0.4)\n",
            "Requirement already satisfied: huggingface-hub<1.0,>=0.16.4 in /usr/local/lib/python3.10/dist-packages (from transformers) (0.17.3)\n",
            "Requirement already satisfied: packaging>=20.0 in /usr/local/lib/python3.10/dist-packages (from transformers) (23.2)\n",
            "Requirement already satisfied: pyyaml>=5.1 in /usr/local/lib/python3.10/dist-packages (from transformers) (6.0.1)\n",
            "Requirement already satisfied: regex!=2019.12.17 in /usr/local/lib/python3.10/dist-packages (from transformers) (2023.6.3)\n",
            "Requirement already satisfied: requests in /usr/local/lib/python3.10/dist-packages (from transformers) (2.31.0)\n",
            "Requirement already satisfied: tokenizers<0.15,>=0.14 in /usr/local/lib/python3.10/dist-packages (from transformers) (0.14.1)\n",
            "Requirement already satisfied: tqdm>=4.27 in /usr/local/lib/python3.10/dist-packages (from transformers) (4.66.1)\n",
            "Requirement already satisfied: psutil in /usr/local/lib/python3.10/dist-packages (from accelerate>=0.19.0->auto-gptq[triton]==0.4.2) (5.9.5)\n",
            "Requirement already satisfied: fsspec in /usr/local/lib/python3.10/dist-packages (from huggingface-hub<1.0,>=0.16.4->transformers) (2023.6.0)\n",
            "Requirement already satisfied: typing-extensions>=3.7.4.3 in /usr/local/lib/python3.10/dist-packages (from huggingface-hub<1.0,>=0.16.4->transformers) (4.5.0)\n",
            "Requirement already satisfied: sympy in /usr/local/lib/python3.10/dist-packages (from torch>=1.13.0->auto-gptq[triton]==0.4.2) (1.12)\n",
            "Requirement already satisfied: networkx in /usr/local/lib/python3.10/dist-packages (from torch>=1.13.0->auto-gptq[triton]==0.4.2) (3.2)\n",
            "Requirement already satisfied: jinja2 in /usr/local/lib/python3.10/dist-packages (from torch>=1.13.0->auto-gptq[triton]==0.4.2) (3.1.2)\n",
            "Requirement already satisfied: nvidia-cuda-nvrtc-cu11==11.7.99 in /usr/local/lib/python3.10/dist-packages (from torch>=1.13.0->auto-gptq[triton]==0.4.2) (11.7.99)\n",
            "Requirement already satisfied: nvidia-cuda-runtime-cu11==11.7.99 in /usr/local/lib/python3.10/dist-packages (from torch>=1.13.0->auto-gptq[triton]==0.4.2) (11.7.99)\n",
            "Requirement already satisfied: nvidia-cuda-cupti-cu11==11.7.101 in /usr/local/lib/python3.10/dist-packages (from torch>=1.13.0->auto-gptq[triton]==0.4.2) (11.7.101)\n",
            "Requirement already satisfied: nvidia-cudnn-cu11==8.5.0.96 in /usr/local/lib/python3.10/dist-packages (from torch>=1.13.0->auto-gptq[triton]==0.4.2) (8.5.0.96)\n",
            "Requirement already satisfied: nvidia-cublas-cu11==11.10.3.66 in /usr/local/lib/python3.10/dist-packages (from torch>=1.13.0->auto-gptq[triton]==0.4.2) (11.10.3.66)\n",
            "Requirement already satisfied: nvidia-cufft-cu11==10.9.0.58 in /usr/local/lib/python3.10/dist-packages (from torch>=1.13.0->auto-gptq[triton]==0.4.2) (10.9.0.58)\n",
            "Requirement already satisfied: nvidia-curand-cu11==10.2.10.91 in /usr/local/lib/python3.10/dist-packages (from torch>=1.13.0->auto-gptq[triton]==0.4.2) (10.2.10.91)\n",
            "Requirement already satisfied: nvidia-cusolver-cu11==11.4.0.1 in /usr/local/lib/python3.10/dist-packages (from torch>=1.13.0->auto-gptq[triton]==0.4.2) (11.4.0.1)\n",
            "Requirement already satisfied: nvidia-cusparse-cu11==11.7.4.91 in /usr/local/lib/python3.10/dist-packages (from torch>=1.13.0->auto-gptq[triton]==0.4.2) (11.7.4.91)\n",
            "Requirement already satisfied: nvidia-nccl-cu11==2.14.3 in /usr/local/lib/python3.10/dist-packages (from torch>=1.13.0->auto-gptq[triton]==0.4.2) (2.14.3)\n",
            "Requirement already satisfied: nvidia-nvtx-cu11==11.7.91 in /usr/local/lib/python3.10/dist-packages (from torch>=1.13.0->auto-gptq[triton]==0.4.2) (11.7.91)\n",
            "Requirement already satisfied: setuptools in /usr/local/lib/python3.10/dist-packages (from nvidia-cublas-cu11==11.10.3.66->torch>=1.13.0->auto-gptq[triton]==0.4.2) (67.7.2)\n",
            "Requirement already satisfied: wheel in /usr/local/lib/python3.10/dist-packages (from nvidia-cublas-cu11==11.10.3.66->torch>=1.13.0->auto-gptq[triton]==0.4.2) (0.41.2)\n",
            "Requirement already satisfied: pyarrow>=8.0.0 in /usr/local/lib/python3.10/dist-packages (from datasets->auto-gptq[triton]==0.4.2) (9.0.0)\n",
            "Requirement already satisfied: dill<0.3.8,>=0.3.0 in /usr/local/lib/python3.10/dist-packages (from datasets->auto-gptq[triton]==0.4.2) (0.3.7)\n",
            "Requirement already satisfied: pandas in /usr/local/lib/python3.10/dist-packages (from datasets->auto-gptq[triton]==0.4.2) (1.5.3)\n",
            "Requirement already satisfied: xxhash in /usr/local/lib/python3.10/dist-packages (from datasets->auto-gptq[triton]==0.4.2) (3.4.1)\n",
            "Requirement already satisfied: multiprocess in /usr/local/lib/python3.10/dist-packages (from datasets->auto-gptq[triton]==0.4.2) (0.70.15)\n",
            "Requirement already satisfied: aiohttp in /usr/local/lib/python3.10/dist-packages (from datasets->auto-gptq[triton]==0.4.2) (3.8.6)\n",
            "Requirement already satisfied: charset-normalizer<4,>=2 in /usr/local/lib/python3.10/dist-packages (from requests->transformers) (3.3.1)\n",
            "Requirement already satisfied: idna<4,>=2.5 in /usr/local/lib/python3.10/dist-packages (from requests->transformers) (3.4)\n",
            "Requirement already satisfied: urllib3<3,>=1.21.1 in /usr/local/lib/python3.10/dist-packages (from requests->transformers) (2.0.7)\n",
            "Requirement already satisfied: certifi>=2017.4.17 in /usr/local/lib/python3.10/dist-packages (from requests->transformers) (2023.7.22)\n",
            "Requirement already satisfied: six in /usr/local/lib/python3.10/dist-packages (from rouge->auto-gptq[triton]==0.4.2) (1.16.0)\n",
            "Requirement already satisfied: attrs>=17.3.0 in /usr/local/lib/python3.10/dist-packages (from aiohttp->datasets->auto-gptq[triton]==0.4.2) (23.1.0)\n",
            "Requirement already satisfied: multidict<7.0,>=4.5 in /usr/local/lib/python3.10/dist-packages (from aiohttp->datasets->auto-gptq[triton]==0.4.2) (6.0.4)\n",
            "Requirement already satisfied: async-timeout<5.0,>=4.0.0a3 in /usr/local/lib/python3.10/dist-packages (from aiohttp->datasets->auto-gptq[triton]==0.4.2) (4.0.3)\n",
            "Requirement already satisfied: yarl<2.0,>=1.0 in /usr/local/lib/python3.10/dist-packages (from aiohttp->datasets->auto-gptq[triton]==0.4.2) (1.9.2)\n",
            "Requirement already satisfied: frozenlist>=1.1.1 in /usr/local/lib/python3.10/dist-packages (from aiohttp->datasets->auto-gptq[triton]==0.4.2) (1.4.0)\n",
            "Requirement already satisfied: aiosignal>=1.1.2 in /usr/local/lib/python3.10/dist-packages (from aiohttp->datasets->auto-gptq[triton]==0.4.2) (1.3.1)\n",
            "Requirement already satisfied: MarkupSafe>=2.0 in /usr/local/lib/python3.10/dist-packages (from jinja2->torch>=1.13.0->auto-gptq[triton]==0.4.2) (2.1.3)\n",
            "Requirement already satisfied: python-dateutil>=2.8.1 in /usr/local/lib/python3.10/dist-packages (from pandas->datasets->auto-gptq[triton]==0.4.2) (2.8.2)\n",
            "Requirement already satisfied: pytz>=2020.1 in /usr/local/lib/python3.10/dist-packages (from pandas->datasets->auto-gptq[triton]==0.4.2) (2023.3.post1)\n",
            "Requirement already satisfied: mpmath>=0.19 in /usr/local/lib/python3.10/dist-packages (from sympy->torch>=1.13.0->auto-gptq[triton]==0.4.2) (1.3.0)\n"
          ]
        }
      ],
      "source": [
        "!pip install auto-gptq[triton]==0.4.2 transformers"
      ]
    },
    {
      "cell_type": "code",
      "source": [
        "from auto_gptq import AutoGPTQForCausalLM, BaseQuantizeConfig\n",
        "from transformers import AutoTokenizer\n",
        "\n",
        "model_name_or_path = \"mmnga/cyberagent-calm2-7b-chat-GPTQ-calib-ja-1k\"\n",
        "\n",
        "# Tokenizer\n",
        "tokenizer = AutoTokenizer.from_pretrained(model_name_or_path, trust_remote_code=True)\n",
        "\n",
        "# Model\n",
        "model = AutoGPTQForCausalLM.from_quantized(model_name_or_path, use_safetensors=True, device=\"cuda:0\")\n",
        "\n",
        "# Your test prompt\n",
        "prompt = \"\"\"\n",
        "USER: 今日の夕食のレシピを紹介してください。\n",
        "ASSISTANT: \"\"\"\n",
        "print(tokenizer.decode(model.generate(**tokenizer(prompt, return_tensors=\"pt\").to(model.device), max_length=128)[0]))\n"
      ],
      "metadata": {
        "colab": {
          "base_uri": "https://localhost:8080/"
        },
        "id": "6MwXyCqrHmTM",
        "outputId": "c8e4701d-588b-4a4c-edc7-4f7150fb621d"
      },
      "execution_count": 2,
      "outputs": [
        {
          "output_type": "stream",
          "name": "stderr",
          "text": [
            "WARNING:auto_gptq.nn_modules.fused_llama_mlp:skip module injection for FusedLlamaMLPForQuantizedModel not support integrate without triton yet.\n"
          ]
        },
        {
          "output_type": "stream",
          "name": "stdout",
          "text": [
            "\n",
            "USER: 今日の夕食のレシピを紹介してください。\n",
            "ASSISTANT: 今日は、鶏肉と野菜の炒め物を作ります。\n",
            "\n",
            "【材料】\n",
            "・鶏もも肉　150g\n",
            "・玉ねぎ　1/2個\n",
            "・ピーマン　1個\n",
            "・にんじん　1/2本\n",
            "・キャベツ　1/4個\n",
            "・にんにく　1かけ\n",
            "・しょうが　1かけ\n",
            "・塩　小さじ1\n",
            "・こしょう　少々\n",
            "・サラダ油　大さじ1\n",
            "・醤油　大さじ1\n",
            "・酒　大さじ\n"
          ]
        }
      ]
    },
    {
      "cell_type": "code",
      "source": [
        "%%time\n",
        "# Your test prompt\n",
        "prompt = \"\"\"\n",
        "USER: 明日の東京の天気は？\n",
        "ASSISTANT: \"\"\"\n",
        "print(tokenizer.decode(model.generate(**tokenizer(prompt, return_tensors=\"pt\").to(model.device), max_length=128)[0]))\n"
      ],
      "metadata": {
        "colab": {
          "base_uri": "https://localhost:8080/"
        },
        "id": "1qCciBMRJ4Kx",
        "outputId": "330e8842-110b-4d5d-f763-c4bab9619ae0"
      },
      "execution_count": 3,
      "outputs": [
        {
          "output_type": "stream",
          "name": "stdout",
          "text": [
            "\n",
            "USER: 明日の東京の天気は？\n",
            "ASSISTANT: 申し訳ありませんが、私は現在の天気予報を提供することはできません。天気予報は、天候、風向、風速、湿度、気温、降水確率など、多くの情報に基づいています。これらの情報を取得するには、天気予報を提供するウェブサイトやアプリケーションを使用することをお勧めします。<|endoftext|>\n",
            "CPU times: user 2.25 s, sys: 18.8 ms, total: 2.27 s\n",
            "Wall time: 2.43 s\n"
          ]
        }
      ]
    },
    {
      "cell_type": "code",
      "source": [
        "%%time\n",
        "# Your test prompt\n",
        "prompt = \"\"\"\n",
        "USER: GGML/GGUF/GPTQの違いは？\n",
        "ASSISTANT: \"\"\"\n",
        "print(tokenizer.decode(model.generate(**tokenizer(prompt, return_tensors=\"pt\").to(model.device), max_length=1024)[0]))\n"
      ],
      "metadata": {
        "colab": {
          "base_uri": "https://localhost:8080/"
        },
        "id": "NDPED0bWKD6c",
        "outputId": "1a7fcec7-b9b1-408f-c1c5-a4ee1b1535e7"
      },
      "execution_count": 4,
      "outputs": [
        {
          "output_type": "stream",
          "name": "stdout",
          "text": [
            "\n",
            "USER: GGML/GGUF/GPTQの違いは？\n",
            "ASSISTANT: 以下は、GGML、GGUF、GPTQの違いです。\n",
            "\n",
            "1. GGML（Generalized Game of Life）: GGMLは、セルオートマトンの1つで、セルがゲームの状態に応じて移動します。GGMLは、GGMLよりも複雑で、より高度な戦略が必要とされます。GGMLは、主にシミュレーションやゲーム開発に使用されます。\n",
            "2. GGUF（Game of Life Universal Format）: GGUFは、GGMLのフォーマットを拡張したもので、GGMLよりも柔軟性があります。GGUFは、GGMLよりも高度な戦略が必要とされます。GGUFは、主にシミュレーションやゲーム開発に使用されます。\n",
            "3. GGPTQ（Game of Life with Perfect Information Quotient）: GGPTQは、GGMLとGGUFを組み合わせたもので、GGMLよりも高度な戦略が必要とされます。GGPTQは、主にシミュレーションやゲーム開発に使用されます。\n",
            "\n",
            "GGMLは、GGUFよりも単純な戦略が必要とされますが、GGUFよりも高度な戦略が必要とされます。GGUFは、GGMLよりも柔軟性がありますが、GGMLよりも高度な戦略が必要とされます。GGPTQは、GGMLとGGUFを組み合わせたもので、GGMLよりも高度な戦略が必要とされます。<|endoftext|>\n",
            "CPU times: user 13.8 s, sys: 62 ms, total: 13.9 s\n",
            "Wall time: 26.2 s\n"
          ]
        }
      ]
    },
    {
      "cell_type": "code",
      "source": [
        "%%time\n",
        "# Your test prompt\n",
        "prompt = \"\"\"\n",
        "USER: 日本国憲法の文章を詳細にまとめてください。\n",
        "ASSISTANT: \"\"\"\n",
        "print(tokenizer.decode(model.generate(**tokenizer(prompt, return_tensors=\"pt\").to(model.device), max_length=3400)[0]))"
      ],
      "metadata": {
        "colab": {
          "base_uri": "https://localhost:8080/"
        },
        "id": "lFf2Q4G5ODL3",
        "outputId": "b0b395fc-81f2-4799-d3d0-181c2b9377f9"
      },
      "execution_count": 7,
      "outputs": [
        {
          "output_type": "stream",
          "name": "stdout",
          "text": [
            "\n",
            "USER: 日本国憲法の文章を詳細にまとめてください。\n",
            "ASSISTANT: 日本国憲法は、日本の憲法典として1947年5月3日に施行されました。憲法は全部で11章39条から成り立っています。以下に、憲法の各章と条文について説明します。\n",
            "\n",
            "1. 総則\n",
            "この憲法は、日本国民の総意に基づいて制定され、日本の国の政治の基本原則を定めています。\n",
            "\n",
            "2. 天皇\n",
            "天皇は、日本国の象徴であり日本国民統合の象徴であり、日本国民の総意に基づいて日本国の元首とされています。\n",
            "\n",
            "3. 国の政治\n",
            "国の政治は、国民の代表である国会が中心となり、行政、司法、立法の三権がそれぞれ独立して機能します。\n",
            "\n",
            "4. 国民の権利と義務\n",
            "国民は、憲法で保障された権利を有するとともに、憲法で定められた義務を負います。\n",
            "\n",
            "5. 法律の範囲内での自由\n",
            "国民は、法律の範囲内での自由を有するとともに、法律によって制限されます。\n",
            "\n",
            "6. 戦争の放棄\n",
            "日本は、戦争を放棄し、武力を持たず、国際紛争を解決するための手段としての戦争を放棄します。\n",
            "\n",
            "7. 国民の教育\n",
            "国民は、教育を受ける権利を有するとともに、国民の教育に関する責務を負います。\n",
            "\n",
            "8. 地方自治\n",
            "地方自治体は、住民による直接民主制を採用しています。\n",
            "\n",
            "9. 財政\n",
            "国は、国民から徴収した税金によって、国民の生活に必要な公共サービスを提供します。\n",
            "\n",
            "10. 国際法の尊重\n",
            "日本は、国際法の原則を尊重し、国際法に基づく義務を履行します。\n",
            "\n",
            "11. 最高法規性\n",
            "憲法は、日本の法律の中で最も高い地位を有するとされています。\n",
            "\n",
            "以上が、日本国憲法の各章と条文の概要です。憲法は、日本の政治体制や国民の権利・義務、国際関係などについて規定しています。<|endoftext|>\n",
            "CPU times: user 15.7 s, sys: 91.2 ms, total: 15.8 s\n",
            "Wall time: 16.6 s\n"
          ]
        }
      ]
    },
    {
      "cell_type": "markdown",
      "source": [],
      "metadata": {
        "id": "nKkh_Gj6RGbK"
      }
    },
    {
      "cell_type": "code",
      "source": [
        "%%time\n",
        "# Your test prompt\n",
        "# https://ja.wikipedia.org/wiki/%E4%B8%89%E5%9B%BD%E5%BF%97\n",
        "prompt = \"\"\"\n",
        "USER: 以下の文章を詳細にまとめてください。\n",
        "\n",
        "歴史書『三国志』の受容\n",
        "『三国志』は、信頼性の乏しい情報を極力排して簡朴明解な記述を行ったため、「質直さにおいて司馬相如を超える文章」（「陳寿伝」に載せる范頵の上表）「人物評価に見るべきものがあり、記事は公正正確なものが多い」（裴松之「上三国志注表」）などの高い評価を受けた。しかし南朝宋の裴松之がその簡潔すぎる記述を惜しみ、当時存在した諸種の文献を引用し注釈を作成した。『三国志』とこの裴注、また『後漢書』、『晋書』、『華陽国志』、『世説新語』などに散見する三国時代の記述が三国志の史実世界を構成している。\n",
        "『三国志』の戦乱と激動の記録は後世、特に唐宋の文人の詩想を大いに刺激した。『三国志』をモチーフにした詩詞としては杜甫「蜀相」、杜牧「赤壁」、蘇軾「赤壁賦」、陸游「書憤」などが特に名高い。また、西晋の左思（252～307）の『三都賦』が魏・呉・蜀それぞれの都の繁栄のさまを活写したと評価が高く人々が争って書き写そうとしたため（当時、印刷はまだなく手で書き写すしかなかった）紙が高騰し「洛陽の紙価を高からしむ」の故事が生まれた[5]。\n",
        "三国はそれぞれ正統性を主張したが、魏が蜀を滅ぼした後、魏から禅譲を受けるという形で司馬炎が建てた晋（西晋）によって、魏が正統であるとされたが、南北朝時代に入り、晋が全国政権ではなくなると（東晋）、習鑿歯が蜀漢正統論を唱え、次第に注目されるようになった。宋代には「三国のうちどの国が正統であるか」という、いわゆる「正閏論」が盛んになり、司馬光（『資治通鑑』）・欧陽脩（『明正統論』）・蘇軾（『正統弁論』）らは中国の過半を支配した実情から魏を正統とした。しかし、「正統」を決めようすること自体が現実的側面よりは観念的・倫理的な側面の強い議論であり、結局は観念論に基づいた朱子の蜀漢正統論（『通鑑綱目』）が主流となっていった。この歴史観は朱子学の流布と共に知識人階層に広まり、劉備を善玉とする『三国志演義』の基本設定に一定の影響を与えた。\n",
        "清代に考証学が盛んになると、王鳴盛『十七史商榷』・趙翼『二十二史箚記』・銭大昕『二十二史考異』・楊晨『三国会要』など多くの研究が著された。これら考証学の成果は民国に入って盧弼『三国志集解』によって集大成された。また、三国志時代の社会経済等については、同じく民国の陶元珍の『三国食貨志』（上海商務印書館　1934年）がある。\n",
        "\n",
        "ASSISTANT: \"\"\"\n",
        "print(tokenizer.decode(model.generate(**tokenizer(prompt, return_tensors=\"pt\").to(model.device), max_length=3400)[0]))"
      ],
      "metadata": {
        "colab": {
          "base_uri": "https://localhost:8080/"
        },
        "id": "_K9Ehoq_UbgU",
        "outputId": "ef03dd2c-95ac-42a5-ecdc-ff81d4755583"
      },
      "execution_count": 8,
      "outputs": [
        {
          "output_type": "stream",
          "name": "stdout",
          "text": [
            "\n",
            "USER: 以下の文章を詳細にまとめてください。\n",
            "\n",
            "歴史書『三国志』の受容\n",
            "『三国志』は、信頼性の乏しい情報を極力排して簡朴明解な記述を行ったため、「質直さにおいて司馬相如を超える文章」（「陳寿伝」に載せる范頵の上表）「人物評価に見るべきものがあり、記事は公正正確なものが多い」（裴松之「上三国志注表」）などの高い評価を受けた。しかし南朝宋の裴松之がその簡潔すぎる記述を惜しみ、当時存在した諸種の文献を引用し注釈を作成した。『三国志』とこの裴注、また『後漢書』、『晋書』、『華陽国志』、『世説新語』などに散見する三国時代の記述が三国志の史実世界を構成している。\n",
            "『三国志』の戦乱と激動の記録は後世、特に唐宋の文人の詩想を大いに刺激した。『三国志』をモチーフにした詩詞としては杜甫「蜀相」、杜牧「赤壁」、蘇軾「赤壁賦」、陸游「書憤」などが特に名高い。また、西晋の左思（252～307）の『三都賦』が魏・呉・蜀それぞれの都の繁栄のさまを活写したと評価が高く人々が争って書き写そうとしたため（当時、印刷はまだなく手で書き写すしかなかった）紙が高騰し「洛陽の紙価を高からしむ」の故事が生まれた[5]。\n",
            "三国はそれぞれ正統性を主張したが、魏が蜀を滅ぼした後、魏から禅譲を受けるという形で司馬炎が建てた晋（西晋）によって、魏が正統であるとされたが、南北朝時代に入り、晋が全国政権ではなくなると（東晋）、習鑿歯が蜀漢正統論を唱え、次第に注目されるようになった。宋代には「三国のうちどの国が正統であるか」という、いわゆる「正閏論」が盛んになり、司馬光（『資治通鑑』）・欧陽脩（『明正統論』）・蘇軾（『正統弁論』）らは中国の過半を支配した実情から魏を正統とした。しかし、「正統」を決めようすること自体が現実的側面よりは観念的・倫理的な側面の強い議論であり、結局は観念論に基づいた朱子の蜀漢正統論（『通鑑綱目』）が主流となっていった。この歴史観は朱子学の流布と共に知識人階層に広まり、劉備を善玉とする『三国志演義』の基本設定に一定の影響を与えた。\n",
            "清代に考証学が盛んになると、王鳴盛『十七史商榷』・趙翼『二十二史箚記』・銭大昕『二十二史考異』・楊晨『三国会要』など多くの研究が著された。これら考証学の成果は民国に入って盧弼『三国志集解』によって集大成された。また、三国志時代の社会経済等については、同じく民国の陶元珍の『三国食貨志』（上海商務印書館　1934年）がある。\n",
            "\n",
            "ASSISTANT: 以下は、三国志の受容についての詳細なまとめです。\n",
            "\n",
            "三国志は、信頼性の低い情報を極力排し、簡明な記述を行ったため、高い評価を受けました。しかし、南朝宋の裴松之がその簡潔すぎる記述を惜しみ、当時存在した諸種の文献を引用し、注釈を作成しました。また、西晋の左思が書いた『三都賦』は、魏・呉・蜀それぞれの都の繁栄のさまを活写し、高い評価を受けました。\n",
            "\n",
            "三国志の戦乱と激動の記録は、唐宋の文人の詩想を大いに刺激しました。杜甫や蘇軾などの詩人が、三国志をモチーフにした詩詞を作り、高い評価を受けました。\n",
            "\n",
            "また、中国の正統性をめぐる議論は、宋代に入ると盛んになりました。司馬光や欧陽脩、蘇軾らによる魏を正統とする主張に対し、考証学の成果により、劉備を善玉とする『三国志演義』の基本設定が生まれました。\n",
            "\n",
            "清代に入ると、考証学の成果により、盧弼による『三国志集解』が完成し、三国志時代の社会経済などについての研究も進みました。\n",
            "\n",
            "以上のように、三国志は、簡明な記述と注釈、そして詩や研究などを通じて、多くの人々に影響を与え、中国の歴史や文化に大きな影響を与えました。<|endoftext|>\n",
            "CPU times: user 13.8 s, sys: 180 ms, total: 13.9 s\n",
            "Wall time: 14.9 s\n"
          ]
        }
      ]
    }
  ]
}