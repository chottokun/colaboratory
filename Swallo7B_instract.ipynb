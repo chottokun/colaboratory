{
  "nbformat": 4,
  "nbformat_minor": 0,
  "metadata": {
    "colab": {
      "provenance": [],
      "gpuType": "T4",
      "authorship_tag": "ABX9TyP4mfFbPoaAmO9m1l0ZmZIL",
      "include_colab_link": true
    },
    "kernelspec": {
      "name": "python3",
      "display_name": "Python 3"
    },
    "language_info": {
      "name": "python"
    },
    "accelerator": "GPU",
    "widgets": {
      "application/vnd.jupyter.widget-state+json": {
        "d31fbea123a14c8d8ce111d188af8e49": {
          "model_module": "@jupyter-widgets/controls",
          "model_name": "HBoxModel",
          "model_module_version": "1.5.0",
          "state": {
            "_dom_classes": [],
            "_model_module": "@jupyter-widgets/controls",
            "_model_module_version": "1.5.0",
            "_model_name": "HBoxModel",
            "_view_count": null,
            "_view_module": "@jupyter-widgets/controls",
            "_view_module_version": "1.5.0",
            "_view_name": "HBoxView",
            "box_style": "",
            "children": [
              "IPY_MODEL_a4023473c78d4cfe878a2a583e9875ad",
              "IPY_MODEL_a2662a440aa94f77b9a6c8f83923f7cd",
              "IPY_MODEL_798ed89aac9c4bdaa12956415a4a61ff"
            ],
            "layout": "IPY_MODEL_55493ec164574de4a168f6e73e0b0b3f"
          }
        },
        "a4023473c78d4cfe878a2a583e9875ad": {
          "model_module": "@jupyter-widgets/controls",
          "model_name": "HTMLModel",
          "model_module_version": "1.5.0",
          "state": {
            "_dom_classes": [],
            "_model_module": "@jupyter-widgets/controls",
            "_model_module_version": "1.5.0",
            "_model_name": "HTMLModel",
            "_view_count": null,
            "_view_module": "@jupyter-widgets/controls",
            "_view_module_version": "1.5.0",
            "_view_name": "HTMLView",
            "description": "",
            "description_tooltip": null,
            "layout": "IPY_MODEL_775c719508a149a694ea066f3bd4b4aa",
            "placeholder": "​",
            "style": "IPY_MODEL_c95e49a7aca041708ffe373ce309cf04",
            "value": "Loading checkpoint shards: 100%"
          }
        },
        "a2662a440aa94f77b9a6c8f83923f7cd": {
          "model_module": "@jupyter-widgets/controls",
          "model_name": "FloatProgressModel",
          "model_module_version": "1.5.0",
          "state": {
            "_dom_classes": [],
            "_model_module": "@jupyter-widgets/controls",
            "_model_module_version": "1.5.0",
            "_model_name": "FloatProgressModel",
            "_view_count": null,
            "_view_module": "@jupyter-widgets/controls",
            "_view_module_version": "1.5.0",
            "_view_name": "ProgressView",
            "bar_style": "success",
            "description": "",
            "description_tooltip": null,
            "layout": "IPY_MODEL_71a387a47a4c40828652e8364ec8fe24",
            "max": 3,
            "min": 0,
            "orientation": "horizontal",
            "style": "IPY_MODEL_51a20bb9cf0e4397895cd197c9ff84aa",
            "value": 3
          }
        },
        "798ed89aac9c4bdaa12956415a4a61ff": {
          "model_module": "@jupyter-widgets/controls",
          "model_name": "HTMLModel",
          "model_module_version": "1.5.0",
          "state": {
            "_dom_classes": [],
            "_model_module": "@jupyter-widgets/controls",
            "_model_module_version": "1.5.0",
            "_model_name": "HTMLModel",
            "_view_count": null,
            "_view_module": "@jupyter-widgets/controls",
            "_view_module_version": "1.5.0",
            "_view_name": "HTMLView",
            "description": "",
            "description_tooltip": null,
            "layout": "IPY_MODEL_56f4b876620145d7ae1e8ae65e6001e3",
            "placeholder": "​",
            "style": "IPY_MODEL_b5faf4c221a94277a4d034e722a2059d",
            "value": " 3/3 [00:50&lt;00:00, 16.99s/it]"
          }
        },
        "55493ec164574de4a168f6e73e0b0b3f": {
          "model_module": "@jupyter-widgets/base",
          "model_name": "LayoutModel",
          "model_module_version": "1.2.0",
          "state": {
            "_model_module": "@jupyter-widgets/base",
            "_model_module_version": "1.2.0",
            "_model_name": "LayoutModel",
            "_view_count": null,
            "_view_module": "@jupyter-widgets/base",
            "_view_module_version": "1.2.0",
            "_view_name": "LayoutView",
            "align_content": null,
            "align_items": null,
            "align_self": null,
            "border": null,
            "bottom": null,
            "display": null,
            "flex": null,
            "flex_flow": null,
            "grid_area": null,
            "grid_auto_columns": null,
            "grid_auto_flow": null,
            "grid_auto_rows": null,
            "grid_column": null,
            "grid_gap": null,
            "grid_row": null,
            "grid_template_areas": null,
            "grid_template_columns": null,
            "grid_template_rows": null,
            "height": null,
            "justify_content": null,
            "justify_items": null,
            "left": null,
            "margin": null,
            "max_height": null,
            "max_width": null,
            "min_height": null,
            "min_width": null,
            "object_fit": null,
            "object_position": null,
            "order": null,
            "overflow": null,
            "overflow_x": null,
            "overflow_y": null,
            "padding": null,
            "right": null,
            "top": null,
            "visibility": null,
            "width": null
          }
        },
        "775c719508a149a694ea066f3bd4b4aa": {
          "model_module": "@jupyter-widgets/base",
          "model_name": "LayoutModel",
          "model_module_version": "1.2.0",
          "state": {
            "_model_module": "@jupyter-widgets/base",
            "_model_module_version": "1.2.0",
            "_model_name": "LayoutModel",
            "_view_count": null,
            "_view_module": "@jupyter-widgets/base",
            "_view_module_version": "1.2.0",
            "_view_name": "LayoutView",
            "align_content": null,
            "align_items": null,
            "align_self": null,
            "border": null,
            "bottom": null,
            "display": null,
            "flex": null,
            "flex_flow": null,
            "grid_area": null,
            "grid_auto_columns": null,
            "grid_auto_flow": null,
            "grid_auto_rows": null,
            "grid_column": null,
            "grid_gap": null,
            "grid_row": null,
            "grid_template_areas": null,
            "grid_template_columns": null,
            "grid_template_rows": null,
            "height": null,
            "justify_content": null,
            "justify_items": null,
            "left": null,
            "margin": null,
            "max_height": null,
            "max_width": null,
            "min_height": null,
            "min_width": null,
            "object_fit": null,
            "object_position": null,
            "order": null,
            "overflow": null,
            "overflow_x": null,
            "overflow_y": null,
            "padding": null,
            "right": null,
            "top": null,
            "visibility": null,
            "width": null
          }
        },
        "c95e49a7aca041708ffe373ce309cf04": {
          "model_module": "@jupyter-widgets/controls",
          "model_name": "DescriptionStyleModel",
          "model_module_version": "1.5.0",
          "state": {
            "_model_module": "@jupyter-widgets/controls",
            "_model_module_version": "1.5.0",
            "_model_name": "DescriptionStyleModel",
            "_view_count": null,
            "_view_module": "@jupyter-widgets/base",
            "_view_module_version": "1.2.0",
            "_view_name": "StyleView",
            "description_width": ""
          }
        },
        "71a387a47a4c40828652e8364ec8fe24": {
          "model_module": "@jupyter-widgets/base",
          "model_name": "LayoutModel",
          "model_module_version": "1.2.0",
          "state": {
            "_model_module": "@jupyter-widgets/base",
            "_model_module_version": "1.2.0",
            "_model_name": "LayoutModel",
            "_view_count": null,
            "_view_module": "@jupyter-widgets/base",
            "_view_module_version": "1.2.0",
            "_view_name": "LayoutView",
            "align_content": null,
            "align_items": null,
            "align_self": null,
            "border": null,
            "bottom": null,
            "display": null,
            "flex": null,
            "flex_flow": null,
            "grid_area": null,
            "grid_auto_columns": null,
            "grid_auto_flow": null,
            "grid_auto_rows": null,
            "grid_column": null,
            "grid_gap": null,
            "grid_row": null,
            "grid_template_areas": null,
            "grid_template_columns": null,
            "grid_template_rows": null,
            "height": null,
            "justify_content": null,
            "justify_items": null,
            "left": null,
            "margin": null,
            "max_height": null,
            "max_width": null,
            "min_height": null,
            "min_width": null,
            "object_fit": null,
            "object_position": null,
            "order": null,
            "overflow": null,
            "overflow_x": null,
            "overflow_y": null,
            "padding": null,
            "right": null,
            "top": null,
            "visibility": null,
            "width": null
          }
        },
        "51a20bb9cf0e4397895cd197c9ff84aa": {
          "model_module": "@jupyter-widgets/controls",
          "model_name": "ProgressStyleModel",
          "model_module_version": "1.5.0",
          "state": {
            "_model_module": "@jupyter-widgets/controls",
            "_model_module_version": "1.5.0",
            "_model_name": "ProgressStyleModel",
            "_view_count": null,
            "_view_module": "@jupyter-widgets/base",
            "_view_module_version": "1.2.0",
            "_view_name": "StyleView",
            "bar_color": null,
            "description_width": ""
          }
        },
        "56f4b876620145d7ae1e8ae65e6001e3": {
          "model_module": "@jupyter-widgets/base",
          "model_name": "LayoutModel",
          "model_module_version": "1.2.0",
          "state": {
            "_model_module": "@jupyter-widgets/base",
            "_model_module_version": "1.2.0",
            "_model_name": "LayoutModel",
            "_view_count": null,
            "_view_module": "@jupyter-widgets/base",
            "_view_module_version": "1.2.0",
            "_view_name": "LayoutView",
            "align_content": null,
            "align_items": null,
            "align_self": null,
            "border": null,
            "bottom": null,
            "display": null,
            "flex": null,
            "flex_flow": null,
            "grid_area": null,
            "grid_auto_columns": null,
            "grid_auto_flow": null,
            "grid_auto_rows": null,
            "grid_column": null,
            "grid_gap": null,
            "grid_row": null,
            "grid_template_areas": null,
            "grid_template_columns": null,
            "grid_template_rows": null,
            "height": null,
            "justify_content": null,
            "justify_items": null,
            "left": null,
            "margin": null,
            "max_height": null,
            "max_width": null,
            "min_height": null,
            "min_width": null,
            "object_fit": null,
            "object_position": null,
            "order": null,
            "overflow": null,
            "overflow_x": null,
            "overflow_y": null,
            "padding": null,
            "right": null,
            "top": null,
            "visibility": null,
            "width": null
          }
        },
        "b5faf4c221a94277a4d034e722a2059d": {
          "model_module": "@jupyter-widgets/controls",
          "model_name": "DescriptionStyleModel",
          "model_module_version": "1.5.0",
          "state": {
            "_model_module": "@jupyter-widgets/controls",
            "_model_module_version": "1.5.0",
            "_model_name": "DescriptionStyleModel",
            "_view_count": null,
            "_view_module": "@jupyter-widgets/base",
            "_view_module_version": "1.2.0",
            "_view_name": "StyleView",
            "description_width": ""
          }
        }
      }
    }
  },
  "cells": [
    {
      "cell_type": "markdown",
      "metadata": {
        "id": "view-in-github",
        "colab_type": "text"
      },
      "source": [
        "<a href=\"https://colab.research.google.com/github/chottokun/colaboratory/blob/main/Swallo7B_instract.ipynb\" target=\"_parent\"><img src=\"https://colab.research.google.com/assets/colab-badge.svg\" alt=\"Open In Colab\"/></a>"
      ]
    },
    {
      "cell_type": "code",
      "execution_count": 1,
      "metadata": {
        "id": "CPOIMxJT6IoW"
      },
      "outputs": [],
      "source": [
        "!pip install -q transformers sentencepiece accelerate bitsandbytes"
      ]
    },
    {
      "cell_type": "code",
      "source": [
        "from transformers import AutoTokenizer, AutoModelForCausalLM\n",
        "import torch\n",
        "\n",
        "tokenizer = AutoTokenizer.from_pretrained(\n",
        "    \"tokyotech-llm/Swallow-7b-instruct-hf\",\n",
        ")\n",
        "model = AutoModelForCausalLM.from_pretrained(\n",
        "    \"tokyotech-llm/Swallow-7b-instruct-hf\",\n",
        "    torch_dtype=\"auto\",\n",
        "    device_map=\"auto\",\n",
        "    trust_remote_code=True\n",
        ")"
      ],
      "metadata": {
        "colab": {
          "base_uri": "https://localhost:8080/",
          "height": 49,
          "referenced_widgets": [
            "d31fbea123a14c8d8ce111d188af8e49",
            "a4023473c78d4cfe878a2a583e9875ad",
            "a2662a440aa94f77b9a6c8f83923f7cd",
            "798ed89aac9c4bdaa12956415a4a61ff",
            "55493ec164574de4a168f6e73e0b0b3f",
            "775c719508a149a694ea066f3bd4b4aa",
            "c95e49a7aca041708ffe373ce309cf04",
            "71a387a47a4c40828652e8364ec8fe24",
            "51a20bb9cf0e4397895cd197c9ff84aa",
            "56f4b876620145d7ae1e8ae65e6001e3",
            "b5faf4c221a94277a4d034e722a2059d"
          ]
        },
        "id": "gMeTnneM6LWT",
        "outputId": "47b40c9d-5264-4276-9e4d-6c06306636a9"
      },
      "execution_count": 2,
      "outputs": [
        {
          "output_type": "display_data",
          "data": {
            "text/plain": [
              "Loading checkpoint shards:   0%|          | 0/3 [00:00<?, ?it/s]"
            ],
            "application/vnd.jupyter.widget-view+json": {
              "version_major": 2,
              "version_minor": 0,
              "model_id": "d31fbea123a14c8d8ce111d188af8e49"
            }
          },
          "metadata": {}
        }
      ]
    },
    {
      "cell_type": "code",
      "source": [
        "def get_answer(instruction):\n",
        "  prompt = (\n",
        "        \"以下に、あるタスクを説明する指示があります。\"\n",
        "        \"リクエストを適切に完了するための回答を記述してください。\\n\\n\"\n",
        "        f\"### 指示:\\n{instruction}\\n\\n### 応答:\"\n",
        "    )\n",
        "\n",
        "  with torch.no_grad():\n",
        "      token_ids = tokenizer.encode(prompt, add_special_tokens=False, return_tensors=\"pt\")\n",
        "      output_ids = model.generate(\n",
        "          token_ids.to(model.device),\n",
        "          temperature=0.99,\n",
        "          top_p=0.95,\n",
        "          do_sample=True,\n",
        "          max_new_tokens=1024,\n",
        "      )\n",
        "  output = tokenizer.decode(output_ids[0][token_ids.size(1) :])\n",
        "  return output"
      ],
      "metadata": {
        "id": "Koj5Phlf6l4O"
      },
      "execution_count": 3,
      "outputs": []
    },
    {
      "cell_type": "code",
      "source": [
        "%%time\n",
        "instruction = \"日本の首相は？\"\n",
        "print(get_answer(instruction))"
      ],
      "metadata": {
        "colab": {
          "base_uri": "https://localhost:8080/"
        },
        "id": "qXecsNjx7f8G",
        "outputId": "aca1b99e-0833-41bf-fa85-6becfedb0942"
      },
      "execution_count": 4,
      "outputs": [
        {
          "output_type": "stream",
          "name": "stdout",
          "text": [
            "2022年11月1日現在、日本の首相は岸田文夫さんです。</s>\n",
            "CPU times: user 2.41 s, sys: 273 ms, total: 2.68 s\n",
            "Wall time: 3.68 s\n"
          ]
        }
      ]
    },
    {
      "cell_type": "code",
      "source": [
        "%%time\n",
        "instruction = \"アジアで有名な観光地と名物を詳しく述べてください。\"\n",
        "print(get_answer(instruction))"
      ],
      "metadata": {
        "colab": {
          "base_uri": "https://localhost:8080/"
        },
        "id": "_yTjU0w_7-2E",
        "outputId": "d81eb86d-5b50-461b-ce52-b1b800372096"
      },
      "execution_count": 5,
      "outputs": [
        {
          "output_type": "stream",
          "name": "stdout",
          "text": [
            "アジアで最も有名な観光地の1つは、タイのバンコクにあるワット・ポーの黄金仏です。また、タイの伝統的な舞踊であるムエタイや、タイの北端にあるチェンマイのナイトマーケットなど、タイが提供するものを楽しむこともできます。\n",
            "\n",
            "ベトナムのハノイにあるバディン寺は、ハノイの象徴的な寺院です。また、ベトナムはアジアで最も多様な料理を提供していることでも知られています。フォーやコムガーなどの伝統的な料理のほか、揚げパンのバインミーを楽しむことができます。\n",
            "\n",
            "シンガポールにあるマリーナ・ベイ・サンズは、シンガポールを代表する建物です。この建物は、海に浮かぶ巨大なインフィニティプールで知られています。シンガポールの歴史は、マーライオンなどの象徴的な存在によって特徴づけられています。\n",
            "\n",
            "インドのケララ州にあるアレッピーは、マングローブの森の真ん中にある伝統的な漁村で、映画『The Motorcycle Diaries』の撮影が行われた。ケララ州は、アーユルヴェーダと呼ばれる伝統的な癒しの実践を世界に普及させたことで有名です。\n",
            "\n",
            "最後に、中国の北京にある天安門は、中国を代表するランドマークです。天安門は、中国の歴史と文化が反映された場所であるだけでなく、多くの中国人の人生における通過儀礼の場所でもあります。\n",
            "\n",
            "これらはアジアで最も有名な観光地の一例です。あなたの旅行によっては、これらの場所を訪れることができるかもしれませんし、できないかもしれません。</s>\n",
            "CPU times: user 23.8 s, sys: 32.6 ms, total: 23.8 s\n",
            "Wall time: 28.7 s\n"
          ]
        }
      ]
    },
    {
      "cell_type": "code",
      "source": [
        "%%time\n",
        "instruction = \"日本で一番寒い地方はどこか教えてください。\"\n",
        "print(get_answer(instruction))"
      ],
      "metadata": {
        "colab": {
          "base_uri": "https://localhost:8080/"
        },
        "id": "y0gHWvXFJzjU",
        "outputId": "d2e8a124-b16f-459b-8112-acbe76769347"
      },
      "execution_count": 6,
      "outputs": [
        {
          "output_type": "stream",
          "name": "stdout",
          "text": [
            "北海道は日本で一番寒い地域です。</s>\n",
            "CPU times: user 902 ms, sys: 0 ns, total: 902 ms\n",
            "Wall time: 928 ms\n"
          ]
        }
      ]
    },
    {
      "cell_type": "code",
      "source": [
        "%%time\n",
        "# 参考wikipedia\n",
        "instruction = (\n",
        "    \"以下の文章を５０字でまとめてください。\\n\\n\"\n",
        "    \"赤血球は血液細胞の一つで色は赤く血液循環によって体中を回り、肺から得た酸素を取り込み、体のすみずみの細胞に運び供給する役割を担い、また二酸化炭素の排出にも関わる。赤血球の内部には鉄を含むタンパク質ヘモグロビンが充満しており、赤血球はヘモグロビンに酸素を取り込む。大きさは直径が7-8μm、厚さが2μm強ほどの両面中央が凹んだ円盤状であり、数は血液1μLあたり成人男性で450-650万個、成人女性で380-580万個程度で血液の容積のおよそ4-5割程度が赤血球の容積である。\"\n",
        ")\n",
        "print(get_answer(instruction))"
      ],
      "metadata": {
        "colab": {
          "base_uri": "https://localhost:8080/"
        },
        "id": "UDV2H-C1UJ3N",
        "outputId": "ef7aadec-7885-44d2-bb47-9e6f05d7b461"
      },
      "execution_count": 9,
      "outputs": [
        {
          "output_type": "stream",
          "name": "stdout",
          "text": [
            "赤血球は、血液循環により全身に酸素を運ぶ役割を担う血球細胞のひとつであり、赤く、大きさは直径が7-8μm、厚さが2μm強で、2μm強の凹んだ円盤状であり、体中のあらゆる細胞に酸素を供給する働きがある。また、二酸化炭素の排出も担う。</s>\n",
            "CPU times: user 6.28 s, sys: 270 ms, total: 6.55 s\n",
            "Wall time: 7.46 s\n"
          ]
        }
      ]
    }
  ]
}