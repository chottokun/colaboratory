{
  "nbformat": 4,
  "nbformat_minor": 0,
  "metadata": {
    "colab": {
      "name": "spaCy_learning_1.ipynb",
      "provenance": [],
      "collapsed_sections": [],
      "authorship_tag": "ABX9TyNHlqsyNwjJeTI6pYH5kfhv",
      "include_colab_link": true
    },
    "kernelspec": {
      "name": "python3",
      "display_name": "Python 3"
    },
    "language_info": {
      "name": "python"
    }
  },
  "cells": [
    {
      "cell_type": "markdown",
      "metadata": {
        "id": "view-in-github",
        "colab_type": "text"
      },
      "source": [
        "<a href=\"https://colab.research.google.com/github/chottokun/colaboratory/blob/main/spaCy_learning_1.ipynb\" target=\"_parent\"><img src=\"https://colab.research.google.com/assets/colab-badge.svg\" alt=\"Open In Colab\"/></a>"
      ]
    },
    {
      "cell_type": "code",
      "metadata": {
        "colab": {
          "base_uri": "https://localhost:8080/"
        },
        "id": "5x4g1_C8jdTW",
        "outputId": "6fb4d02b-8beb-4285-b465-4cb03388dafc"
      },
      "source": [
        "# Spacyのお勉強\n",
        "# 参考　https://zenn.dev/shikumiya_hata/articles/b18e362e2eae09\n",
        "!pip install sumy tinysegmenter Janome\n",
        "!pip install neologdn emoji mojimoji\n"
      ],
      "execution_count": 2,
      "outputs": [
        {
          "output_type": "stream",
          "text": [
            "Requirement already satisfied: sumy in /usr/local/lib/python3.7/dist-packages (0.8.1)\n",
            "Requirement already satisfied: tinysegmenter in /usr/local/lib/python3.7/dist-packages (0.4)\n",
            "Requirement already satisfied: Janome in /usr/local/lib/python3.7/dist-packages (0.4.1)\n",
            "Requirement already satisfied: pycountry>=18.2.23 in /usr/local/lib/python3.7/dist-packages (from sumy) (20.7.3)\n",
            "Requirement already satisfied: requests>=2.7.0 in /usr/local/lib/python3.7/dist-packages (from sumy) (2.23.0)\n",
            "Requirement already satisfied: docopt<0.7,>=0.6.1 in /usr/local/lib/python3.7/dist-packages (from sumy) (0.6.2)\n",
            "Requirement already satisfied: nltk>=3.0.2 in /usr/local/lib/python3.7/dist-packages (from sumy) (3.2.5)\n",
            "Requirement already satisfied: breadability>=0.1.20 in /usr/local/lib/python3.7/dist-packages (from sumy) (0.1.20)\n",
            "Requirement already satisfied: urllib3!=1.25.0,!=1.25.1,<1.26,>=1.21.1 in /usr/local/lib/python3.7/dist-packages (from requests>=2.7.0->sumy) (1.24.3)\n",
            "Requirement already satisfied: idna<3,>=2.5 in /usr/local/lib/python3.7/dist-packages (from requests>=2.7.0->sumy) (2.10)\n",
            "Requirement already satisfied: chardet<4,>=3.0.2 in /usr/local/lib/python3.7/dist-packages (from requests>=2.7.0->sumy) (3.0.4)\n",
            "Requirement already satisfied: certifi>=2017.4.17 in /usr/local/lib/python3.7/dist-packages (from requests>=2.7.0->sumy) (2020.12.5)\n",
            "Requirement already satisfied: six in /usr/local/lib/python3.7/dist-packages (from nltk>=3.0.2->sumy) (1.15.0)\n",
            "Requirement already satisfied: lxml>=2.0 in /usr/local/lib/python3.7/dist-packages (from breadability>=0.1.20->sumy) (4.2.6)\n",
            "Requirement already satisfied: neologdn in /usr/local/lib/python3.7/dist-packages (0.4)\n",
            "Requirement already satisfied: emoji in /usr/local/lib/python3.7/dist-packages (1.2.0)\n",
            "Requirement already satisfied: mojimoji in /usr/local/lib/python3.7/dist-packages (0.0.11)\n"
          ],
          "name": "stdout"
        }
      ]
    },
    {
      "cell_type": "code",
      "metadata": {
        "id": "7nj_K7uBq2Vx"
      },
      "source": [
        "\n",
        "from janome.analyzer import Analyzer\n",
        "from janome.charfilter import UnicodeNormalizeCharFilter, RegexReplaceCharFilter\n",
        "from janome.tokenizer import Tokenizer as JanomeTokenizer  # sumyのTokenizerと名前が被るため\n",
        "from janome.tokenfilter import POSKeepFilter, ExtractAttributeFilter\n",
        "import re\n",
        "\n",
        "from sumy.parsers.plaintext import PlaintextParser\n",
        "from sumy.nlp.tokenizers import Tokenizer\n",
        "from sumy.summarizers.lex_rank import LexRankSummarizer\n",
        "\n",
        "import emoji\n",
        "import mojimoji\n",
        "import neologdn\n",
        "\n",
        "def preprocessing(text):\n",
        "    text = re.sub(r'\\n', '', text)\n",
        "    text = re.sub(r'\\r', '', text)\n",
        "    text = re.sub(r'\\s', '', text)\n",
        "    text = text.lower()\n",
        "    text = mojimoji.zen_to_han(text, kana=True)\n",
        "    text = mojimoji.han_to_zen(text, digit=False, ascii=False)\n",
        "    text = ''.join(c for c in text if c not in emoji.UNICODE_EMOJI)\n",
        "    text = neologdn.normalize(text)\n",
        "\n",
        "    return text\n"
      ],
      "execution_count": 3,
      "outputs": []
    },
    {
      "cell_type": "code",
      "metadata": {
        "colab": {
          "base_uri": "https://localhost:8080/"
        },
        "id": "kyA_pcrRDEqa",
        "outputId": "0a941960-7e7c-4e9f-8152-578ddd989f8d"
      },
      "source": [
        "contents= '''\n",
        "今日のわれわれの勝利が、政党の勝利ではなく自由の勝利だということを祝おう。始まりとともに終わりを象徴し、変化とともに再建を示している。というのも、二百年近く前にわれわれの祖先が定めたものと全く同じ厳粛な誓いを、みなさんと全能なる神の前で、私は誓ったばかりであるからだ。\n",
        "世界は、大きく変貌している。人類は、あらゆる形の貧困とあらゆる形の人間の生命を根絶させる力を手にした。だがしかし、われわれの祖先がそのために血をながしてきた独立戦争の信念は、いまだに世界中で論争の的になっている。人間の権利は国家が気前よくくれたものなどではなく、神の手によって授けられているという信念のことだ。われわれは今日、その最初の独立戦争を受け継ぐものであることを忘れてはならない。\n",
        "今、この時、この場所からこの言葉を伝えようではないか、敵味方を問わずに。たいまつはアメリカの新しい世代にひきつがれたと。その世代は、今世紀に生まれ、戦争にさらされ、厳しく苦い平和にきたえられ、われわれの祖先の遺産を誇りに思い、母国でも世界中でもこの国がいつも守ってきて、今日われわれが守っているこれらの人権が、昔のように取り消されるようなことを目にしたり、認めたりしない世代である。\n",
        "敵であろうが味方であろうが、全ての国に知らせよう。われわれは自由が生きのび、勝利をおさめるためなら、どんな対価も支払い、どんな重圧にも耐え、どんな困難にも立ち向かい、味方を支持し、敵には対抗するということを。われわれはこのことを固く誓うし、それ以上の用意さえある。\n",
        "文化と精神的な起源を一にする古くからの同盟国に対して、われわれは信頼にたる友としての忠誠を誓う。われわれが一致団結すれば、なしえないことはほとんどないし、たもとを分かつとすれば、何事もなしとげられない。互いに争いばらばらになって、どうやって強力な挑戦に立ち向かえばいいというのだろう。自由主義世界への仲間入りをよろこぶ新しい国々には、このことを誓おう。植民地支配という一つの形が終わって、単により厳しい鉄の専制が置きかわるわけではないことを。これらの国々が常にわれわれの見解に賛同してくれるとは、期待していない。ただ、これらの国々が自国なりの自由を見出してくれることをいつも強く望みたい。過去には、こういうことがあったのも覚えておいてほしい、つまり愚かにも虎の威をかり、権力を志向するものは、けっきょく自滅するということを。地球の大部分を占めるほったて小屋や村落に住む人々で、みんなが悲惨な足かせをはずせるように苦闘する人々には、その自助努力に対して、どれほどの時間がかかろうとも、最大限の力を貸すことを誓おう。共産主義者がそうするかもしれないからでも、かれらの票が目当てなわけでもない。正しいことだからだ。もし自由な社会が貧しい大多数のものを救えないようであれば、少数の金持ちも救うことはできない。\n",
        "われわれと密接な関係にある国境の南の国々に対しては、特別な約束をしよう。言葉を実行に移し、進歩のために新しい同盟をむすび、自由な人々や国々が貧困のくさりから解き放たれる手助けをすると。しかしこの平和的な革命の希望が、敵対する勢力のえじきになるようなことがあってはならない。全ての近隣諸国は、われわれがアメリカ大陸のどこにおいても、他国への侵略や政府の転覆といったことに協力して対抗するということを知っておいてほしい。そしてその他の国々も、この地域においてはわれわれは、自分のことは自分でするということを知っておいてもらいたい。\n",
        "世界中の独立国の集まり、つまり国際連合に対しては、支持の誓いを新たにする。国際連合は、戦争という手段が平和という手段よりはるかに利用された時代においては、われわれの最後の、そして最大の希望である。そしてわれわれは国際連合を単にののしりあいの場にせず、新しく弱小な国への保護を強め、国際憲章のおよぶ地域を拡大するのを支持する誓いを新たにする。\n",
        "最後に、われわれに敵対しようとする国々に対しては、誓いではなく要求をすることとしよう。両陣営で新たに平和の探求に着手しようという要求を。科学によって束縛をとかれた暗黒たる破壊力が、計画的にあるいは偶然に、全人類を自己破壊の渦にのみこむ前に。われわれは、敵対する国々に弱みをみせて挑発してはならない。われわれの戦力が疑いなく十分であるときのみ、われわれはその戦力を利用することが決してないことを疑うことなく確信できる。大きくそして力をもつ２つの陣営は、この現在の路線を歩むかぎりどちらも安心できない。両陣営は現代兵器の過大なコストに苦しみ、死をもたらす原子力が着実に拡散していくのにまさに恐怖をおぼえながらも、人類の最終戦争を押しとどめている不確かな恐怖のバランスをくずそうと互いに競争しているのである。\n",
        "われわれは、着手しなければならない、両陣営とも礼儀正しいふるまいは弱さのしるしではなく、誠実さは常に証明しなければならないということを念頭におこう。恐怖ゆえに交渉してはならない、ただ、交渉することを恐れてもいけない。両陣営で、われわれを分裂させている諸問題を言い争う代わりに、何がわれわれを団結させるのか模索しようではないか。まず第一に、両陣営で武器の査察と管理についての、真摯で厳密な提案を練り上げようではないか。そして、お互いの国々を崩壊させるような絶対的な力を、全ての国の完全な管理下におこうではないか。科学の恐怖ではなく、科学の驚異に訴えかけよう。われわれは共に宇宙を探索し、砂漠を征服し、疫病を根絶し、深海を開発し、芸術や商業を振興しよう。両陣営とも地球上の全ての人の心に、イザヤの言葉を宿らせよう。「重荷を下ろし．．．虐げられたものを自由にしよう」\n",
        "そしてもし協力の足がかりが、疑惑のうずまくジャングルを押し戻すことができたなら、両陣営は新しい力のバランスではなく、新しい法に基づいた世界を協力して作りあげることができるだろう。新しい法に基づいた世界では、強者も公正であり、弱者が保護され、平和が保たれる。\n",
        "これは、これからの100日でなしとげられることではないだろう。いやこれからの1000日でも、なしとげることもできないかもしれない。この政権の間に、もしくはこの地球上でのわれわれの生きている間でさえなしとげられないかもしれない。しかし着手しようではないか。\n",
        "われわれのとる道が最終的に成功するか失敗するかは、わたし以上に、あなたがた市民の手にかかっている。この国の建国以来、アメリカ人の各世代は国家に対する忠誠を証明するために召集されてきた。その召集に応えた若いアメリカ人の墓は世界中にある。今トランペットの音がわれわれを再び召集している。武器は必要だが、武器をとれという召集ではない、戦ってはいるが、戦うための召集ではない、長い夜明け前の闘争の重荷を肩に背負えという召集なのである。いつも希望をもって喜びを抱き、苦難に耐えながら、人類の共通の敵、専制、貧困、疫病、そして戦争そのものに対して闘うという重荷を。これらを敵にして、北も南も、東も西も、壮大な世界的な同盟をわれわれは作れないものだろうか？　その同盟は、全人類により実りある生活を保証してくれるだろう。あなたがたもこの歴史的な苦闘に身を投じてみようではないか？\n",
        "世界の長い歴史の中で、自由が最大の危機にさらされている時に、自由を守る役割を与えられてきた世代はごく少ない。私は、この責任からしりごみするものではないし、むしろ歓迎する。われわれの誰かが自分の立場を、他の人もしくは他の世代と交換するだろうなどということを私は信じない。こうした努力にわれわれが捧げるエネルギー、信念、献身こそがわれわれの国家を、そして国家につかえるわれわれを照らしだすのである。そしてその明かりから発せられる輝きこそが、本当に世界を照らしだすのである。\n",
        "そして、わが同胞のアメリカ人よ、あなたの国家があなたのために何をしてくれるかではなく、あなたがあなたの国家のために何ができるかを問おうではないか。わが同胞の世界の市民よ、アメリカがあなたのために何をしてくれるかではなく、われわれと共に人類の自由のために何ができるかを問おうではないか。\n",
        "最後に、あなたがアメリカ市民であろうが、世界の市民であろうが、われわれがあなたに求めるのと同じ高い水準の力と犠牲をここのわれわれに求めて欲しい。良心を唯一のたしかな報酬とみなし、歴史がわれわれの行動に最終的な判断を下してくれることを信じて、神の祝福と助けをもとめながらも、この地球上では神の仕事はわれわれ自身でなしとげなければならないということを肝に銘じて、われわれの愛すべき国を導くために前進しよう。\n",
        "\n",
        "'''\n",
        "# J．F ケネディ 大統領就任\n",
        "# 青空文庫より\n",
        "\n",
        "text = re.findall(\"[^。]+。?\", preprocessing(contents))\n",
        "\n",
        "# 形態素解析(単語単位に分割する)\n",
        "analyzer = Analyzer(\n",
        "    char_filters=[UnicodeNormalizeCharFilter(),\n",
        "                  RegexReplaceCharFilter(r'[(\\)「」、。]', ' ')],\n",
        "    tokenizer=JanomeTokenizer(),\n",
        "    token_filters=[POSKeepFilter(['名詞', '形容詞', '副詞', '動詞']),\n",
        "                  ExtractAttributeFilter('base_form')])\n",
        "\n",
        "corpus = [' '.join(analyzer.analyze(sentence)) + u'。' for sentence in text]\n",
        "# print(corpus)\n",
        "print(len(corpus))\n",
        "\n",
        "# 文書要約処理実行\n",
        "parser = PlaintextParser.from_string(''.join(corpus), Tokenizer('japanese'))\n",
        "\n",
        "# LexRankで要約を原文書の3割程度抽出\n",
        "summarizer = LexRankSummarizer()\n",
        "summarizer.stop_words = [' ']\n",
        "\n",
        "# 文書の重要なポイントは2割から3割といわれている?ので、それを参考にsentences_countを設定する。\n",
        "# summary = summarizer(document=parser.document, sentences_count=int(len(corpus)/10*3))\n",
        "summary = summarizer(document=parser.document, sentences_count=5)\n",
        "print(u'文書要約結果')\n",
        "print(len(summary))\n",
        "for sentence in summary:\n",
        "  print(text[corpus.index(sentence.__str__())])"
      ],
      "execution_count": 4,
      "outputs": [
        {
          "output_type": "stream",
          "text": [
            "71\n",
            "文書要約結果\n",
            "5\n",
            "しかしこの平和的な革命の希望が、敵対する勢力のえじきになるようなことがあってはならない。\n",
            "最後に、われわれに敵対しようとする国々に対しては、誓いではなく要求をすることとしよう。\n",
            "われわれは、着手しなければならない、両陣営とも礼儀正しいふるまいは弱さのしるしではなく、誠実さは常に証明しなければならないということを念頭におこう。\n",
            "「重荷を下ろし...虐げられたものを自由にしよう」そしてもし協力の足がかりが、疑惑のうずまくジャングルを押し戻すことができたなら、両陣営は新しい力のバランスではなく、新しい法に基づいた世界を協力して作りあげることができるだろう。\n",
            "この国の建国以来、アメリカ人の各世代は国家に対する忠誠を証明するために召集されてきた。\n"
          ],
          "name": "stdout"
        }
      ]
    }
  ]
}