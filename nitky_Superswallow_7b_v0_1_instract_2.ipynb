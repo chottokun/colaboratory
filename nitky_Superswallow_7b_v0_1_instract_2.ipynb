{
  "nbformat": 4,
  "nbformat_minor": 0,
  "metadata": {
    "colab": {
      "provenance": [],
      "gpuType": "T4",
      "authorship_tag": "ABX9TyOL4zzqBnj/hwyt5f8KEVHW",
      "include_colab_link": true
    },
    "kernelspec": {
      "name": "python3",
      "display_name": "Python 3"
    },
    "language_info": {
      "name": "python"
    },
    "accelerator": "GPU",
    "widgets": {
      "application/vnd.jupyter.widget-state+json": {
        "cd5e46e2ebdd4f31ada9904dad3d5e8c": {
          "model_module": "@jupyter-widgets/controls",
          "model_name": "HBoxModel",
          "model_module_version": "1.5.0",
          "state": {
            "_dom_classes": [],
            "_model_module": "@jupyter-widgets/controls",
            "_model_module_version": "1.5.0",
            "_model_name": "HBoxModel",
            "_view_count": null,
            "_view_module": "@jupyter-widgets/controls",
            "_view_module_version": "1.5.0",
            "_view_name": "HBoxView",
            "box_style": "",
            "children": [
              "IPY_MODEL_accdeead873d4b0297a63d74cb865f7d",
              "IPY_MODEL_f7825d59d2bf4adcb82821b4ba013b8f",
              "IPY_MODEL_e1db507bab3446cca9c6d0b485eb7189"
            ],
            "layout": "IPY_MODEL_5b33949bd63740bf8d8eaa2aa1d1f867"
          }
        },
        "accdeead873d4b0297a63d74cb865f7d": {
          "model_module": "@jupyter-widgets/controls",
          "model_name": "HTMLModel",
          "model_module_version": "1.5.0",
          "state": {
            "_dom_classes": [],
            "_model_module": "@jupyter-widgets/controls",
            "_model_module_version": "1.5.0",
            "_model_name": "HTMLModel",
            "_view_count": null,
            "_view_module": "@jupyter-widgets/controls",
            "_view_module_version": "1.5.0",
            "_view_name": "HTMLView",
            "description": "",
            "description_tooltip": null,
            "layout": "IPY_MODEL_99432c7ffd754754a674d69e605863ad",
            "placeholder": "​",
            "style": "IPY_MODEL_209c180b050041699b99ffc17f4a891a",
            "value": "Loading checkpoint shards: 100%"
          }
        },
        "f7825d59d2bf4adcb82821b4ba013b8f": {
          "model_module": "@jupyter-widgets/controls",
          "model_name": "FloatProgressModel",
          "model_module_version": "1.5.0",
          "state": {
            "_dom_classes": [],
            "_model_module": "@jupyter-widgets/controls",
            "_model_module_version": "1.5.0",
            "_model_name": "FloatProgressModel",
            "_view_count": null,
            "_view_module": "@jupyter-widgets/controls",
            "_view_module_version": "1.5.0",
            "_view_name": "ProgressView",
            "bar_style": "success",
            "description": "",
            "description_tooltip": null,
            "layout": "IPY_MODEL_8b2b59fbe9ca469d804428b3553197a8",
            "max": 2,
            "min": 0,
            "orientation": "horizontal",
            "style": "IPY_MODEL_fa0ad1bbeae247bf8dc117ad9089feb8",
            "value": 2
          }
        },
        "e1db507bab3446cca9c6d0b485eb7189": {
          "model_module": "@jupyter-widgets/controls",
          "model_name": "HTMLModel",
          "model_module_version": "1.5.0",
          "state": {
            "_dom_classes": [],
            "_model_module": "@jupyter-widgets/controls",
            "_model_module_version": "1.5.0",
            "_model_name": "HTMLModel",
            "_view_count": null,
            "_view_module": "@jupyter-widgets/controls",
            "_view_module_version": "1.5.0",
            "_view_name": "HTMLView",
            "description": "",
            "description_tooltip": null,
            "layout": "IPY_MODEL_5e6f952b4f4d449eb65be7bd1b0df667",
            "placeholder": "​",
            "style": "IPY_MODEL_1e18ae810e8041c8b8cdb16c1db1e80c",
            "value": " 2/2 [01:02&lt;00:00, 28.83s/it]"
          }
        },
        "5b33949bd63740bf8d8eaa2aa1d1f867": {
          "model_module": "@jupyter-widgets/base",
          "model_name": "LayoutModel",
          "model_module_version": "1.2.0",
          "state": {
            "_model_module": "@jupyter-widgets/base",
            "_model_module_version": "1.2.0",
            "_model_name": "LayoutModel",
            "_view_count": null,
            "_view_module": "@jupyter-widgets/base",
            "_view_module_version": "1.2.0",
            "_view_name": "LayoutView",
            "align_content": null,
            "align_items": null,
            "align_self": null,
            "border": null,
            "bottom": null,
            "display": null,
            "flex": null,
            "flex_flow": null,
            "grid_area": null,
            "grid_auto_columns": null,
            "grid_auto_flow": null,
            "grid_auto_rows": null,
            "grid_column": null,
            "grid_gap": null,
            "grid_row": null,
            "grid_template_areas": null,
            "grid_template_columns": null,
            "grid_template_rows": null,
            "height": null,
            "justify_content": null,
            "justify_items": null,
            "left": null,
            "margin": null,
            "max_height": null,
            "max_width": null,
            "min_height": null,
            "min_width": null,
            "object_fit": null,
            "object_position": null,
            "order": null,
            "overflow": null,
            "overflow_x": null,
            "overflow_y": null,
            "padding": null,
            "right": null,
            "top": null,
            "visibility": null,
            "width": null
          }
        },
        "99432c7ffd754754a674d69e605863ad": {
          "model_module": "@jupyter-widgets/base",
          "model_name": "LayoutModel",
          "model_module_version": "1.2.0",
          "state": {
            "_model_module": "@jupyter-widgets/base",
            "_model_module_version": "1.2.0",
            "_model_name": "LayoutModel",
            "_view_count": null,
            "_view_module": "@jupyter-widgets/base",
            "_view_module_version": "1.2.0",
            "_view_name": "LayoutView",
            "align_content": null,
            "align_items": null,
            "align_self": null,
            "border": null,
            "bottom": null,
            "display": null,
            "flex": null,
            "flex_flow": null,
            "grid_area": null,
            "grid_auto_columns": null,
            "grid_auto_flow": null,
            "grid_auto_rows": null,
            "grid_column": null,
            "grid_gap": null,
            "grid_row": null,
            "grid_template_areas": null,
            "grid_template_columns": null,
            "grid_template_rows": null,
            "height": null,
            "justify_content": null,
            "justify_items": null,
            "left": null,
            "margin": null,
            "max_height": null,
            "max_width": null,
            "min_height": null,
            "min_width": null,
            "object_fit": null,
            "object_position": null,
            "order": null,
            "overflow": null,
            "overflow_x": null,
            "overflow_y": null,
            "padding": null,
            "right": null,
            "top": null,
            "visibility": null,
            "width": null
          }
        },
        "209c180b050041699b99ffc17f4a891a": {
          "model_module": "@jupyter-widgets/controls",
          "model_name": "DescriptionStyleModel",
          "model_module_version": "1.5.0",
          "state": {
            "_model_module": "@jupyter-widgets/controls",
            "_model_module_version": "1.5.0",
            "_model_name": "DescriptionStyleModel",
            "_view_count": null,
            "_view_module": "@jupyter-widgets/base",
            "_view_module_version": "1.2.0",
            "_view_name": "StyleView",
            "description_width": ""
          }
        },
        "8b2b59fbe9ca469d804428b3553197a8": {
          "model_module": "@jupyter-widgets/base",
          "model_name": "LayoutModel",
          "model_module_version": "1.2.0",
          "state": {
            "_model_module": "@jupyter-widgets/base",
            "_model_module_version": "1.2.0",
            "_model_name": "LayoutModel",
            "_view_count": null,
            "_view_module": "@jupyter-widgets/base",
            "_view_module_version": "1.2.0",
            "_view_name": "LayoutView",
            "align_content": null,
            "align_items": null,
            "align_self": null,
            "border": null,
            "bottom": null,
            "display": null,
            "flex": null,
            "flex_flow": null,
            "grid_area": null,
            "grid_auto_columns": null,
            "grid_auto_flow": null,
            "grid_auto_rows": null,
            "grid_column": null,
            "grid_gap": null,
            "grid_row": null,
            "grid_template_areas": null,
            "grid_template_columns": null,
            "grid_template_rows": null,
            "height": null,
            "justify_content": null,
            "justify_items": null,
            "left": null,
            "margin": null,
            "max_height": null,
            "max_width": null,
            "min_height": null,
            "min_width": null,
            "object_fit": null,
            "object_position": null,
            "order": null,
            "overflow": null,
            "overflow_x": null,
            "overflow_y": null,
            "padding": null,
            "right": null,
            "top": null,
            "visibility": null,
            "width": null
          }
        },
        "fa0ad1bbeae247bf8dc117ad9089feb8": {
          "model_module": "@jupyter-widgets/controls",
          "model_name": "ProgressStyleModel",
          "model_module_version": "1.5.0",
          "state": {
            "_model_module": "@jupyter-widgets/controls",
            "_model_module_version": "1.5.0",
            "_model_name": "ProgressStyleModel",
            "_view_count": null,
            "_view_module": "@jupyter-widgets/base",
            "_view_module_version": "1.2.0",
            "_view_name": "StyleView",
            "bar_color": null,
            "description_width": ""
          }
        },
        "5e6f952b4f4d449eb65be7bd1b0df667": {
          "model_module": "@jupyter-widgets/base",
          "model_name": "LayoutModel",
          "model_module_version": "1.2.0",
          "state": {
            "_model_module": "@jupyter-widgets/base",
            "_model_module_version": "1.2.0",
            "_model_name": "LayoutModel",
            "_view_count": null,
            "_view_module": "@jupyter-widgets/base",
            "_view_module_version": "1.2.0",
            "_view_name": "LayoutView",
            "align_content": null,
            "align_items": null,
            "align_self": null,
            "border": null,
            "bottom": null,
            "display": null,
            "flex": null,
            "flex_flow": null,
            "grid_area": null,
            "grid_auto_columns": null,
            "grid_auto_flow": null,
            "grid_auto_rows": null,
            "grid_column": null,
            "grid_gap": null,
            "grid_row": null,
            "grid_template_areas": null,
            "grid_template_columns": null,
            "grid_template_rows": null,
            "height": null,
            "justify_content": null,
            "justify_items": null,
            "left": null,
            "margin": null,
            "max_height": null,
            "max_width": null,
            "min_height": null,
            "min_width": null,
            "object_fit": null,
            "object_position": null,
            "order": null,
            "overflow": null,
            "overflow_x": null,
            "overflow_y": null,
            "padding": null,
            "right": null,
            "top": null,
            "visibility": null,
            "width": null
          }
        },
        "1e18ae810e8041c8b8cdb16c1db1e80c": {
          "model_module": "@jupyter-widgets/controls",
          "model_name": "DescriptionStyleModel",
          "model_module_version": "1.5.0",
          "state": {
            "_model_module": "@jupyter-widgets/controls",
            "_model_module_version": "1.5.0",
            "_model_name": "DescriptionStyleModel",
            "_view_count": null,
            "_view_module": "@jupyter-widgets/base",
            "_view_module_version": "1.2.0",
            "_view_name": "StyleView",
            "description_width": ""
          }
        }
      }
    }
  },
  "cells": [
    {
      "cell_type": "markdown",
      "metadata": {
        "id": "view-in-github",
        "colab_type": "text"
      },
      "source": [
        "<a href=\"https://colab.research.google.com/github/chottokun/colaboratory/blob/main/nitky_Superswallow_7b_v0_1_instract_2.ipynb\" target=\"_parent\"><img src=\"https://colab.research.google.com/assets/colab-badge.svg\" alt=\"Open In Colab\"/></a>"
      ]
    },
    {
      "cell_type": "code",
      "source": [
        "!pip install locale"
      ],
      "metadata": {
        "colab": {
          "base_uri": "https://localhost:8080/"
        },
        "id": "0p8X5s9pQKxD",
        "outputId": "08e929e8-f6f9-422b-9766-82ac355d0f4b"
      },
      "execution_count": 1,
      "outputs": [
        {
          "output_type": "stream",
          "name": "stdout",
          "text": [
            "\u001b[31mERROR: Could not find a version that satisfies the requirement locale (from versions: none)\u001b[0m\u001b[31m\n",
            "\u001b[0m\u001b[31mERROR: No matching distribution found for locale\u001b[0m\u001b[31m\n",
            "\u001b[0m"
          ]
        }
      ]
    },
    {
      "cell_type": "code",
      "execution_count": 2,
      "metadata": {
        "id": "CPOIMxJT6IoW"
      },
      "outputs": [],
      "source": [
        "!pip install -q transformers sentencepiece accelerate bitsandbytes"
      ]
    },
    {
      "cell_type": "code",
      "source": [
        "from transformers import AutoTokenizer, AutoModelForCausalLM\n",
        "import torch\n",
        "\n",
        "tokenizer = AutoTokenizer.from_pretrained(\n",
        "    \"nitky/Superswallow-7b-v0.1\",\n",
        ")\n",
        "model = AutoModelForCausalLM.from_pretrained(\n",
        "    \"nitky/Superswallow-7b-v0.1\",\n",
        "    torch_dtype=\"auto\",\n",
        "    device_map=\"auto\",\n",
        "    trust_remote_code=True,\n",
        "    low_cpu_mem_usage=True\n",
        ")"
      ],
      "metadata": {
        "colab": {
          "base_uri": "https://localhost:8080/",
          "height": 49,
          "referenced_widgets": [
            "cd5e46e2ebdd4f31ada9904dad3d5e8c",
            "accdeead873d4b0297a63d74cb865f7d",
            "f7825d59d2bf4adcb82821b4ba013b8f",
            "e1db507bab3446cca9c6d0b485eb7189",
            "5b33949bd63740bf8d8eaa2aa1d1f867",
            "99432c7ffd754754a674d69e605863ad",
            "209c180b050041699b99ffc17f4a891a",
            "8b2b59fbe9ca469d804428b3553197a8",
            "fa0ad1bbeae247bf8dc117ad9089feb8",
            "5e6f952b4f4d449eb65be7bd1b0df667",
            "1e18ae810e8041c8b8cdb16c1db1e80c"
          ]
        },
        "id": "gMeTnneM6LWT",
        "outputId": "1c2af25e-d7d3-4f77-d485-61967568303b"
      },
      "execution_count": 3,
      "outputs": [
        {
          "output_type": "display_data",
          "data": {
            "text/plain": [
              "Loading checkpoint shards:   0%|          | 0/2 [00:00<?, ?it/s]"
            ],
            "application/vnd.jupyter.widget-view+json": {
              "version_major": 2,
              "version_minor": 0,
              "model_id": "cd5e46e2ebdd4f31ada9904dad3d5e8c"
            }
          },
          "metadata": {}
        }
      ]
    },
    {
      "cell_type": "code",
      "source": [
        "PROMPT_DICT = {\n",
        "    \"prompt_input\": (\n",
        "        \"以下に、あるタスクを説明する指示があり、それに付随する入力が更なる文脈を提供しています。\"\n",
        "        \"リクエストを適切に完了するための回答を記述してください。\\n\\n\"\n",
        "        \"### 指示:\\n{instruction}\\n\\n### 入力:\\n{input}\\n\\n### 応答:\"\n",
        "\n",
        "    ),\n",
        "    \"prompt_no_input\": (\n",
        "        \"以下に、あるタスクを説明する指示があります。\"\n",
        "        \"リクエストを適切に完了するための回答を記述してください。\\n\\n\"\n",
        "        \"### 指示:\\n{instruction}\\n\\n### 応答:\"\n",
        "    ),\n",
        "}\n",
        "\n",
        "def create_prompt(instruction, input=None):\n",
        "    \"\"\"\n",
        "    Generates a prompt based on the given instruction and an optional input.\n",
        "    If input is provided, it uses the 'prompt_input' template from PROMPT_DICT.\n",
        "    If no input is provided, it uses the 'prompt_no_input' template.\n",
        "\n",
        "    Args:\n",
        "        instruction (str): The instruction describing the task.\n",
        "        input (str, optional): Additional input providing context for the task. Default is None.\n",
        "\n",
        "    Returns:\n",
        "        str: The generated prompt.\n",
        "    \"\"\"\n",
        "    if input:\n",
        "        # Use the 'prompt_input' template when additional input is provided\n",
        "        return PROMPT_DICT[\"prompt_input\"].format(instruction=instruction, input=input)\n",
        "    else:\n",
        "        # Use the 'prompt_no_input' template when no additional input is provided\n",
        "        return PROMPT_DICT[\"prompt_no_input\"].format(instruction=instruction)\n",
        "\n",
        "def generate(instruction_example, input_example):\n",
        "  prompt = create_prompt(instruction_example, input_example)\n",
        "\n",
        "  input_ids = tokenizer.encode(\n",
        "      prompt,\n",
        "      add_special_tokens=False,\n",
        "      return_tensors=\"pt\"\n",
        "  )\n",
        "\n",
        "  tokens = model.generate(\n",
        "      input_ids.to(device=model.device),\n",
        "      max_new_tokens=512,\n",
        "      temperature=0.7,\n",
        "      top_p=0.9,\n",
        "      repetition_penalty=1.15,\n",
        "      top_k=20,\n",
        "      do_sample=True,\n",
        "  )\n",
        "\n",
        "  return tokenizer.decode(tokens[0], skip_special_tokens=True)"
      ],
      "metadata": {
        "id": "YGmXcaDSK5eB"
      },
      "execution_count": 4,
      "outputs": []
    },
    {
      "cell_type": "code",
      "source": [
        "%%time\n",
        "# Example usage\n",
        "instruction_example = \"以下のトピックに関する詳細な情報を提供してください。\"\n",
        "input_example = \"東京工業大学の主なキャンパスについて教えてください\"\n",
        "print(generate(instruction_example, input_example))"
      ],
      "metadata": {
        "colab": {
          "base_uri": "https://localhost:8080/"
        },
        "id": "I9HM2_HRLZSA",
        "outputId": "ab1201dc-3b78-4027-a617-868701083398"
      },
      "execution_count": 5,
      "outputs": [
        {
          "output_type": "stream",
          "name": "stdout",
          "text": [
            "以下に、あるタスクを説明する指示があり、それに付随する入力が更なる文脈を提供しています。リクエストを適切に完了するための回答を記述してください。\n",
            "\n",
            "### 指示:\n",
            "以下のトピックに関する詳細な情報を提供してください。\n",
            "\n",
            "### 入力:\n",
            "東京工業大学の主なキャンパスについて教えてください\n",
            "\n",
            "### 応答:\n",
            "東京工業大学は主に2つのキャンパスで構成されています。\n",
            "1. 大田区の大岡山キャンパスとその周辺地区は、本学の中心的な拠点です。ここには学部、研究科、図書館などの主要施設が集まっており、約8,500名の学生が学んでいる。また、東工大発ベンチャーや起業家支援プログラムもこのエリアから生まれました。最寄り駅は東急目黒線「大岡山」駅。バスターミナルも近くにあり、渋谷、品川方面へのアクセスが便利です。\n",
            "2. すずかけ台キャンパスは八王子市に位置し、理工学部の一部学科と先端科学技術研究センターが所在しています。約400人の学生が学ぶほか、共同利用機器室、実験棟、グラウンド、テニスコート等の設備が完備されています。最寄駅は京王電鉄相模原線「京王堀之内」駅から徒歩約3分。新宿まで約30分、横浜まで約60分の距離です。多摩都市モノレール「中央大学・明星大学」駅下車徒歩約7分。小田急電鉄「玉川学園前」駅下車タクシー約5分。町田市街地へのバス便も多く、交通利便性は良好です。\n",
            "CPU times: user 18.6 s, sys: 361 ms, total: 18.9 s\n",
            "Wall time: 23.7 s\n"
          ]
        }
      ]
    },
    {
      "cell_type": "code",
      "source": [
        "%%time\n",
        "# Example usage\n",
        "instruction_example = \"以下のトピックに関する詳細な情報を提供してください。\"\n",
        "input_example = \"アジアで有名な観光地と名物を詳しく述べてください。\"\n",
        "print(generate(instruction_example, input_example))"
      ],
      "metadata": {
        "colab": {
          "base_uri": "https://localhost:8080/"
        },
        "id": "INgDy1fMLZ8h",
        "outputId": "a4dc0251-a809-445d-9d49-e4825874e5c7"
      },
      "execution_count": 6,
      "outputs": [
        {
          "output_type": "stream",
          "name": "stdout",
          "text": [
            "以下に、あるタスクを説明する指示があり、それに付随する入力が更なる文脈を提供しています。リクエストを適切に完了するための回答を記述してください。\n",
            "\n",
            "### 指示:\n",
            "以下のトピックに関する詳細な情報を提供してください。\n",
            "\n",
            "### 入力:\n",
            "アジアで有名な観光地と名物を詳しく述べてください。\n",
            "\n",
            "### 応答:\n",
            "アジアは世界有数の人気観光地です。ここではいくつかの代表的な国や地域の特徴を紹介します。まず中国は世界最大の人口を抱える国であり、その歴史も非常に古いです。主な都市には北京・上海・香港などがあります。また日本は古くから先進技術と伝統文化を融合させた独自の発展を遂げています。東京は国際金融センターとして名高いです。インドは広大な国土面積を持つ多民族国家であり、さまざまな宗教や言語が共存しています。首都ニューデリーは巨大な都市圏を形成しており、経済面でも重要な拠点です。タイは東南アジアの中心部に位置し、美しいビーチリゾートが点在します。バンコクはかつての王都で今も多くの人々が住んでおり、寺院や市場等の見どころも豊富です。マレーシアはボルネオ島とマレー半島に跨る連邦立憲君主制国家です。クアラルンプールは同国の首都ですが、近年は近郊地区への開発も進みつつあります。インドネシアは南東アジア最西端の大規模な群島州です。ジャカルタは同国の首都かつ主要港湾都市であり、近代化した街並みが広がる一方、伝統的な文化も根付いています。フィリピンは東南アジア諸国連合加盟国であり、主にキリスト教信仰を有する国民が住むことから「神の家」とも呼ばれます。マニラは首都ながら、交通渋滞が深刻な問題となっています。シンガポールは東南アジアの小さな島国ですが、極めて豊かな経済を誇ることで知られます。オーストラリアは太平洋南部の大陸です。シドニーは同国の首都であり、イギリス植民地時代の遺産が数多く残されています。最後にニュージーランドはオセアニアの南西ポリネシアに位置する島国です。オークランドは同国の首都であり、マオリ族の遺跡や博物館が見所です。以上のようにそれぞれのエリアは多様性溢れる魅力が満載です。是非お気に入りの場所を見つけてみましょう。\n",
            "CPU times: user 30.5 s, sys: 13.7 ms, total: 30.5 s\n",
            "Wall time: 30.6 s\n"
          ]
        }
      ]
    },
    {
      "cell_type": "code",
      "source": [
        "%%time\n",
        "# Example usage\n",
        "instruction_example = \"以下のトピックに関する詳細な情報を提供してください。\"\n",
        "input_example = \"まどか☆マギカでは誰が一番かわいい?\"\n",
        "print(generate(instruction_example, input_example))"
      ],
      "metadata": {
        "colab": {
          "base_uri": "https://localhost:8080/"
        },
        "id": "F_-56MhsM6P2",
        "outputId": "070b44c4-cdb2-406a-bc52-9ba30465f3e9"
      },
      "execution_count": 7,
      "outputs": [
        {
          "output_type": "stream",
          "name": "stdout",
          "text": [
            "以下に、あるタスクを説明する指示があり、それに付随する入力が更なる文脈を提供しています。リクエストを適切に完了するための回答を記述してください。\n",
            "\n",
            "### 指示:\n",
            "以下のトピックに関する詳細な情報を提供してください。\n",
            "\n",
            "### 入力:\n",
            "まどか☆マギカでは誰が一番かわいい?\n",
            "\n",
            "### 応答:まどか☆マギカというアニメシリーズについてお話ししましょう。この作品に登場するキャラクターの中で最もかわいらしい人は、主人公の鹿目まどかです。彼女は優しく、思いやり深い性格を持ち、その外見も非常に可愛らしいものです。彼女は長い茶色髪を持つ美少女で、大きな青い瞳が特徴的です。また、彼女は魔法使いでもあり、さまざまな魔法を駆使して敵や困難を克服することができます。さらに、彼女はとても賢く、学校の成績も優秀です。これらの理由から、私は鹿目まどかが「まどか☆マギカ」の中で最も美しい人物だと思う。他のキャラクターも魅力的ですが、鹿目まどかは間違いなくトップ3に入るでしょう。\n",
            "CPU times: user 11.6 s, sys: 122 ms, total: 11.7 s\n",
            "Wall time: 11.8 s\n"
          ]
        }
      ]
    },
    {
      "cell_type": "code",
      "source": [
        "%%time\n",
        "# Example usage\n",
        "instruction_example = \"以下のトピックに関する詳細な情報を提供してください。\"\n",
        "input_example = \"日本で一番寒い地方はどこか教えてください。\"\n",
        "print(generate(instruction_example, input_example))"
      ],
      "metadata": {
        "colab": {
          "base_uri": "https://localhost:8080/"
        },
        "id": "nEVH6hB2NK5r",
        "outputId": "abe98a1f-021b-44be-c3c9-cf484928271f"
      },
      "execution_count": 8,
      "outputs": [
        {
          "output_type": "stream",
          "name": "stdout",
          "text": [
            "以下に、あるタスクを説明する指示があり、それに付随する入力が更なる文脈を提供しています。リクエストを適切に完了するための回答を記述してください。\n",
            "\n",
            "### 指示:\n",
            "以下のトピックに関する詳細な情報を提供してください。\n",
            "\n",
            "### 入力:\n",
            "日本で一番寒い地方はどこか教えてください。\n",
            "\n",
            "### 応答:\n",
            "北海道は日本で最も寒い地域です。北海道は北極圏に位置し、冬は氷点下まで気温が下がることも珍しくありません。この地域に住む人々は厳しい寒さに適応するために厚手の衣類や暖房設備などを利用している傾向があります。また、北海道は国内でも雪が多い地域として知られています。特に札幌市は全国的に有名なスキーリゾートエリアとなっています。\n",
            "CPU times: user 6.62 s, sys: 131 ms, total: 6.75 s\n",
            "Wall time: 6.81 s\n"
          ]
        }
      ]
    },
    {
      "cell_type": "code",
      "source": [
        "%%time\n",
        "# Example usage\n",
        "instruction_example = \"\"\n",
        "# 参考wikipedia\n",
        "input= (\n",
        "    \"以下の文章を20文字以下でまとめてください。\\n\\n\"\n",
        "    \"赤血球は血液細胞の一つで色は赤く血液循環によって体中を回り、肺から得た酸素を取り込み、体のすみずみの細胞に運び供給する役割を担い、また二酸化炭素の排出にも関わる。赤血球の内部には鉄を含むタンパク質ヘモグロビンが充満しており、赤血球はヘモグロビンに酸素を取り込む。大きさは直径が7-8μm、厚さが2μm強ほどの両面中央が凹んだ円盤状であり、数は血液1μLあたり成人男性で450-650万個、成人女性で380-580万個程度で血液の容積のおよそ4-5割程度が赤血球の容積である。\"\n",
        ")\n",
        "print(generate(instruction_example, input))"
      ],
      "metadata": {
        "colab": {
          "base_uri": "https://localhost:8080/"
        },
        "id": "JqtDHr7bNQ2V",
        "outputId": "e433bebd-c270-479e-bec4-06d1d78d082d"
      },
      "execution_count": 9,
      "outputs": [
        {
          "output_type": "stream",
          "name": "stdout",
          "text": [
            "以下に、あるタスクを説明する指示があり、それに付随する入力が更なる文脈を提供しています。リクエストを適切に完了するための回答を記述してください。\n",
            "\n",
            "### 指示:\n",
            "\n",
            "\n",
            "### 入力:\n",
            "以下の文章を20文字以下でまとめてください。\n",
            "\n",
            "赤血球は血液細胞の一つで色は赤く血液循環によって体中を回り、肺から得た酸素を取り込み、体のすみずみの細胞に運び供給する役割を担い、また二酸化炭素の排出にも関わる。赤血球の内部には鉄を含むタンパク質ヘモグロビンが充満しており、赤血球はヘモグロビンに酸素を取り込む。大きさは直径が7-8μm、厚さが2μm強ほどの両面中央が凹んだ円盤状であり、数は血液1μLあたり成人男性で450-650万個、成人女性で380-580万個程度で血液の容積のおよそ4-5割程度が赤血球の容積である。\n",
            "\n",
            "### 応答:赤血球は、体内をめぐる血液の中の重要な構成要素で、体全体へ酸素と二酸化炭素を運搬します。その核は赤い色素「ヘモグロビン」です。サイズは約7〜8マイクロメートルで、体の隅々まで酸素を届けることで健康維持に貢献します。\n",
            "CPU times: user 5.77 s, sys: 339 ms, total: 6.11 s\n",
            "Wall time: 6.1 s\n"
          ]
        }
      ]
    },
    {
      "cell_type": "code",
      "source": [
        "%%time\n",
        "# Example usage\n",
        "instruction_example = \"\"\n",
        "# 参考wikipedia\n",
        "input = (\n",
        "    \"以下の文章は日本に関する文章です。国土の長さを答えてください。\\n\\n\"\n",
        "    \"全長3500キロメートル以上にわたる国土は、主に日本列島および南西諸島・伊豆諸島・小笠原諸島などの弧状列島により構成される。大部分が温帯に属するが、北部や島嶼部では亜寒帯や熱帯の地域がある。地形は起伏に富み、火山地・丘陵を含む山地の面積は国土の約75%を占め、人口は沿岸の平野部に集中している。国内には行政区分として47の都道府県があり、日本人（大和民族・琉球民族・アイヌ民族・外国系諸民族）と外国人と数百人程度の無国籍者が居住し、日本語を通用する\"\n",
        ")\n",
        "print(generate(instruction_example, input))"
      ],
      "metadata": {
        "colab": {
          "base_uri": "https://localhost:8080/"
        },
        "id": "5afWz99KN4f-",
        "outputId": "17761079-b62a-43c5-8bc0-43750eeca26e"
      },
      "execution_count": 10,
      "outputs": [
        {
          "output_type": "stream",
          "name": "stdout",
          "text": [
            "以下に、あるタスクを説明する指示があり、それに付随する入力が更なる文脈を提供しています。リクエストを適切に完了するための回答を記述してください。\n",
            "\n",
            "### 指示:\n",
            "\n",
            "\n",
            "### 入力:\n",
            "以下の文章は日本に関する文章です。国土の長さを答えてください。\n",
            "\n",
            "全長3500キロメートル以上にわたる国土は、主に日本列島および南西諸島・伊豆諸島・小笠原諸島などの弧状列島により構成される。大部分が温帯に属するが、北部や島嶼部では亜寒帯や熱帯の地域がある。地形は起伏に富み、火山地・丘陵を含む山地の面積は国土の約75%を占め、人口は沿岸の平野部に集中している。国内には行政区分として47の都道府県があり、日本人（大和民族・琉球民族・アイヌ民族・外国系諸民族）と外国人と数百人程度の無国籍者が居住し、日本語を通用する\n",
            "\n",
            "### 応答:「およそ」3,802km\n",
            "CPU times: user 1.93 s, sys: 333 ms, total: 2.27 s\n",
            "Wall time: 2.26 s\n"
          ]
        }
      ]
    },
    {
      "cell_type": "code",
      "source": [
        "%%time\n",
        "# Example usage\n",
        "instruction_example = \"\"\n",
        "# 参考wikipedia\n",
        "input = (\n",
        "    \"以下の文章は日本に関する文章です。国土の長さ（全長）を答えてください。\\n\\n\"\n",
        "    \"全長3500キロメートル以上にわたる国土は、主に日本列島および南西諸島・伊豆諸島・小笠原諸島などの弧状列島により構成される。大部分が温帯に属するが、北部や島嶼部では亜寒帯や熱帯の地域がある。地形は起伏に富み、火山地・丘陵を含む山地の面積は国土の約75%を占め、人口は沿岸の平野部に集中している。国内には行政区分として47の都道府県があり、日本人（大和民族・琉球民族・アイヌ民族・外国系諸民族）と外国人と数百人程度の無国籍者が居住し、日本語を通用する\"\n",
        ")\n",
        "print(generate(instruction_example, input))"
      ],
      "metadata": {
        "colab": {
          "base_uri": "https://localhost:8080/"
        },
        "id": "kLSq4qyTOKHW",
        "outputId": "7cd3f15d-1785-40c2-b007-8cd84f775b4a"
      },
      "execution_count": 11,
      "outputs": [
        {
          "output_type": "stream",
          "name": "stdout",
          "text": [
            "以下に、あるタスクを説明する指示があり、それに付随する入力が更なる文脈を提供しています。リクエストを適切に完了するための回答を記述してください。\n",
            "\n",
            "### 指示:\n",
            "\n",
            "\n",
            "### 入力:\n",
            "以下の文章は日本に関する文章です。国土の長さ（全長）を答えてください。\n",
            "\n",
            "全長3500キロメートル以上にわたる国土は、主に日本列島および南西諸島・伊豆諸島・小笠原諸島などの弧状列島により構成される。大部分が温帯に属するが、北部や島嶼部では亜寒帯や熱帯の地域がある。地形は起伏に富み、火山地・丘陵を含む山地の面積は国土の約75%を占め、人口は沿岸の平野部に集中している。国内には行政区分として47の都道府県があり、日本人（大和民族・琉球民族・アイヌ民族・外国系諸民族）と外国人と数百人程度の無国籍者が居住し、日本語を通用する\n",
            "\n",
            "### 応答:約38,691km\n",
            "CPU times: user 1.84 s, sys: 308 ms, total: 2.15 s\n",
            "Wall time: 2.21 s\n"
          ]
        }
      ]
    },
    {
      "cell_type": "code",
      "source": [
        "%%time\n",
        "# Example usage\n",
        "instruction_example = \"\"\n",
        "# 参考wikipedia\n",
        "input = (\n",
        "    \"以下の文章はどこの国について述べていますか。\\n\\n\"\n",
        "    \"全長3500キロメートル以上にわたる国土は、主に日本列島および南西諸島・伊豆諸島・小笠原諸島などの弧状列島により構成される。大部分が温帯に属するが、北部や島嶼部では亜寒帯や熱帯の地域がある。地形は起伏に富み、火山地・丘陵を含む山地の面積は国土の約75%を占め、人口は沿岸の平野部に集中している。国内には行政区分として47の都道府県があり、日本人（大和民族・琉球民族・アイヌ民族・外国系諸民族）と外国人と数百人程度の無国籍者が居住し、日本語を通用する\"\n",
        ")\n",
        "print(generate(instruction_example, input))"
      ],
      "metadata": {
        "colab": {
          "base_uri": "https://localhost:8080/"
        },
        "id": "39S3sZYNOTjK",
        "outputId": "191e1aec-4ce9-4f1f-fd64-4d9d25bcb335"
      },
      "execution_count": 12,
      "outputs": [
        {
          "output_type": "stream",
          "name": "stdout",
          "text": [
            "以下に、あるタスクを説明する指示があり、それに付随する入力が更なる文脈を提供しています。リクエストを適切に完了するための回答を記述してください。\n",
            "\n",
            "### 指示:\n",
            "\n",
            "\n",
            "### 入力:\n",
            "以下の文章はどこの国について述べていますか。\n",
            "\n",
            "全長3500キロメートル以上にわたる国土は、主に日本列島および南西諸島・伊豆諸島・小笠原諸島などの弧状列島により構成される。大部分が温帯に属するが、北部や島嶼部では亜寒帯や熱帯の地域がある。地形は起伏に富み、火山地・丘陵を含む山地の面積は国土の約75%を占め、人口は沿岸の平野部に集中している。国内には行政区分として47の都道府県があり、日本人（大和民族・琉球民族・アイヌ民族・外国系諸民族）と外国人と数百人程度の無国籍者が居住し、日本語を通用する\n",
            "\n",
            "### 応答:日本\n",
            "CPU times: user 1.21 s, sys: 241 ms, total: 1.45 s\n",
            "Wall time: 1.49 s\n"
          ]
        }
      ]
    }
  ]
}