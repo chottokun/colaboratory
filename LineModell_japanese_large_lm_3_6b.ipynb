{
  "nbformat": 4,
  "nbformat_minor": 0,
  "metadata": {
    "colab": {
      "provenance": [],
      "gpuType": "T4",
      "authorship_tag": "ABX9TyPkaxV3o++r0Eotiag3pKck",
      "include_colab_link": true
    },
    "kernelspec": {
      "name": "python3",
      "display_name": "Python 3"
    },
    "language_info": {
      "name": "python"
    },
    "accelerator": "GPU"
  },
  "cells": [
    {
      "cell_type": "markdown",
      "metadata": {
        "id": "view-in-github",
        "colab_type": "text"
      },
      "source": [
        "<a href=\"https://colab.research.google.com/github/chottokun/colaboratory/blob/main/LineModell_japanese_large_lm_3_6b.ipynb\" target=\"_parent\"><img src=\"https://colab.research.google.com/assets/colab-badge.svg\" alt=\"Open In Colab\"/></a>"
      ]
    },
    {
      "cell_type": "markdown",
      "source": [
        "https://huggingface.co/line-corporation/japanese-large-lm-3.6b"
      ],
      "metadata": {
        "id": "0YnHo0WNyFkr"
      }
    },
    {
      "cell_type": "code",
      "source": [
        "# パッケージのインストール\n",
        "!pip install -q transformers accelerate bitsandbytes\n",
        "!pip install -q sentencepiece einops"
      ],
      "metadata": {
        "id": "wNWsKGEMm3jy"
      },
      "execution_count": 1,
      "outputs": []
    },
    {
      "cell_type": "code",
      "source": [
        "import torch\n",
        "from transformers import AutoModelForCausalLM, AutoTokenizer\n",
        "\n",
        "# トークナイザーとモデルの準備\n",
        "tokenizer = AutoTokenizer.from_pretrained(\n",
        "    \"line-corporation/japanese-large-lm-3.6b\",\n",
        "    use_fast=False\n",
        ")\n",
        "model = AutoModelForCausalLM.from_pretrained(\n",
        "    \"line-corporation/japanese-large-lm-3.6b\",\n",
        "    load_in_8bit=True,\n",
        "    torch_dtype=torch.float16,\n",
        "    device_map=\"auto\",\n",
        ")"
      ],
      "metadata": {
        "colab": {
          "base_uri": "https://localhost:8080/"
        },
        "id": "mMde0iwPxZdK",
        "outputId": "9a4e34b6-e31e-492a-9783-ae92c1200b34"
      },
      "execution_count": 2,
      "outputs": [
        {
          "output_type": "stream",
          "name": "stderr",
          "text": [
            "You are using the legacy behaviour of the <class 'transformers.models.t5.tokenization_t5.T5Tokenizer'>. This means that tokens that come after special tokens will not be properly handled. We recommend you to read the related pull request available at https://github.com/huggingface/transformers/pull/24565\n"
          ]
        }
      ]
    },
    {
      "cell_type": "code",
      "source": [
        "def generate_text(prompt):\n",
        "  input_ids = tokenizer.encode(prompt,\n",
        "                               add_special_tokens=False,\n",
        "                               return_tensors=\"pt\")\n",
        "  tokens = model.generate(\n",
        "      input_ids.to(device=model.device),\n",
        "      max_length=1028,\n",
        "      temperature=1.0,\n",
        "      do_sample=True,\n",
        "      pad_token_id=tokenizer.pad_token_id,\n",
        "  )\n",
        "  return tokenizer.decode(tokens[0])"
      ],
      "metadata": {
        "id": "fcLXMnvBz8m1"
      },
      "execution_count": 3,
      "outputs": []
    },
    {
      "cell_type": "code",
      "source": [
        "%%time\n",
        "print(generate_text(\"今日の天気と夕飯の関係は、\"))"
      ],
      "metadata": {
        "colab": {
          "base_uri": "https://localhost:8080/"
        },
        "id": "3MsBcD1bz91k",
        "outputId": "f47a8e81-d420-4129-cadf-8222c34af367"
      },
      "execution_count": 9,
      "outputs": [
        {
          "output_type": "stream",
          "name": "stdout",
          "text": [
            "今日の天気と夕飯の関係は、 毎日の天気と夕飯の関係は 夕飯メニューから天気を予想する です。 夕飯メニューから 天気を予想する 夕食のメニューは 毎日献立を考えます。 そして、いつも同じ献立では ないので、 毎日天気を予想していると言っても 過言ではありません。 例えば、今晩の献立を考える前に 今宵の天気をチェックし、 これから1日の天気を予想します。 今晩の予定に雨が降りそうな時は 雨模様の献立を考えますが、 今日の予報では、曇りの1日なので 夕ご飯も、野菜中心の献立にして 野菜の栄養をしっかり摂取するメニューに する予定です。 また、雨が降る日は 蒸し蒸しとして食欲がなくなりやすくなります。 そのために麺類の夕食になる時もあるし、 スープメインの夕食のメニューになる時もあります。 メニューが1品でも少ない場合は、 副菜を増やすなど 栄養バランスを考えつつ 献立を考えますが、 ある程度献立のバリエーションが 決まっている場合は、 夕食メニューから 今日の天気を予想することになります。 また、 梅雨の時期は、天候不順による 体調不良を訴えるお客様が 多くいらっしゃいます。 そのため お客様が少しでも元気になって お帰り頂けるように その日の天気に適した 献立を考えております。 雨の日は、湿度が高くなり 体調を崩すお客様が多くいらっしゃる ことは、今までも経験上分かっているので 少しでもそのお客様のお辛さを 和らげられる献立を考えることは、 料理人としても、とてもやりがいのある ことなんです。 このように、天候の具合からお客様の体調を 予想して献立を考える と言うのが、 私の1日、いえ、一生の天気を予想する仕事 なんです。 以上が、今日の天気と夕飯の関係は、 毎日の天気と夕飯の関係は 夕飯メニューから天気を予想する でした。 今日の天気と夕飯の関係は、 毎日の天気と夕飯の関係は 夕飯メニューから天気を予想する でした。 最後までお読みいただき、 ありがとうございました。 お天気は一生続くものじゃありません。 あなたの今日の天気は いかがでしたでしょうか。</s>\n",
            "CPU times: user 1min 7s, sys: 155 ms, total: 1min 7s\n",
            "Wall time: 1min 7s\n"
          ]
        }
      ]
    },
    {
      "cell_type": "code",
      "source": [
        "%%time\n",
        "print(generate_text(\"まどか☆マギカで一番かわいいのは、\"))"
      ],
      "metadata": {
        "colab": {
          "base_uri": "https://localhost:8080/"
        },
        "id": "OfgM56jk1leP",
        "outputId": "8d124406-42c3-4131-f51d-70f1a15a5b36"
      },
      "execution_count": 10,
      "outputs": [
        {
          "output_type": "stream",
          "name": "stdout",
          "text": [
            "まどか☆マギカで一番かわいいのは、\n",
            "やっぱり、まどかですかな? A : 私もまどかです。\n",
            "私はほむらが1番好きです!!︎\n",
            "可愛いとかじゃなくて、まどかを守る姿がかっこよかったです。</s>\n",
            "CPU times: user 6.79 s, sys: 26.8 ms, total: 6.82 s\n",
            "Wall time: 6.9 s\n"
          ]
        }
      ]
    },
    {
      "cell_type": "code",
      "source": [
        "def generate_shortsentence(prompt):\n",
        "  input_ids = tokenizer.encode(prompt,\n",
        "                               add_special_tokens=False,\n",
        "                               return_tensors=\"pt\")\n",
        "  tokens = model.generate(\n",
        "      input_ids.to(device=model.device),\n",
        "      max_length=2028,\n",
        "      temperature=1.0,\n",
        "      do_sample=True,\n",
        "      pad_token_id=tokenizer.pad_token_id,\n",
        "  )\n",
        "  return tokenizer.decode(tokens[0])"
      ],
      "metadata": {
        "id": "LEMJ0GTJ5cW_"
      },
      "execution_count": 13,
      "outputs": []
    },
    {
      "cell_type": "code",
      "source": [
        "%%time\n",
        "print(generate_shortsentence(\"「卿らの討議も長い割に、\"))"
      ],
      "metadata": {
        "colab": {
          "base_uri": "https://localhost:8080/"
        },
        "id": "ae4qksUB5iJv",
        "outputId": "4675110d-dd95-4aa0-8f05-d8d959c337c1"
      },
      "execution_count": 14,
      "outputs": [
        {
          "output_type": "stream",
          "name": "stdout",
          "text": [
            "「卿らの討議も長い割に、結論が出ていない。卿らは私などと同じ貴族の一員だが、その貴族が私人・商人・農民・兵士といった身分を問わず治めているのだから、それ相応の責任があるはずだ。貴族を治めるとはどういうことか、その答えは君らは持っているのか?」 貴族を治める、その意味。その言葉をずっと考え込んでいた三人だったが、すぐに答えは出た。 「まず貴族とは?」 「貴族に与えられる土地や財産、権力のことだよ。貴族は王や王子、王女と同じように、国民を治める役割を担っている」 「なるほど。では貴族が治められる範囲はどこまでだ?」 「国の大きさによる。国は広く、多くの国民がいる。その国に住まう国民に税という負担を強制することはできないんだ。だから国が裕福であれば、税もそこまでかからなかったり、少ないで済む。貴族は国民に税という負担をかける代わりに、特権を与えているんだよ。それが領地だ。貴族は領地を持っているから、税を納めなくていいんだ」 領民、特に農民にとって、税は生きていくための大きな負担になる。その税を払わないで済むのは、貴族からの特権だといえるだろう。 「領地は広大で、人口も多い。そんな広大な土地だから、税は少なくて済むんだ」 貴族は国民に特権を与えているといっても、やはり国民全体の負担はどうしても大きくなってしまう。 その負担をなくそうと、税の軽減を図ったとしても、必ず反発が起こる。 税というものは、国民の大部分にとって辛いものであることは間違いない。 だからこそ、どうしても税の軽減をしなくてはならない時には、税をある程度軽減してやったとして、その分は国民に貴族からの特権を与える。そうすれば、国民全体の不満は少しでも減るはずだ。 「では、土地と領地の大きさ以外に貴族が持つ特権とは?」 この問いにも、即座に三人は思いついた回答を伝えた。 「土地の広さや領地の大きさ以外に権利を持つとすれば、一番は貴族だけの自治権だ。つまり貴族は政治に口を出す権利を持っているのさ」 「なるほど。そういうことか」 三人はそこで、ようやく自分たちの出した結論に自信が持てた。 王族や貴族なら当然の権利だといっても、国民にとっては到底受け入れがたいものだ。</s>\n",
            "CPU times: user 1min 13s, sys: 191 ms, total: 1min 14s\n",
            "Wall time: 1min 15s\n"
          ]
        }
      ]
    }
  ]
}