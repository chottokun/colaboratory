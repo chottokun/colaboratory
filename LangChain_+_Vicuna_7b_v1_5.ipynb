{
  "nbformat": 4,
  "nbformat_minor": 0,
  "metadata": {
    "colab": {
      "provenance": [],
      "gpuType": "T4",
      "authorship_tag": "ABX9TyOmG6dqJThEM1TyrwA7iIVn",
      "include_colab_link": true
    },
    "kernelspec": {
      "name": "python3",
      "display_name": "Python 3"
    },
    "language_info": {
      "name": "python"
    },
    "accelerator": "GPU"
  },
  "cells": [
    {
      "cell_type": "markdown",
      "metadata": {
        "id": "view-in-github",
        "colab_type": "text"
      },
      "source": [
        "<a href=\"https://colab.research.google.com/github/chottokun/colaboratory/blob/main/LangChain_%2B_Vicuna_7b_v1_5.ipynb\" target=\"_parent\"><img src=\"https://colab.research.google.com/assets/colab-badge.svg\" alt=\"Open In Colab\"/></a>"
      ]
    },
    {
      "cell_type": "markdown",
      "source": [
        "参考　# https://note.com/npaka/n/nb3c02ce2d4c5　など"
      ],
      "metadata": {
        "id": "RdWTSI3AXnfW"
      }
    },
    {
      "cell_type": "code",
      "source": [
        "# パッケージのインストール\n",
        "!pip install -q langchain accelerate bitsandbytes sentence_transformers\n",
        "!pip install -q langchain_experimental openai python-dotenv duckduckgo-search"
      ],
      "metadata": {
        "id": "-E6rxA0bL7La",
        "colab": {
          "base_uri": "https://localhost:8080/"
        },
        "outputId": "11e98603-eade-4ccf-b986-dc05e4cbbc15"
      },
      "execution_count": 1,
      "outputs": [
        {
          "output_type": "stream",
          "name": "stdout",
          "text": [
            "\u001b[2K     \u001b[90m━━━━━━━━━━━━━━━━━━━━━━━━━━━━━━━━━━━━━━━━\u001b[0m \u001b[32m1.5/1.5 MB\u001b[0m \u001b[31m23.9 MB/s\u001b[0m eta \u001b[36m0:00:00\u001b[0m\n",
            "\u001b[2K     \u001b[90m━━━━━━━━━━━━━━━━━━━━━━━━━━━━━━━━━━━━━━\u001b[0m \u001b[32m244.2/244.2 kB\u001b[0m \u001b[31m27.5 MB/s\u001b[0m eta \u001b[36m0:00:00\u001b[0m\n",
            "\u001b[2K     \u001b[90m━━━━━━━━━━━━━━━━━━━━━━━━━━━━━━━━━━━━━━━━\u001b[0m \u001b[32m92.6/92.6 MB\u001b[0m \u001b[31m10.9 MB/s\u001b[0m eta \u001b[36m0:00:00\u001b[0m\n",
            "\u001b[2K     \u001b[90m━━━━━━━━━━━━━━━━━━━━━━━━━━━━━━━━━━━━━━━━\u001b[0m \u001b[32m86.0/86.0 kB\u001b[0m \u001b[31m10.3 MB/s\u001b[0m eta \u001b[36m0:00:00\u001b[0m\n",
            "\u001b[?25h  Preparing metadata (setup.py) ... \u001b[?25l\u001b[?25hdone\n",
            "\u001b[2K     \u001b[90m━━━━━━━━━━━━━━━━━━━━━━━━━━━━━━━━━━━━━━━━\u001b[0m \u001b[32m90.0/90.0 kB\u001b[0m \u001b[31m10.9 MB/s\u001b[0m eta \u001b[36m0:00:00\u001b[0m\n",
            "\u001b[2K     \u001b[90m━━━━━━━━━━━━━━━━━━━━━━━━━━━━━━━━━━━━━━━━\u001b[0m \u001b[32m7.4/7.4 MB\u001b[0m \u001b[31m104.4 MB/s\u001b[0m eta \u001b[36m0:00:00\u001b[0m\n",
            "\u001b[2K     \u001b[90m━━━━━━━━━━━━━━━━━━━━━━━━━━━━━━━━━━━━━━━━\u001b[0m \u001b[32m1.3/1.3 MB\u001b[0m \u001b[31m54.6 MB/s\u001b[0m eta \u001b[36m0:00:00\u001b[0m\n",
            "\u001b[2K     \u001b[90m━━━━━━━━━━━━━━━━━━━━━━━━━━━━━━━━━━━━━━\u001b[0m \u001b[32m268.8/268.8 kB\u001b[0m \u001b[31m29.9 MB/s\u001b[0m eta \u001b[36m0:00:00\u001b[0m\n",
            "\u001b[2K     \u001b[90m━━━━━━━━━━━━━━━━━━━━━━━━━━━━━━━━━━━━━━━━\u001b[0m \u001b[32m49.4/49.4 kB\u001b[0m \u001b[31m5.9 MB/s\u001b[0m eta \u001b[36m0:00:00\u001b[0m\n",
            "\u001b[2K     \u001b[90m━━━━━━━━━━━━━━━━━━━━━━━━━━━━━━━━━━━━━━━━\u001b[0m \u001b[32m7.8/7.8 MB\u001b[0m \u001b[31m88.7 MB/s\u001b[0m eta \u001b[36m0:00:00\u001b[0m\n",
            "\u001b[2K     \u001b[90m━━━━━━━━━━━━━━━━━━━━━━━━━━━━━━━━━━━━━━━━\u001b[0m \u001b[32m1.3/1.3 MB\u001b[0m \u001b[31m60.7 MB/s\u001b[0m eta \u001b[36m0:00:00\u001b[0m\n",
            "\u001b[?25h  Building wheel for sentence_transformers (setup.py) ... \u001b[?25l\u001b[?25hdone\n",
            "\u001b[2K     \u001b[90m━━━━━━━━━━━━━━━━━━━━━━━━━━━━━━━━━━━━━━━━\u001b[0m \u001b[32m70.7/70.7 kB\u001b[0m \u001b[31m1.4 MB/s\u001b[0m eta \u001b[36m0:00:00\u001b[0m\n",
            "\u001b[2K     \u001b[90m━━━━━━━━━━━━━━━━━━━━━━━━━━━━━━━━━━━━━━━━\u001b[0m \u001b[32m73.6/73.6 kB\u001b[0m \u001b[31m4.2 MB/s\u001b[0m eta \u001b[36m0:00:00\u001b[0m\n",
            "\u001b[2K     \u001b[90m━━━━━━━━━━━━━━━━━━━━━━━━━━━━━━━━━━━━━━━━\u001b[0m \u001b[32m75.4/75.4 kB\u001b[0m \u001b[31m7.8 MB/s\u001b[0m eta \u001b[36m0:00:00\u001b[0m\n",
            "\u001b[2K     \u001b[90m━━━━━━━━━━━━━━━━━━━━━━━━━━━━━━━━━━━━━━━━\u001b[0m \u001b[32m74.5/74.5 kB\u001b[0m \u001b[31m7.0 MB/s\u001b[0m eta \u001b[36m0:00:00\u001b[0m\n",
            "\u001b[2K     \u001b[90m━━━━━━━━━━━━━━━━━━━━━━━━━━━━━━━━━━━━━━━━\u001b[0m \u001b[32m57.5/57.5 kB\u001b[0m \u001b[31m5.3 MB/s\u001b[0m eta \u001b[36m0:00:00\u001b[0m\n",
            "\u001b[2K     \u001b[90m━━━━━━━━━━━━━━━━━━━━━━━━━━━━━━━━━━━━━━━━\u001b[0m \u001b[32m2.7/2.7 MB\u001b[0m \u001b[31m50.5 MB/s\u001b[0m eta \u001b[36m0:00:00\u001b[0m\n",
            "\u001b[2K     \u001b[90m━━━━━━━━━━━━━━━━━━━━━━━━━━━━━━━━━━━━━━━━\u001b[0m \u001b[32m58.3/58.3 kB\u001b[0m \u001b[31m5.7 MB/s\u001b[0m eta \u001b[36m0:00:00\u001b[0m\n",
            "\u001b[?25h"
          ]
        }
      ]
    },
    {
      "cell_type": "code",
      "execution_count": 2,
      "metadata": {
        "id": "fIyuMCZSgYxD"
      },
      "outputs": [],
      "source": [
        "from langchain_experimental.plan_and_execute import PlanAndExecute, load_agent_executor, load_chat_planner\n",
        "from langchain.tools import DuckDuckGoSearchRun\n",
        "from langchain.agents.tools import Tool\n",
        "from langchain import LLMMathChain"
      ]
    },
    {
      "cell_type": "code",
      "source": [
        "from langchain.utilities import DuckDuckGoSearchAPIWrapper\n",
        "wrapper = DuckDuckGoSearchAPIWrapper(region=\"wt-wt\", max_results=3)"
      ],
      "metadata": {
        "id": "PYB7evAXfdeE"
      },
      "execution_count": 3,
      "outputs": []
    },
    {
      "cell_type": "code",
      "source": [
        "from langchain.tools import DuckDuckGoSearchResults\n",
        "search = DuckDuckGoSearchResults(api_wrapper=wrapper)\n",
        "results = search.run(\"ぼっち・ざ・ろっく!\")\n",
        "results.split(\"], [\")[0]"
      ],
      "metadata": {
        "colab": {
          "base_uri": "https://localhost:8080/",
          "height": 87
        },
        "id": "i5FHOxgu2rHY",
        "outputId": "7991ba97-80d6-4f81-c79e-a3a5581e2ba7"
      },
      "execution_count": 4,
      "outputs": [
        {
          "output_type": "execute_result",
          "data": {
            "text/plain": [
              "'[snippet: COMICS TWITTER SHARE SCROLL MOVIE 2023.5.21 劇場総集編 WEB予告 2022.12.25 TVアニメ「ぼっち・ざ・ろっく! 」本PV 2022.11.6 TVアニメ「ぼっち・ざ・ろっく! 」第2弾PV 2022.9.14 【第1弾PV】「ぼっち・ざ・ろっく! 」2022年10月8日㈯より放送開始! 2021.12.18 TVアニメ「ぼっち・ざ・ろっく! 」2022年放送開始! SEE ALL, title: TVアニメ「ぼっち・ざ・ろっく!」公式サイト, link: https://bocchi.rocks/'"
            ],
            "application/vnd.google.colaboratory.intrinsic+json": {
              "type": "string"
            }
          },
          "metadata": {},
          "execution_count": 4
        }
      ]
    },
    {
      "cell_type": "code",
      "source": [
        "# モデルをダウンロード\n",
        "!wget -c https://huggingface.co/TheBloke/vicuna-7B-v1.5-GGML/resolve/main/vicuna-7b-v1.5.ggmlv3.q4_K_M.bin"
      ],
      "metadata": {
        "colab": {
          "base_uri": "https://localhost:8080/"
        },
        "id": "104dNee3XU_O",
        "outputId": "c9a1cb40-4f93-405e-df21-4abe6fa55407"
      },
      "execution_count": 5,
      "outputs": [
        {
          "output_type": "stream",
          "name": "stdout",
          "text": [
            "--2023-08-18 13:04:39--  https://huggingface.co/TheBloke/vicuna-7B-v1.5-GGML/resolve/main/vicuna-7b-v1.5.ggmlv3.q4_K_M.bin\n",
            "Resolving huggingface.co (huggingface.co)... 13.33.33.102, 13.33.33.110, 13.33.33.55, ...\n",
            "Connecting to huggingface.co (huggingface.co)|13.33.33.102|:443... connected.\n",
            "HTTP request sent, awaiting response... 302 Found\n",
            "Location: https://cdn-lfs.huggingface.co/repos/04/4a/044aeab26287930d4ce031dd7ef9a573071cbc19c70dca20e5019f183d08627b/d5c5d43300f9f6a4e9e9d88d43f958e7fd2898284cc12ad0934980d591a3537e?response-content-disposition=attachment%3B+filename*%3DUTF-8%27%27vicuna-7b-v1.5.ggmlv3.q4_K_M.bin%3B+filename%3D%22vicuna-7b-v1.5.ggmlv3.q4_K_M.bin%22%3B&response-content-type=application%2Foctet-stream&Expires=1692623080&Policy=eyJTdGF0ZW1lbnQiOlt7IkNvbmRpdGlvbiI6eyJEYXRlTGVzc1RoYW4iOnsiQVdTOkVwb2NoVGltZSI6MTY5MjYyMzA4MH19LCJSZXNvdXJjZSI6Imh0dHBzOi8vY2RuLWxmcy5odWdnaW5nZmFjZS5jby9yZXBvcy8wNC80YS8wNDRhZWFiMjYyODc5MzBkNGNlMDMxZGQ3ZWY5YTU3MzA3MWNiYzE5YzcwZGNhMjBlNTAxOWYxODNkMDg2MjdiL2Q1YzVkNDMzMDBmOWY2YTRlOWU5ZDg4ZDQzZjk1OGU3ZmQyODk4Mjg0Y2MxMmFkMDkzNDk4MGQ1OTFhMzUzN2U%7EcmVzcG9uc2UtY29udGVudC1kaXNwb3NpdGlvbj0qJnJlc3BvbnNlLWNvbnRlbnQtdHlwZT0qIn1dfQ__&Signature=UkDVmMDMDCfEV1yTKbOCp0KNEtucn3CoSyVerXctuulVkMMC0US8tpfRSRioFADLUhsjBzKJps-ehzyvW2uTz-SSh9H93Fgi5AkTW3d1MFA6euh9cDHqufGyvKH5%7EyGfIFIA7bk5Jbk54g6SkUiqFpyyboQWhUoVI6j4mI88mkeeX93gxHHKbRb3m-p2OcKQsBbJhDeG1ic3XnnJbzTWCDhwtG3khPWj7ZhKXyvkbgMVxneHpyVw29nWF8yuU4rHfW4BmAKvi5CyvRafNfpWHOMdj9gd6HIsAq%7E1nI01bhWcyMB2au6KG-Y7jItxk2TwH1GJUVC3t7OoxxNgYHTjLg__&Key-Pair-Id=KVTP0A1DKRTAX [following]\n",
            "--2023-08-18 13:04:40--  https://cdn-lfs.huggingface.co/repos/04/4a/044aeab26287930d4ce031dd7ef9a573071cbc19c70dca20e5019f183d08627b/d5c5d43300f9f6a4e9e9d88d43f958e7fd2898284cc12ad0934980d591a3537e?response-content-disposition=attachment%3B+filename*%3DUTF-8%27%27vicuna-7b-v1.5.ggmlv3.q4_K_M.bin%3B+filename%3D%22vicuna-7b-v1.5.ggmlv3.q4_K_M.bin%22%3B&response-content-type=application%2Foctet-stream&Expires=1692623080&Policy=eyJTdGF0ZW1lbnQiOlt7IkNvbmRpdGlvbiI6eyJEYXRlTGVzc1RoYW4iOnsiQVdTOkVwb2NoVGltZSI6MTY5MjYyMzA4MH19LCJSZXNvdXJjZSI6Imh0dHBzOi8vY2RuLWxmcy5odWdnaW5nZmFjZS5jby9yZXBvcy8wNC80YS8wNDRhZWFiMjYyODc5MzBkNGNlMDMxZGQ3ZWY5YTU3MzA3MWNiYzE5YzcwZGNhMjBlNTAxOWYxODNkMDg2MjdiL2Q1YzVkNDMzMDBmOWY2YTRlOWU5ZDg4ZDQzZjk1OGU3ZmQyODk4Mjg0Y2MxMmFkMDkzNDk4MGQ1OTFhMzUzN2U%7EcmVzcG9uc2UtY29udGVudC1kaXNwb3NpdGlvbj0qJnJlc3BvbnNlLWNvbnRlbnQtdHlwZT0qIn1dfQ__&Signature=UkDVmMDMDCfEV1yTKbOCp0KNEtucn3CoSyVerXctuulVkMMC0US8tpfRSRioFADLUhsjBzKJps-ehzyvW2uTz-SSh9H93Fgi5AkTW3d1MFA6euh9cDHqufGyvKH5%7EyGfIFIA7bk5Jbk54g6SkUiqFpyyboQWhUoVI6j4mI88mkeeX93gxHHKbRb3m-p2OcKQsBbJhDeG1ic3XnnJbzTWCDhwtG3khPWj7ZhKXyvkbgMVxneHpyVw29nWF8yuU4rHfW4BmAKvi5CyvRafNfpWHOMdj9gd6HIsAq%7E1nI01bhWcyMB2au6KG-Y7jItxk2TwH1GJUVC3t7OoxxNgYHTjLg__&Key-Pair-Id=KVTP0A1DKRTAX\n",
            "Resolving cdn-lfs.huggingface.co (cdn-lfs.huggingface.co)... 18.155.68.98, 18.155.68.94, 18.155.68.128, ...\n",
            "Connecting to cdn-lfs.huggingface.co (cdn-lfs.huggingface.co)|18.155.68.98|:443... connected.\n",
            "HTTP request sent, awaiting response... 200 OK\n",
            "Length: 4080714368 (3.8G) [application/octet-stream]\n",
            "Saving to: ‘vicuna-7b-v1.5.ggmlv3.q4_K_M.bin’\n",
            "\n",
            "vicuna-7b-v1.5.ggml 100%[===================>]   3.80G   234MB/s    in 23s     \n",
            "\n",
            "2023-08-18 13:05:04 (167 MB/s) - ‘vicuna-7b-v1.5.ggmlv3.q4_K_M.bin’ saved [4080714368/4080714368]\n",
            "\n"
          ]
        }
      ]
    },
    {
      "cell_type": "code",
      "source": [
        "# llma-cpp-pythonをインストール\n",
        "!CMAKE_ARGS=\"-DLLAMA_CUBLAS=on\" FORCE_CMAKE=1 pip install --upgrade --force-reinstall llama-cpp-python --no-cache-dir"
      ],
      "metadata": {
        "colab": {
          "base_uri": "https://localhost:8080/"
        },
        "id": "7QxbjmstXZW4",
        "outputId": "7b17e2c1-b9bf-44ec-ecb8-c1fe16cb3425"
      },
      "execution_count": 6,
      "outputs": [
        {
          "output_type": "stream",
          "name": "stdout",
          "text": [
            "Collecting llama-cpp-python\n",
            "  Downloading llama_cpp_python-0.1.78.tar.gz (1.7 MB)\n",
            "\u001b[2K     \u001b[90m━━━━━━━━━━━━━━━━━━━━━━━━━━━━━━━━━━━━━━━━\u001b[0m \u001b[32m1.7/1.7 MB\u001b[0m \u001b[31m26.4 MB/s\u001b[0m eta \u001b[36m0:00:00\u001b[0m\n",
            "\u001b[?25h  Installing build dependencies ... \u001b[?25l\u001b[?25hdone\n",
            "  Getting requirements to build wheel ... \u001b[?25l\u001b[?25hdone\n",
            "  Preparing metadata (pyproject.toml) ... \u001b[?25l\u001b[?25hdone\n",
            "Collecting typing-extensions>=4.5.0 (from llama-cpp-python)\n",
            "  Downloading typing_extensions-4.7.1-py3-none-any.whl (33 kB)\n",
            "Collecting numpy>=1.20.0 (from llama-cpp-python)\n",
            "  Downloading numpy-1.25.2-cp310-cp310-manylinux_2_17_x86_64.manylinux2014_x86_64.whl (18.2 MB)\n",
            "\u001b[2K     \u001b[90m━━━━━━━━━━━━━━━━━━━━━━━━━━━━━━━━━━━━━━━\u001b[0m \u001b[32m18.2/18.2 MB\u001b[0m \u001b[31m210.3 MB/s\u001b[0m eta \u001b[36m0:00:00\u001b[0m\n",
            "\u001b[?25hCollecting diskcache>=5.6.1 (from llama-cpp-python)\n",
            "  Downloading diskcache-5.6.1-py3-none-any.whl (45 kB)\n",
            "\u001b[2K     \u001b[90m━━━━━━━━━━━━━━━━━━━━━━━━━━━━━━━━━━━━━━━\u001b[0m \u001b[32m45.6/45.6 kB\u001b[0m \u001b[31m176.8 MB/s\u001b[0m eta \u001b[36m0:00:00\u001b[0m\n",
            "\u001b[?25hBuilding wheels for collected packages: llama-cpp-python\n",
            "  Building wheel for llama-cpp-python (pyproject.toml) ... \u001b[?25l\u001b[?25hdone\n",
            "  Created wheel for llama-cpp-python: filename=llama_cpp_python-0.1.78-cp310-cp310-linux_x86_64.whl size=5822279 sha256=72ff1c75e51ef3c07ba9fa864df625817fbafbac63793a6f8b5d5e6264a4b32a\n",
            "  Stored in directory: /tmp/pip-ephem-wheel-cache-gac_ftzy/wheels/61/f9/20/9ca660a9d3f2a47e44217059409478865948b5c8a1cba70030\n",
            "Successfully built llama-cpp-python\n",
            "Installing collected packages: typing-extensions, numpy, diskcache, llama-cpp-python\n",
            "  Attempting uninstall: typing-extensions\n",
            "    Found existing installation: typing_extensions 4.7.1\n",
            "    Uninstalling typing_extensions-4.7.1:\n",
            "      Successfully uninstalled typing_extensions-4.7.1\n",
            "  Attempting uninstall: numpy\n",
            "    Found existing installation: numpy 1.23.5\n",
            "    Uninstalling numpy-1.23.5:\n",
            "      Successfully uninstalled numpy-1.23.5\n",
            "\u001b[31mERROR: pip's dependency resolver does not currently take into account all the packages that are installed. This behaviour is the source of the following dependency conflicts.\n",
            "numba 0.56.4 requires numpy<1.24,>=1.18, but you have numpy 1.25.2 which is incompatible.\n",
            "tensorflow 2.12.0 requires numpy<1.24,>=1.22, but you have numpy 1.25.2 which is incompatible.\u001b[0m\u001b[31m\n",
            "\u001b[0mSuccessfully installed diskcache-5.6.1 llama-cpp-python-0.1.78 numpy-1.25.2 typing-extensions-4.7.1\n"
          ]
        }
      ]
    },
    {
      "cell_type": "code",
      "source": [
        "# LLM\n",
        "from llama_cpp import Llama\n",
        "from langchain.llms import LlamaCpp\n",
        "\n",
        "# LLMの準備\n",
        "n_gpu_layers = 32\n",
        "n_batch = 512\n",
        "\n",
        "llm = LlamaCpp(\n",
        "    model_path=\"/content/vicuna-7b-v1.5.ggmlv3.q4_K_M.bin\",\n",
        "    n_gpu_layers=n_gpu_layers,\n",
        "    n_batch=n_batch,\n",
        "    n_ctx=4048,\n",
        "    temperature=0.25,\n",
        "    max_tokens=512,\n",
        "    top_p=1,\n",
        "    # verbose=True,\n",
        ")\n",
        "\n",
        "# プロンプトの準備\n",
        "prompt = \"\"\"### Instruction: What is the height of Mount Fuji?\n",
        "### Response:\"\"\"\n",
        "\n",
        "# 推論の実行\n",
        "output = llm(\n",
        "    prompt,\n",
        "    temperature=0.1,\n",
        "    stop=[\"Instruction:\", \"Input:\", \"Response:\", \"\\n\"],\n",
        "    echo=True,\n",
        ")\n",
        "\n",
        "# 結果の表示\n",
        "print(output)"
      ],
      "metadata": {
        "colab": {
          "base_uri": "https://localhost:8080/"
        },
        "id": "5fqS46xKXcLU",
        "outputId": "66754bec-a1aa-4461-a7fa-69ba876fc16a"
      },
      "execution_count": 7,
      "outputs": [
        {
          "output_type": "stream",
          "name": "stderr",
          "text": [
            "AVX = 1 | AVX2 = 1 | AVX512 = 0 | AVX512_VBMI = 0 | AVX512_VNNI = 0 | FMA = 1 | NEON = 0 | ARM_FMA = 0 | F16C = 1 | FP16_VA = 0 | WASM_SIMD = 0 | BLAS = 1 | SSE3 = 1 | VSX = 0 | \n"
          ]
        },
        {
          "output_type": "stream",
          "name": "stdout",
          "text": [
            " The height of Mount Fuji is approximately 12,388 feet (3,764 meters).\n"
          ]
        }
      ]
    },
    {
      "cell_type": "code",
      "source": [
        "from langchain.agents import load_tools\n",
        "\n",
        "# ツールの準備\n",
        "tools = [\n",
        "    Tool(\n",
        "        name=\"Search\",\n",
        "        func=search.run,\n",
        "        description=\"Useful for when you need to get infomation by queries.\"\n",
        "    ),\n",
        "]"
      ],
      "metadata": {
        "id": "sGzIsr_IAglH"
      },
      "execution_count": 8,
      "outputs": []
    },
    {
      "cell_type": "code",
      "source": [
        "from langchain.agents import initialize_agent\n",
        "# from langchain.agents import AgentType\n",
        "\n",
        "# エージェントの作成\n",
        "agent = initialize_agent(\n",
        "    agent=\"zero-shot-react-description\",\n",
        "    llm=llm,\n",
        "    tools=tools,\n",
        "    verbose=True,\n",
        "    handle_parsing_errors=True,\n",
        "    max_tokens=100\n",
        ")"
      ],
      "metadata": {
        "id": "li3B5mgMgiIU"
      },
      "execution_count": 9,
      "outputs": []
    },
    {
      "cell_type": "code",
      "source": [
        "response = agent.run(\"アニメ「ぼっち・ざ・ろっく」主人公が通う学校の名前は？\")\n",
        "print(response)"
      ],
      "metadata": {
        "colab": {
          "base_uri": "https://localhost:8080/",
          "height": 1000
        },
        "id": "4lLWBwG6a2DN",
        "outputId": "0eb61d57-7c07-41ed-ede7-9815d8cd1eca"
      },
      "execution_count": 10,
      "outputs": [
        {
          "output_type": "stream",
          "name": "stdout",
          "text": [
            "\n",
            "\n",
            "\u001b[1m> Entering new AgentExecutor chain...\u001b[0m\n"
          ]
        },
        {
          "output_type": "stream",
          "name": "stderr",
          "text": [
            "Llama.generate: prefix-match hit\n"
          ]
        },
        {
          "output_type": "stream",
          "name": "stdout",
          "text": [
            "\u001b[32;1m\u001b[1;3m The school's name is important for understanding the context of the anime.\n",
            "Action: Search\u001b[0m\n",
            "Observation: Invalid Format: Missing 'Action Input:' after 'Action:'\n",
            "Thought:"
          ]
        },
        {
          "output_type": "stream",
          "name": "stderr",
          "text": [
            "Llama.generate: prefix-match hit\n"
          ]
        },
        {
          "output_type": "stream",
          "name": "stdout",
          "text": [
            "\u001b[32;1m\u001b[1;3m I need to provide a search query to find the answer.\n",
            "Action: Search\n",
            "Action Input: \"アニメ「っち・・ろっく」主人公が通う学校の名前\" school name\u001b[0m\n",
            "Observation: \u001b[36;1m\u001b[1;3m[snippet: そして予告された7月18日に「い・ろ・は・す」と「ぼっち・ざ・ろっく!」のコラボレーションが告知され、テレビアニメの既存の映像に新規カットを加えるなどして再構成した映像に新たにアフレコを行った動画がTwitterとYouTubeで公開され、Twitterでは ..., title: ぼっち・ざ・ろっく! (アニメ) - Wikipedia, link: https://ja.wikipedia.org/wiki/ぼっち・ざ・ろっく!_(アニメ)], [snippet: 『ブルーロック』（bluelock）は、金城宗幸（原作）、ノ村優介（作画）による日本の漫画。『週刊少年マガジン』（講談社）にて2018年35号より連載中 。 2021年5月に第45回講談社漫画賞の少年部門を受賞 。 2023年7月時点で累計部数は2700万部を突破している 。. スピンオフ作品として、『別冊少年 ..., title: ブルーロック - Wikipedia, link: https://ja.wikipedia.org/wiki/ブルーロック], [snippet: アニメ『ぼっち・ざ・ろっく!』第2期が制作される可能性や、原作マンガの何巻までアニメ化されたのかなどの情報をまとめています。2022年秋に放送された第1期では、12話で原作漫画2巻の途中までのストーリーが映像化されました。, title: アニメ『ぼっち・ざ・ろっく!』 2期はいつから？続編の可能性はある？ | インタビュー・特集 | Abema Times | アベマタイムズ, link: https://times.abema.tv/articles/-/10065124], [snippet: hatena Pocket 目次を表示 引っ込み思案の女子高生がバンドを通して成長していく姿を描いた作品「ぼっち・ざ・ろっく! 」。 2022年にはテレビアニメが放送され、劇中で登場した楽曲が人気となったほか、多くのファンアートも生み出されています。 そこで2023年1月10日から1月17日まで、ねとらぼ調査隊では「『ぼっち・ざ・ろっく! 』で一番好きなキャラは？..., title: 「ぼっち・ざ・ろっく!」キャラクター人気ランキングtop25! 第1位は「後藤ひとり」に決定!【2023年最新投票結果】（1/7） | アニメ ..., link: https://nlab.itmedia.co.jp/research/articles/1205934/]\u001b[0m\n",
            "Thought:"
          ]
        },
        {
          "output_type": "stream",
          "name": "stderr",
          "text": [
            "Llama.generate: prefix-match hit\n"
          ]
        },
        {
          "output_type": "stream",
          "name": "stdout",
          "text": [
            "\u001b[32;1m\u001b[1;3m The school's name is still not clear from the search results.\n",
            "Action: Search\u001b[0m\n",
            "Observation: Invalid Format: Missing 'Action Input:' after 'Action:'\n",
            "Thought:"
          ]
        },
        {
          "output_type": "stream",
          "name": "stderr",
          "text": [
            "Llama.generate: prefix-match hit\n"
          ]
        },
        {
          "output_type": "stream",
          "name": "stdout",
          "text": [
            "\u001b[32;1m\u001b[1;3m I need to provide a more specific search query for the school's name.\n",
            "Action: Search\n",
            "Action Input: \"アニメ「っち・・ろっく」主人公が通う学校の名前\" school name\u001b[0m\n",
            "Observation: \u001b[36;1m\u001b[1;3m[snippet: そして予告された7月18日に「い・ろ・は・す」と「ぼっち・ざ・ろっく!」のコラボレーションが告知され、テレビアニメの既存の映像に新規カットを加えるなどして再構成した映像に新たにアフレコを行った動画がTwitterとYouTubeで公開され、Twitterでは ..., title: ぼっち・ざ・ろっく! (アニメ) - Wikipedia, link: https://ja.wikipedia.org/wiki/ぼっち・ざ・ろっく!_(アニメ)], [snippet: 2022年秋季アニメとして放送・配信が開始された『ぼっち・ざ・ろっく!』（TOKYO MXほか）。アニメ『その着せ替え人形は恋をする』や「青春ブタ ..., title: 『ぼっち・ざ・ろっく!』主人公・ひとりの愛すべきキャラクターとは？ 原作との比較から考察｜Real Sound｜リアルサウンド ブック, link: https://realsound.jp/book/2022/10/post-1159038.html], [snippet: 『ブルーロック』（bluelock）は、金城宗幸（原作）、ノ村優介（作画）による日本の漫画。『週刊少年マガジン』（講談社）にて2018年35号より連載中 。 2021年5月に第45回講談社漫画賞の少年部門を受賞 。 2023年7月時点で累計部数は2700万部を突破している 。. スピンオフ作品として、『別冊少年 ..., title: ブルーロック - Wikipedia, link: https://ja.wikipedia.org/wiki/ブルーロック], [snippet: アニメ『ぼっち・ざ・ろっく!』第2期が制作される可能性や、原作マンガの何巻までアニメ化されたのかなどの情報をまとめています。2022年秋に放送された第1期では、12話で原作漫画2巻の途中までのストーリーが映像化されました。, title: アニメ『ぼっち・ざ・ろっく!』 2期はいつから？続編の可能性はある？ | インタビュー・特集 | Abema Times | アベマタイムズ, link: https://times.abema.tv/articles/-/10065124]\u001b[0m\n",
            "Thought:"
          ]
        },
        {
          "output_type": "stream",
          "name": "stderr",
          "text": [
            "Llama.generate: prefix-match hit\n"
          ]
        },
        {
          "output_type": "stream",
          "name": "stdout",
          "text": [
            "\u001b[32;1m\u001b[1;3m The school's name is still not clear from the search results.\n",
            "Action: Search\u001b[0m\n",
            "Observation: Invalid Format: Missing 'Action Input:' after 'Action:'\n",
            "Thought:"
          ]
        },
        {
          "output_type": "stream",
          "name": "stderr",
          "text": [
            "Llama.generate: prefix-match hit\n"
          ]
        },
        {
          "output_type": "stream",
          "name": "stdout",
          "text": [
            "\u001b[32;1m\u001b[1;3m I need to provide a more specific search query for the school's name.\n",
            "Action: Search\n",
            "Action Input: \"アニメ「っち・・ろっく」主人公が通う学校の名前\" school name\u001b[0m\n",
            "Observation: \u001b[36;1m\u001b[1;3m[snippet: 『ぼっち・ざ・ろっく!』（BOCCHI THE ROCK!）は、はまじあきによる日本の4コマ漫画『ぼっち・ざ・ろっく! 』を原作とした日本のアニメ作品。 2022年10月から12月までTOKYO MXほかにて放送された 。. 初アルバムである「結束バンド」は、CD初週売上7.3万枚、ダウンロード・アルバム・チャートでは ..., title: ぼっち・ざ・ろっく! (アニメ) - Wikipedia, link: https://ja.wikipedia.org/wiki/ぼっち・ざ・ろっく!_(アニメ)], [snippet: 『ブルーロック』（bluelock）は、金城宗幸（原作）、ノ村優介（作画）による日本の漫画。『週刊少年マガジン』（講談社）にて2018年35号より連載中 。 2021年5月に第45回講談社漫画賞の少年部門を受賞 。 2023年7月時点で累計部数は2700万部を突破している 。. スピンオフ作品として、『別冊少年 ..., title: ブルーロック - Wikipedia, link: https://ja.wikipedia.org/wiki/ブルーロック], [snippet: アニメ『ぼっち・ざ・ろっく!』第2期が制作される可能性や、原作マンガの何巻までアニメ化されたのかなどの情報をまとめています。2022年秋に放送された第1期では、12話で原作漫画2巻の途中までのストーリーが映像化されました。, title: アニメ『ぼっち・ざ・ろっく!』 2期はいつから？続編の可能性はある？ | インタビュー・特集 | Abema Times | アベマタイムズ, link: https://times.abema.tv/articles/-/10065124], [snippet: 引っ込み思案の女子高生がバンドを通して成長していく姿を描いた作品「ぼっち・ざ・ろっく!」。2022年にはテレビアニメが放送され、劇中で ..., title: 「ぼっち・ざ・ろっく!」キャラクター人気ランキングtop25! 第1位は「後藤ひとり」に決定!【2023年最新投票結果】（1/7） | アニメ ..., link: https://nlab.itmedia.co.jp/research/articles/1205934/]\u001b[0m\n",
            "Thought:"
          ]
        },
        {
          "output_type": "stream",
          "name": "stderr",
          "text": [
            "Llama.generate: prefix-match hit\n"
          ]
        },
        {
          "output_type": "stream",
          "name": "stdout",
          "text": [
            "\u001b[32;1m\u001b[1;3m The school's name is still not clear from the search results.\n",
            "Action: Search\u001b[0m\n",
            "Observation: Invalid Format: Missing 'Action Input:' after 'Action:'\n",
            "Thought:"
          ]
        },
        {
          "output_type": "stream",
          "name": "stderr",
          "text": [
            "Llama.generate: prefix-match hit\n"
          ]
        },
        {
          "output_type": "stream",
          "name": "stdout",
          "text": [
            "\u001b[32;1m\u001b[1;3m I need to provide a more specific search query for the school's name.\n",
            "Action: Search\n",
            "Action Input: \"アニメ「っち・・ろっく」主人公が通う学校の名前\" school name\u001b[0m\n",
            "Observation: \u001b[36;1m\u001b[1;3m[snippet: そして予告された7月18日に「い・ろ・は・す」と「ぼっち・ざ・ろっく!」のコラボレーションが告知され、テレビアニメの既存の映像に新規カットを加えるなどして再構成した映像に新たにアフレコを行った動画がTwitterとYouTubeで公開され、Twitterでは ..., title: ぼっち・ざ・ろっく! (アニメ) - Wikipedia, link: https://ja.wikipedia.org/wiki/ぼっち・ざ・ろっく!_(アニメ)], [snippet: 劇中に登場するバンド「結束バンド」の楽曲を収録したアルバムは、アルバムランキングで首位を獲得したり、主人公の後藤ひとり（ごとう ひとり）が持っているモデルのギターが売れるなどアニメの枠を飛び越えて話題になっています。 この記事では、『ぼっち・ざ・ろっく! 』第2期が制作される可能性や、原作マンガの何巻までアニメ化されたのかなどの情報をまとめています。 目次 『ぼざろ』映画化! 1期の劇場総集編の上映が決定 アニメ『ぼっち・ざ・ろっく! 』とは？ アニメ『ぼっち・ざ・ろっく! 』2期が制作される可能性は？ アニメ『ぼっち・ざ・ろっく! 』2期はいつから？ 2期のネット配信（サブスク配信）はある？ 目次を開く, title: アニメ『ぼっち・ざ・ろっく!』 2期はいつから？続編の可能性はある？ | インタビュー・特集 | Abema Times | アベマタイムズ, link: https://times.abema.tv/articles/-/10065124], [snippet: 『ブルーロック』（bluelock）は、金城宗幸（原作）、ノ村優介（作画）による日本の漫画。『週刊少年マガジン』（講談社）にて2018年35号より連載中 。 2021年5月に第45回講談社漫画賞の少年部門を受賞 。 2023年7月時点で累計部数は2700万部を突破している 。. スピンオフ作品として、『別冊少年 ..., title: ブルーロック - Wikipedia, link: https://ja.wikipedia.org/wiki/ブルーロック], [snippet: hatena Pocket 目次を表示 引っ込み思案の女子高生がバンドを通して成長していく姿を描いた作品「ぼっち・ざ・ろっく! 」。 2022年にはテレビアニメが放送され、劇中で登場した楽曲が人気となったほか、多くのファンアートも生み出されています。 そこで2023年1月10日から1月17日まで、ねとらぼ調査隊では「『ぼっち・ざ・ろっく! 』で一番好きなキャラは？..., title: 「ぼっち・ざ・ろっく!」キャラクター人気ランキングtop25! 第1位は「後藤ひとり」に決定!【2023年最新投票結果】（1/7） | アニメ ..., link: https://nlab.itmedia.co.jp/research/articles/1205934/]\u001b[0m\n",
            "Thought:"
          ]
        },
        {
          "output_type": "error",
          "ename": "ValueError",
          "evalue": "ignored",
          "traceback": [
            "\u001b[0;31m---------------------------------------------------------------------------\u001b[0m",
            "\u001b[0;31mValueError\u001b[0m                                Traceback (most recent call last)",
            "\u001b[0;32m<ipython-input-10-da8a5c550369>\u001b[0m in \u001b[0;36m<cell line: 1>\u001b[0;34m()\u001b[0m\n\u001b[0;32m----> 1\u001b[0;31m \u001b[0mresponse\u001b[0m \u001b[0;34m=\u001b[0m \u001b[0magent\u001b[0m\u001b[0;34m.\u001b[0m\u001b[0mrun\u001b[0m\u001b[0;34m(\u001b[0m\u001b[0;34m\"アニメ「ぼっち・ざ・ろっく」主人公が通う学校の名前は？\"\u001b[0m\u001b[0;34m)\u001b[0m\u001b[0;34m\u001b[0m\u001b[0;34m\u001b[0m\u001b[0m\n\u001b[0m\u001b[1;32m      2\u001b[0m \u001b[0mprint\u001b[0m\u001b[0;34m(\u001b[0m\u001b[0mresponse\u001b[0m\u001b[0;34m)\u001b[0m\u001b[0;34m\u001b[0m\u001b[0;34m\u001b[0m\u001b[0m\n",
            "\u001b[0;32m/usr/local/lib/python3.10/dist-packages/langchain/chains/base.py\u001b[0m in \u001b[0;36mrun\u001b[0;34m(self, callbacks, tags, metadata, *args, **kwargs)\u001b[0m\n\u001b[1;32m    473\u001b[0m             \u001b[0;32mif\u001b[0m \u001b[0mlen\u001b[0m\u001b[0;34m(\u001b[0m\u001b[0margs\u001b[0m\u001b[0;34m)\u001b[0m \u001b[0;34m!=\u001b[0m \u001b[0;36m1\u001b[0m\u001b[0;34m:\u001b[0m\u001b[0;34m\u001b[0m\u001b[0;34m\u001b[0m\u001b[0m\n\u001b[1;32m    474\u001b[0m                 \u001b[0;32mraise\u001b[0m \u001b[0mValueError\u001b[0m\u001b[0;34m(\u001b[0m\u001b[0;34m\"`run` supports only one positional argument.\"\u001b[0m\u001b[0;34m)\u001b[0m\u001b[0;34m\u001b[0m\u001b[0;34m\u001b[0m\u001b[0m\n\u001b[0;32m--> 475\u001b[0;31m             return self(args[0], callbacks=callbacks, tags=tags, metadata=metadata)[\n\u001b[0m\u001b[1;32m    476\u001b[0m                 \u001b[0m_output_key\u001b[0m\u001b[0;34m\u001b[0m\u001b[0;34m\u001b[0m\u001b[0m\n\u001b[1;32m    477\u001b[0m             ]\n",
            "\u001b[0;32m/usr/local/lib/python3.10/dist-packages/langchain/chains/base.py\u001b[0m in \u001b[0;36m__call__\u001b[0;34m(self, inputs, return_only_outputs, callbacks, tags, metadata, include_run_info)\u001b[0m\n\u001b[1;32m    280\u001b[0m         \u001b[0;32mexcept\u001b[0m \u001b[0;34m(\u001b[0m\u001b[0mKeyboardInterrupt\u001b[0m\u001b[0;34m,\u001b[0m \u001b[0mException\u001b[0m\u001b[0;34m)\u001b[0m \u001b[0;32mas\u001b[0m \u001b[0me\u001b[0m\u001b[0;34m:\u001b[0m\u001b[0;34m\u001b[0m\u001b[0;34m\u001b[0m\u001b[0m\n\u001b[1;32m    281\u001b[0m             \u001b[0mrun_manager\u001b[0m\u001b[0;34m.\u001b[0m\u001b[0mon_chain_error\u001b[0m\u001b[0;34m(\u001b[0m\u001b[0me\u001b[0m\u001b[0;34m)\u001b[0m\u001b[0;34m\u001b[0m\u001b[0;34m\u001b[0m\u001b[0m\n\u001b[0;32m--> 282\u001b[0;31m             \u001b[0;32mraise\u001b[0m \u001b[0me\u001b[0m\u001b[0;34m\u001b[0m\u001b[0;34m\u001b[0m\u001b[0m\n\u001b[0m\u001b[1;32m    283\u001b[0m         \u001b[0mrun_manager\u001b[0m\u001b[0;34m.\u001b[0m\u001b[0mon_chain_end\u001b[0m\u001b[0;34m(\u001b[0m\u001b[0moutputs\u001b[0m\u001b[0;34m)\u001b[0m\u001b[0;34m\u001b[0m\u001b[0;34m\u001b[0m\u001b[0m\n\u001b[1;32m    284\u001b[0m         final_outputs: Dict[str, Any] = self.prep_outputs(\n",
            "\u001b[0;32m/usr/local/lib/python3.10/dist-packages/langchain/chains/base.py\u001b[0m in \u001b[0;36m__call__\u001b[0;34m(self, inputs, return_only_outputs, callbacks, tags, metadata, include_run_info)\u001b[0m\n\u001b[1;32m    274\u001b[0m         \u001b[0;32mtry\u001b[0m\u001b[0;34m:\u001b[0m\u001b[0;34m\u001b[0m\u001b[0;34m\u001b[0m\u001b[0m\n\u001b[1;32m    275\u001b[0m             outputs = (\n\u001b[0;32m--> 276\u001b[0;31m                 \u001b[0mself\u001b[0m\u001b[0;34m.\u001b[0m\u001b[0m_call\u001b[0m\u001b[0;34m(\u001b[0m\u001b[0minputs\u001b[0m\u001b[0;34m,\u001b[0m \u001b[0mrun_manager\u001b[0m\u001b[0;34m=\u001b[0m\u001b[0mrun_manager\u001b[0m\u001b[0;34m)\u001b[0m\u001b[0;34m\u001b[0m\u001b[0;34m\u001b[0m\u001b[0m\n\u001b[0m\u001b[1;32m    277\u001b[0m                 \u001b[0;32mif\u001b[0m \u001b[0mnew_arg_supported\u001b[0m\u001b[0;34m\u001b[0m\u001b[0;34m\u001b[0m\u001b[0m\n\u001b[1;32m    278\u001b[0m                 \u001b[0;32melse\u001b[0m \u001b[0mself\u001b[0m\u001b[0;34m.\u001b[0m\u001b[0m_call\u001b[0m\u001b[0;34m(\u001b[0m\u001b[0minputs\u001b[0m\u001b[0;34m)\u001b[0m\u001b[0;34m\u001b[0m\u001b[0;34m\u001b[0m\u001b[0m\n",
            "\u001b[0;32m/usr/local/lib/python3.10/dist-packages/langchain/agents/agent.py\u001b[0m in \u001b[0;36m_call\u001b[0;34m(self, inputs, run_manager)\u001b[0m\n\u001b[1;32m   1034\u001b[0m         \u001b[0;31m# We now enter the agent loop (until it returns something).\u001b[0m\u001b[0;34m\u001b[0m\u001b[0;34m\u001b[0m\u001b[0m\n\u001b[1;32m   1035\u001b[0m         \u001b[0;32mwhile\u001b[0m \u001b[0mself\u001b[0m\u001b[0;34m.\u001b[0m\u001b[0m_should_continue\u001b[0m\u001b[0;34m(\u001b[0m\u001b[0miterations\u001b[0m\u001b[0;34m,\u001b[0m \u001b[0mtime_elapsed\u001b[0m\u001b[0;34m)\u001b[0m\u001b[0;34m:\u001b[0m\u001b[0;34m\u001b[0m\u001b[0;34m\u001b[0m\u001b[0m\n\u001b[0;32m-> 1036\u001b[0;31m             next_step_output = self._take_next_step(\n\u001b[0m\u001b[1;32m   1037\u001b[0m                 \u001b[0mname_to_tool_map\u001b[0m\u001b[0;34m,\u001b[0m\u001b[0;34m\u001b[0m\u001b[0;34m\u001b[0m\u001b[0m\n\u001b[1;32m   1038\u001b[0m                 \u001b[0mcolor_mapping\u001b[0m\u001b[0;34m,\u001b[0m\u001b[0;34m\u001b[0m\u001b[0;34m\u001b[0m\u001b[0m\n",
            "\u001b[0;32m/usr/local/lib/python3.10/dist-packages/langchain/agents/agent.py\u001b[0m in \u001b[0;36m_take_next_step\u001b[0;34m(self, name_to_tool_map, color_mapping, inputs, intermediate_steps, run_manager)\u001b[0m\n\u001b[1;32m    831\u001b[0m \u001b[0;34m\u001b[0m\u001b[0m\n\u001b[1;32m    832\u001b[0m             \u001b[0;31m# Call the LLM to see what to do.\u001b[0m\u001b[0;34m\u001b[0m\u001b[0;34m\u001b[0m\u001b[0m\n\u001b[0;32m--> 833\u001b[0;31m             output = self.agent.plan(\n\u001b[0m\u001b[1;32m    834\u001b[0m                 \u001b[0mintermediate_steps\u001b[0m\u001b[0;34m,\u001b[0m\u001b[0;34m\u001b[0m\u001b[0;34m\u001b[0m\u001b[0m\n\u001b[1;32m    835\u001b[0m                 \u001b[0mcallbacks\u001b[0m\u001b[0;34m=\u001b[0m\u001b[0mrun_manager\u001b[0m\u001b[0;34m.\u001b[0m\u001b[0mget_child\u001b[0m\u001b[0;34m(\u001b[0m\u001b[0;34m)\u001b[0m \u001b[0;32mif\u001b[0m \u001b[0mrun_manager\u001b[0m \u001b[0;32melse\u001b[0m \u001b[0;32mNone\u001b[0m\u001b[0;34m,\u001b[0m\u001b[0;34m\u001b[0m\u001b[0;34m\u001b[0m\u001b[0m\n",
            "\u001b[0;32m/usr/local/lib/python3.10/dist-packages/langchain/agents/agent.py\u001b[0m in \u001b[0;36mplan\u001b[0;34m(self, intermediate_steps, callbacks, **kwargs)\u001b[0m\n\u001b[1;32m    454\u001b[0m         \"\"\"\n\u001b[1;32m    455\u001b[0m         \u001b[0mfull_inputs\u001b[0m \u001b[0;34m=\u001b[0m \u001b[0mself\u001b[0m\u001b[0;34m.\u001b[0m\u001b[0mget_full_inputs\u001b[0m\u001b[0;34m(\u001b[0m\u001b[0mintermediate_steps\u001b[0m\u001b[0;34m,\u001b[0m \u001b[0;34m**\u001b[0m\u001b[0mkwargs\u001b[0m\u001b[0;34m)\u001b[0m\u001b[0;34m\u001b[0m\u001b[0;34m\u001b[0m\u001b[0m\n\u001b[0;32m--> 456\u001b[0;31m         \u001b[0mfull_output\u001b[0m \u001b[0;34m=\u001b[0m \u001b[0mself\u001b[0m\u001b[0;34m.\u001b[0m\u001b[0mllm_chain\u001b[0m\u001b[0;34m.\u001b[0m\u001b[0mpredict\u001b[0m\u001b[0;34m(\u001b[0m\u001b[0mcallbacks\u001b[0m\u001b[0;34m=\u001b[0m\u001b[0mcallbacks\u001b[0m\u001b[0;34m,\u001b[0m \u001b[0;34m**\u001b[0m\u001b[0mfull_inputs\u001b[0m\u001b[0;34m)\u001b[0m\u001b[0;34m\u001b[0m\u001b[0;34m\u001b[0m\u001b[0m\n\u001b[0m\u001b[1;32m    457\u001b[0m         \u001b[0;32mreturn\u001b[0m \u001b[0mself\u001b[0m\u001b[0;34m.\u001b[0m\u001b[0moutput_parser\u001b[0m\u001b[0;34m.\u001b[0m\u001b[0mparse\u001b[0m\u001b[0;34m(\u001b[0m\u001b[0mfull_output\u001b[0m\u001b[0;34m)\u001b[0m\u001b[0;34m\u001b[0m\u001b[0;34m\u001b[0m\u001b[0m\n\u001b[1;32m    458\u001b[0m \u001b[0;34m\u001b[0m\u001b[0m\n",
            "\u001b[0;32m/usr/local/lib/python3.10/dist-packages/langchain/chains/llm.py\u001b[0m in \u001b[0;36mpredict\u001b[0;34m(self, callbacks, **kwargs)\u001b[0m\n\u001b[1;32m    253\u001b[0m                 \u001b[0mcompletion\u001b[0m \u001b[0;34m=\u001b[0m \u001b[0mllm\u001b[0m\u001b[0;34m.\u001b[0m\u001b[0mpredict\u001b[0m\u001b[0;34m(\u001b[0m\u001b[0madjective\u001b[0m\u001b[0;34m=\u001b[0m\u001b[0;34m\"funny\"\u001b[0m\u001b[0;34m)\u001b[0m\u001b[0;34m\u001b[0m\u001b[0;34m\u001b[0m\u001b[0m\n\u001b[1;32m    254\u001b[0m         \"\"\"\n\u001b[0;32m--> 255\u001b[0;31m         \u001b[0;32mreturn\u001b[0m \u001b[0mself\u001b[0m\u001b[0;34m(\u001b[0m\u001b[0mkwargs\u001b[0m\u001b[0;34m,\u001b[0m \u001b[0mcallbacks\u001b[0m\u001b[0;34m=\u001b[0m\u001b[0mcallbacks\u001b[0m\u001b[0;34m)\u001b[0m\u001b[0;34m[\u001b[0m\u001b[0mself\u001b[0m\u001b[0;34m.\u001b[0m\u001b[0moutput_key\u001b[0m\u001b[0;34m]\u001b[0m\u001b[0;34m\u001b[0m\u001b[0;34m\u001b[0m\u001b[0m\n\u001b[0m\u001b[1;32m    256\u001b[0m \u001b[0;34m\u001b[0m\u001b[0m\n\u001b[1;32m    257\u001b[0m     \u001b[0;32masync\u001b[0m \u001b[0;32mdef\u001b[0m \u001b[0mapredict\u001b[0m\u001b[0;34m(\u001b[0m\u001b[0mself\u001b[0m\u001b[0;34m,\u001b[0m \u001b[0mcallbacks\u001b[0m\u001b[0;34m:\u001b[0m \u001b[0mCallbacks\u001b[0m \u001b[0;34m=\u001b[0m \u001b[0;32mNone\u001b[0m\u001b[0;34m,\u001b[0m \u001b[0;34m**\u001b[0m\u001b[0mkwargs\u001b[0m\u001b[0;34m:\u001b[0m \u001b[0mAny\u001b[0m\u001b[0;34m)\u001b[0m \u001b[0;34m->\u001b[0m \u001b[0mstr\u001b[0m\u001b[0;34m:\u001b[0m\u001b[0;34m\u001b[0m\u001b[0;34m\u001b[0m\u001b[0m\n",
            "\u001b[0;32m/usr/local/lib/python3.10/dist-packages/langchain/chains/base.py\u001b[0m in \u001b[0;36m__call__\u001b[0;34m(self, inputs, return_only_outputs, callbacks, tags, metadata, include_run_info)\u001b[0m\n\u001b[1;32m    280\u001b[0m         \u001b[0;32mexcept\u001b[0m \u001b[0;34m(\u001b[0m\u001b[0mKeyboardInterrupt\u001b[0m\u001b[0;34m,\u001b[0m \u001b[0mException\u001b[0m\u001b[0;34m)\u001b[0m \u001b[0;32mas\u001b[0m \u001b[0me\u001b[0m\u001b[0;34m:\u001b[0m\u001b[0;34m\u001b[0m\u001b[0;34m\u001b[0m\u001b[0m\n\u001b[1;32m    281\u001b[0m             \u001b[0mrun_manager\u001b[0m\u001b[0;34m.\u001b[0m\u001b[0mon_chain_error\u001b[0m\u001b[0;34m(\u001b[0m\u001b[0me\u001b[0m\u001b[0;34m)\u001b[0m\u001b[0;34m\u001b[0m\u001b[0;34m\u001b[0m\u001b[0m\n\u001b[0;32m--> 282\u001b[0;31m             \u001b[0;32mraise\u001b[0m \u001b[0me\u001b[0m\u001b[0;34m\u001b[0m\u001b[0;34m\u001b[0m\u001b[0m\n\u001b[0m\u001b[1;32m    283\u001b[0m         \u001b[0mrun_manager\u001b[0m\u001b[0;34m.\u001b[0m\u001b[0mon_chain_end\u001b[0m\u001b[0;34m(\u001b[0m\u001b[0moutputs\u001b[0m\u001b[0;34m)\u001b[0m\u001b[0;34m\u001b[0m\u001b[0;34m\u001b[0m\u001b[0m\n\u001b[1;32m    284\u001b[0m         final_outputs: Dict[str, Any] = self.prep_outputs(\n",
            "\u001b[0;32m/usr/local/lib/python3.10/dist-packages/langchain/chains/base.py\u001b[0m in \u001b[0;36m__call__\u001b[0;34m(self, inputs, return_only_outputs, callbacks, tags, metadata, include_run_info)\u001b[0m\n\u001b[1;32m    274\u001b[0m         \u001b[0;32mtry\u001b[0m\u001b[0;34m:\u001b[0m\u001b[0;34m\u001b[0m\u001b[0;34m\u001b[0m\u001b[0m\n\u001b[1;32m    275\u001b[0m             outputs = (\n\u001b[0;32m--> 276\u001b[0;31m                 \u001b[0mself\u001b[0m\u001b[0;34m.\u001b[0m\u001b[0m_call\u001b[0m\u001b[0;34m(\u001b[0m\u001b[0minputs\u001b[0m\u001b[0;34m,\u001b[0m \u001b[0mrun_manager\u001b[0m\u001b[0;34m=\u001b[0m\u001b[0mrun_manager\u001b[0m\u001b[0;34m)\u001b[0m\u001b[0;34m\u001b[0m\u001b[0;34m\u001b[0m\u001b[0m\n\u001b[0m\u001b[1;32m    277\u001b[0m                 \u001b[0;32mif\u001b[0m \u001b[0mnew_arg_supported\u001b[0m\u001b[0;34m\u001b[0m\u001b[0;34m\u001b[0m\u001b[0m\n\u001b[1;32m    278\u001b[0m                 \u001b[0;32melse\u001b[0m \u001b[0mself\u001b[0m\u001b[0;34m.\u001b[0m\u001b[0m_call\u001b[0m\u001b[0;34m(\u001b[0m\u001b[0minputs\u001b[0m\u001b[0;34m)\u001b[0m\u001b[0;34m\u001b[0m\u001b[0;34m\u001b[0m\u001b[0m\n",
            "\u001b[0;32m/usr/local/lib/python3.10/dist-packages/langchain/chains/llm.py\u001b[0m in \u001b[0;36m_call\u001b[0;34m(self, inputs, run_manager)\u001b[0m\n\u001b[1;32m     89\u001b[0m         \u001b[0mrun_manager\u001b[0m\u001b[0;34m:\u001b[0m \u001b[0mOptional\u001b[0m\u001b[0;34m[\u001b[0m\u001b[0mCallbackManagerForChainRun\u001b[0m\u001b[0;34m]\u001b[0m \u001b[0;34m=\u001b[0m \u001b[0;32mNone\u001b[0m\u001b[0;34m,\u001b[0m\u001b[0;34m\u001b[0m\u001b[0;34m\u001b[0m\u001b[0m\n\u001b[1;32m     90\u001b[0m     ) -> Dict[str, str]:\n\u001b[0;32m---> 91\u001b[0;31m         \u001b[0mresponse\u001b[0m \u001b[0;34m=\u001b[0m \u001b[0mself\u001b[0m\u001b[0;34m.\u001b[0m\u001b[0mgenerate\u001b[0m\u001b[0;34m(\u001b[0m\u001b[0;34m[\u001b[0m\u001b[0minputs\u001b[0m\u001b[0;34m]\u001b[0m\u001b[0;34m,\u001b[0m \u001b[0mrun_manager\u001b[0m\u001b[0;34m=\u001b[0m\u001b[0mrun_manager\u001b[0m\u001b[0;34m)\u001b[0m\u001b[0;34m\u001b[0m\u001b[0;34m\u001b[0m\u001b[0m\n\u001b[0m\u001b[1;32m     92\u001b[0m         \u001b[0;32mreturn\u001b[0m \u001b[0mself\u001b[0m\u001b[0;34m.\u001b[0m\u001b[0mcreate_outputs\u001b[0m\u001b[0;34m(\u001b[0m\u001b[0mresponse\u001b[0m\u001b[0;34m)\u001b[0m\u001b[0;34m[\u001b[0m\u001b[0;36m0\u001b[0m\u001b[0;34m]\u001b[0m\u001b[0;34m\u001b[0m\u001b[0;34m\u001b[0m\u001b[0m\n\u001b[1;32m     93\u001b[0m \u001b[0;34m\u001b[0m\u001b[0m\n",
            "\u001b[0;32m/usr/local/lib/python3.10/dist-packages/langchain/chains/llm.py\u001b[0m in \u001b[0;36mgenerate\u001b[0;34m(self, input_list, run_manager)\u001b[0m\n\u001b[1;32m     99\u001b[0m         \u001b[0;34m\"\"\"Generate LLM result from inputs.\"\"\"\u001b[0m\u001b[0;34m\u001b[0m\u001b[0;34m\u001b[0m\u001b[0m\n\u001b[1;32m    100\u001b[0m         \u001b[0mprompts\u001b[0m\u001b[0;34m,\u001b[0m \u001b[0mstop\u001b[0m \u001b[0;34m=\u001b[0m \u001b[0mself\u001b[0m\u001b[0;34m.\u001b[0m\u001b[0mprep_prompts\u001b[0m\u001b[0;34m(\u001b[0m\u001b[0minput_list\u001b[0m\u001b[0;34m,\u001b[0m \u001b[0mrun_manager\u001b[0m\u001b[0;34m=\u001b[0m\u001b[0mrun_manager\u001b[0m\u001b[0;34m)\u001b[0m\u001b[0;34m\u001b[0m\u001b[0;34m\u001b[0m\u001b[0m\n\u001b[0;32m--> 101\u001b[0;31m         return self.llm.generate_prompt(\n\u001b[0m\u001b[1;32m    102\u001b[0m             \u001b[0mprompts\u001b[0m\u001b[0;34m,\u001b[0m\u001b[0;34m\u001b[0m\u001b[0;34m\u001b[0m\u001b[0m\n\u001b[1;32m    103\u001b[0m             \u001b[0mstop\u001b[0m\u001b[0;34m,\u001b[0m\u001b[0;34m\u001b[0m\u001b[0;34m\u001b[0m\u001b[0m\n",
            "\u001b[0;32m/usr/local/lib/python3.10/dist-packages/langchain/llms/base.py\u001b[0m in \u001b[0;36mgenerate_prompt\u001b[0;34m(self, prompts, stop, callbacks, **kwargs)\u001b[0m\n\u001b[1;32m    465\u001b[0m     ) -> LLMResult:\n\u001b[1;32m    466\u001b[0m         \u001b[0mprompt_strings\u001b[0m \u001b[0;34m=\u001b[0m \u001b[0;34m[\u001b[0m\u001b[0mp\u001b[0m\u001b[0;34m.\u001b[0m\u001b[0mto_string\u001b[0m\u001b[0;34m(\u001b[0m\u001b[0;34m)\u001b[0m \u001b[0;32mfor\u001b[0m \u001b[0mp\u001b[0m \u001b[0;32min\u001b[0m \u001b[0mprompts\u001b[0m\u001b[0;34m]\u001b[0m\u001b[0;34m\u001b[0m\u001b[0;34m\u001b[0m\u001b[0m\n\u001b[0;32m--> 467\u001b[0;31m         \u001b[0;32mreturn\u001b[0m \u001b[0mself\u001b[0m\u001b[0;34m.\u001b[0m\u001b[0mgenerate\u001b[0m\u001b[0;34m(\u001b[0m\u001b[0mprompt_strings\u001b[0m\u001b[0;34m,\u001b[0m \u001b[0mstop\u001b[0m\u001b[0;34m=\u001b[0m\u001b[0mstop\u001b[0m\u001b[0;34m,\u001b[0m \u001b[0mcallbacks\u001b[0m\u001b[0;34m=\u001b[0m\u001b[0mcallbacks\u001b[0m\u001b[0;34m,\u001b[0m \u001b[0;34m**\u001b[0m\u001b[0mkwargs\u001b[0m\u001b[0;34m)\u001b[0m\u001b[0;34m\u001b[0m\u001b[0;34m\u001b[0m\u001b[0m\n\u001b[0m\u001b[1;32m    468\u001b[0m \u001b[0;34m\u001b[0m\u001b[0m\n\u001b[1;32m    469\u001b[0m     async def agenerate_prompt(\n",
            "\u001b[0;32m/usr/local/lib/python3.10/dist-packages/langchain/llms/base.py\u001b[0m in \u001b[0;36mgenerate\u001b[0;34m(self, prompts, stop, callbacks, tags, metadata, **kwargs)\u001b[0m\n\u001b[1;32m    596\u001b[0m                 \u001b[0;32mfor\u001b[0m \u001b[0mcallback_manager\u001b[0m\u001b[0;34m,\u001b[0m \u001b[0mprompt\u001b[0m \u001b[0;32min\u001b[0m \u001b[0mzip\u001b[0m\u001b[0;34m(\u001b[0m\u001b[0mcallback_managers\u001b[0m\u001b[0;34m,\u001b[0m \u001b[0mprompts\u001b[0m\u001b[0;34m)\u001b[0m\u001b[0;34m\u001b[0m\u001b[0;34m\u001b[0m\u001b[0m\n\u001b[1;32m    597\u001b[0m             ]\n\u001b[0;32m--> 598\u001b[0;31m             output = self._generate_helper(\n\u001b[0m\u001b[1;32m    599\u001b[0m                 \u001b[0mprompts\u001b[0m\u001b[0;34m,\u001b[0m \u001b[0mstop\u001b[0m\u001b[0;34m,\u001b[0m \u001b[0mrun_managers\u001b[0m\u001b[0;34m,\u001b[0m \u001b[0mbool\u001b[0m\u001b[0;34m(\u001b[0m\u001b[0mnew_arg_supported\u001b[0m\u001b[0;34m)\u001b[0m\u001b[0;34m,\u001b[0m \u001b[0;34m**\u001b[0m\u001b[0mkwargs\u001b[0m\u001b[0;34m\u001b[0m\u001b[0;34m\u001b[0m\u001b[0m\n\u001b[1;32m    600\u001b[0m             )\n",
            "\u001b[0;32m/usr/local/lib/python3.10/dist-packages/langchain/llms/base.py\u001b[0m in \u001b[0;36m_generate_helper\u001b[0;34m(self, prompts, stop, run_managers, new_arg_supported, **kwargs)\u001b[0m\n\u001b[1;32m    502\u001b[0m             \u001b[0;32mfor\u001b[0m \u001b[0mrun_manager\u001b[0m \u001b[0;32min\u001b[0m \u001b[0mrun_managers\u001b[0m\u001b[0;34m:\u001b[0m\u001b[0;34m\u001b[0m\u001b[0;34m\u001b[0m\u001b[0m\n\u001b[1;32m    503\u001b[0m                 \u001b[0mrun_manager\u001b[0m\u001b[0;34m.\u001b[0m\u001b[0mon_llm_error\u001b[0m\u001b[0;34m(\u001b[0m\u001b[0me\u001b[0m\u001b[0;34m)\u001b[0m\u001b[0;34m\u001b[0m\u001b[0;34m\u001b[0m\u001b[0m\n\u001b[0;32m--> 504\u001b[0;31m             \u001b[0;32mraise\u001b[0m \u001b[0me\u001b[0m\u001b[0;34m\u001b[0m\u001b[0;34m\u001b[0m\u001b[0m\n\u001b[0m\u001b[1;32m    505\u001b[0m         \u001b[0mflattened_outputs\u001b[0m \u001b[0;34m=\u001b[0m \u001b[0moutput\u001b[0m\u001b[0;34m.\u001b[0m\u001b[0mflatten\u001b[0m\u001b[0;34m(\u001b[0m\u001b[0;34m)\u001b[0m\u001b[0;34m\u001b[0m\u001b[0;34m\u001b[0m\u001b[0m\n\u001b[1;32m    506\u001b[0m         \u001b[0;32mfor\u001b[0m \u001b[0mmanager\u001b[0m\u001b[0;34m,\u001b[0m \u001b[0mflattened_output\u001b[0m \u001b[0;32min\u001b[0m \u001b[0mzip\u001b[0m\u001b[0;34m(\u001b[0m\u001b[0mrun_managers\u001b[0m\u001b[0;34m,\u001b[0m \u001b[0mflattened_outputs\u001b[0m\u001b[0;34m)\u001b[0m\u001b[0;34m:\u001b[0m\u001b[0;34m\u001b[0m\u001b[0;34m\u001b[0m\u001b[0m\n",
            "\u001b[0;32m/usr/local/lib/python3.10/dist-packages/langchain/llms/base.py\u001b[0m in \u001b[0;36m_generate_helper\u001b[0;34m(self, prompts, stop, run_managers, new_arg_supported, **kwargs)\u001b[0m\n\u001b[1;32m    489\u001b[0m         \u001b[0;32mtry\u001b[0m\u001b[0;34m:\u001b[0m\u001b[0;34m\u001b[0m\u001b[0;34m\u001b[0m\u001b[0m\n\u001b[1;32m    490\u001b[0m             output = (\n\u001b[0;32m--> 491\u001b[0;31m                 self._generate(\n\u001b[0m\u001b[1;32m    492\u001b[0m                     \u001b[0mprompts\u001b[0m\u001b[0;34m,\u001b[0m\u001b[0;34m\u001b[0m\u001b[0;34m\u001b[0m\u001b[0m\n\u001b[1;32m    493\u001b[0m                     \u001b[0mstop\u001b[0m\u001b[0;34m=\u001b[0m\u001b[0mstop\u001b[0m\u001b[0;34m,\u001b[0m\u001b[0;34m\u001b[0m\u001b[0;34m\u001b[0m\u001b[0m\n",
            "\u001b[0;32m/usr/local/lib/python3.10/dist-packages/langchain/llms/base.py\u001b[0m in \u001b[0;36m_generate\u001b[0;34m(self, prompts, stop, run_manager, **kwargs)\u001b[0m\n\u001b[1;32m    975\u001b[0m         \u001b[0;32mfor\u001b[0m \u001b[0mprompt\u001b[0m \u001b[0;32min\u001b[0m \u001b[0mprompts\u001b[0m\u001b[0;34m:\u001b[0m\u001b[0;34m\u001b[0m\u001b[0;34m\u001b[0m\u001b[0m\n\u001b[1;32m    976\u001b[0m             text = (\n\u001b[0;32m--> 977\u001b[0;31m                 \u001b[0mself\u001b[0m\u001b[0;34m.\u001b[0m\u001b[0m_call\u001b[0m\u001b[0;34m(\u001b[0m\u001b[0mprompt\u001b[0m\u001b[0;34m,\u001b[0m \u001b[0mstop\u001b[0m\u001b[0;34m=\u001b[0m\u001b[0mstop\u001b[0m\u001b[0;34m,\u001b[0m \u001b[0mrun_manager\u001b[0m\u001b[0;34m=\u001b[0m\u001b[0mrun_manager\u001b[0m\u001b[0;34m,\u001b[0m \u001b[0;34m**\u001b[0m\u001b[0mkwargs\u001b[0m\u001b[0;34m)\u001b[0m\u001b[0;34m\u001b[0m\u001b[0;34m\u001b[0m\u001b[0m\n\u001b[0m\u001b[1;32m    978\u001b[0m                 \u001b[0;32mif\u001b[0m \u001b[0mnew_arg_supported\u001b[0m\u001b[0;34m\u001b[0m\u001b[0;34m\u001b[0m\u001b[0m\n\u001b[1;32m    979\u001b[0m                 \u001b[0;32melse\u001b[0m \u001b[0mself\u001b[0m\u001b[0;34m.\u001b[0m\u001b[0m_call\u001b[0m\u001b[0;34m(\u001b[0m\u001b[0mprompt\u001b[0m\u001b[0;34m,\u001b[0m \u001b[0mstop\u001b[0m\u001b[0;34m=\u001b[0m\u001b[0mstop\u001b[0m\u001b[0;34m,\u001b[0m \u001b[0;34m**\u001b[0m\u001b[0mkwargs\u001b[0m\u001b[0;34m)\u001b[0m\u001b[0;34m\u001b[0m\u001b[0;34m\u001b[0m\u001b[0m\n",
            "\u001b[0;32m/usr/local/lib/python3.10/dist-packages/langchain/llms/llamacpp.py\u001b[0m in \u001b[0;36m_call\u001b[0;34m(self, prompt, stop, run_manager, **kwargs)\u001b[0m\n\u001b[1;32m    252\u001b[0m             \u001b[0;31m# and return the combined strings from the first choices's text:\u001b[0m\u001b[0;34m\u001b[0m\u001b[0;34m\u001b[0m\u001b[0m\n\u001b[1;32m    253\u001b[0m             \u001b[0mcombined_text_output\u001b[0m \u001b[0;34m=\u001b[0m \u001b[0;34m\"\"\u001b[0m\u001b[0;34m\u001b[0m\u001b[0;34m\u001b[0m\u001b[0m\n\u001b[0;32m--> 254\u001b[0;31m             for chunk in self._stream(\n\u001b[0m\u001b[1;32m    255\u001b[0m                 \u001b[0mprompt\u001b[0m\u001b[0;34m=\u001b[0m\u001b[0mprompt\u001b[0m\u001b[0;34m,\u001b[0m \u001b[0mstop\u001b[0m\u001b[0;34m=\u001b[0m\u001b[0mstop\u001b[0m\u001b[0;34m,\u001b[0m \u001b[0mrun_manager\u001b[0m\u001b[0;34m=\u001b[0m\u001b[0mrun_manager\u001b[0m\u001b[0;34m,\u001b[0m \u001b[0;34m**\u001b[0m\u001b[0mkwargs\u001b[0m\u001b[0;34m\u001b[0m\u001b[0;34m\u001b[0m\u001b[0m\n\u001b[1;32m    256\u001b[0m             ):\n",
            "\u001b[0;32m/usr/local/lib/python3.10/dist-packages/langchain/llms/llamacpp.py\u001b[0m in \u001b[0;36m_stream\u001b[0;34m(self, prompt, stop, run_manager, **kwargs)\u001b[0m\n\u001b[1;32m    302\u001b[0m         \u001b[0mparams\u001b[0m \u001b[0;34m=\u001b[0m \u001b[0;34m{\u001b[0m\u001b[0;34m**\u001b[0m\u001b[0mself\u001b[0m\u001b[0;34m.\u001b[0m\u001b[0m_get_parameters\u001b[0m\u001b[0;34m(\u001b[0m\u001b[0mstop\u001b[0m\u001b[0;34m)\u001b[0m\u001b[0;34m,\u001b[0m \u001b[0;34m**\u001b[0m\u001b[0mkwargs\u001b[0m\u001b[0;34m}\u001b[0m\u001b[0;34m\u001b[0m\u001b[0;34m\u001b[0m\u001b[0m\n\u001b[1;32m    303\u001b[0m         \u001b[0mresult\u001b[0m \u001b[0;34m=\u001b[0m \u001b[0mself\u001b[0m\u001b[0;34m.\u001b[0m\u001b[0mclient\u001b[0m\u001b[0;34m(\u001b[0m\u001b[0mprompt\u001b[0m\u001b[0;34m=\u001b[0m\u001b[0mprompt\u001b[0m\u001b[0;34m,\u001b[0m \u001b[0mstream\u001b[0m\u001b[0;34m=\u001b[0m\u001b[0;32mTrue\u001b[0m\u001b[0;34m,\u001b[0m \u001b[0;34m**\u001b[0m\u001b[0mparams\u001b[0m\u001b[0;34m)\u001b[0m\u001b[0;34m\u001b[0m\u001b[0;34m\u001b[0m\u001b[0m\n\u001b[0;32m--> 304\u001b[0;31m         \u001b[0;32mfor\u001b[0m \u001b[0mpart\u001b[0m \u001b[0;32min\u001b[0m \u001b[0mresult\u001b[0m\u001b[0;34m:\u001b[0m\u001b[0;34m\u001b[0m\u001b[0;34m\u001b[0m\u001b[0m\n\u001b[0m\u001b[1;32m    305\u001b[0m             \u001b[0mlogprobs\u001b[0m \u001b[0;34m=\u001b[0m \u001b[0mpart\u001b[0m\u001b[0;34m[\u001b[0m\u001b[0;34m\"choices\"\u001b[0m\u001b[0;34m]\u001b[0m\u001b[0;34m[\u001b[0m\u001b[0;36m0\u001b[0m\u001b[0;34m]\u001b[0m\u001b[0;34m.\u001b[0m\u001b[0mget\u001b[0m\u001b[0;34m(\u001b[0m\u001b[0;34m\"logprobs\"\u001b[0m\u001b[0;34m,\u001b[0m \u001b[0;32mNone\u001b[0m\u001b[0;34m)\u001b[0m\u001b[0;34m\u001b[0m\u001b[0;34m\u001b[0m\u001b[0m\n\u001b[1;32m    306\u001b[0m             chunk = GenerationChunk(\n",
            "\u001b[0;32m/usr/local/lib/python3.10/dist-packages/llama_cpp/llama.py\u001b[0m in \u001b[0;36m_create_completion\u001b[0;34m(self, prompt, suffix, max_tokens, temperature, top_p, logprobs, echo, stop, frequency_penalty, presence_penalty, repeat_penalty, top_k, stream, tfs_z, mirostat_mode, mirostat_tau, mirostat_eta, model, stopping_criteria, logits_processor, grammar)\u001b[0m\n\u001b[1;32m    898\u001b[0m \u001b[0;34m\u001b[0m\u001b[0m\n\u001b[1;32m    899\u001b[0m         \u001b[0;32mif\u001b[0m \u001b[0mlen\u001b[0m\u001b[0;34m(\u001b[0m\u001b[0mprompt_tokens\u001b[0m\u001b[0;34m)\u001b[0m \u001b[0;34m>=\u001b[0m \u001b[0mllama_cpp\u001b[0m\u001b[0;34m.\u001b[0m\u001b[0mllama_n_ctx\u001b[0m\u001b[0;34m(\u001b[0m\u001b[0mself\u001b[0m\u001b[0;34m.\u001b[0m\u001b[0mctx\u001b[0m\u001b[0;34m)\u001b[0m\u001b[0;34m:\u001b[0m\u001b[0;34m\u001b[0m\u001b[0;34m\u001b[0m\u001b[0m\n\u001b[0;32m--> 900\u001b[0;31m             raise ValueError(\n\u001b[0m\u001b[1;32m    901\u001b[0m                 \u001b[0;34mf\"Requested tokens ({len(prompt_tokens)}) exceed context window of {llama_cpp.llama_n_ctx(self.ctx)}\"\u001b[0m\u001b[0;34m\u001b[0m\u001b[0;34m\u001b[0m\u001b[0m\n\u001b[1;32m    902\u001b[0m             )\n",
            "\u001b[0;31mValueError\u001b[0m: Requested tokens (4445) exceed context window of 4048"
          ]
        }
      ]
    },
    {
      "cell_type": "code",
      "source": [
        "%time\n",
        "response = agent.run(\"ぼっち・ざ・ろっくの作者の年齢は？\")\n",
        "print(response)"
      ],
      "metadata": {
        "id": "mALDR9HqgpqI",
        "colab": {
          "base_uri": "https://localhost:8080/"
        },
        "outputId": "24e19cc0-fc50-44ce-e5ea-72dad0c2a5b1"
      },
      "execution_count": 11,
      "outputs": [
        {
          "output_type": "stream",
          "name": "stdout",
          "text": [
            "CPU times: user 2 µs, sys: 0 ns, total: 2 µs\n",
            "Wall time: 4.53 µs\n",
            "\n",
            "\n",
            "\u001b[1m> Entering new AgentExecutor chain...\u001b[0m\n"
          ]
        },
        {
          "output_type": "stream",
          "name": "stderr",
          "text": [
            "Llama.generate: prefix-match hit\n"
          ]
        },
        {
          "output_type": "stream",
          "name": "stdout",
          "text": [
            "\u001b[32;1m\u001b[1;3m まずは、それれの作品の出版年代をべてみよう。\n",
            "Action: Search\u001b[0m\n",
            "Observation: Invalid Format: Missing 'Action Input:' after 'Action:'\n",
            "Thought:"
          ]
        },
        {
          "output_type": "stream",
          "name": "stderr",
          "text": [
            "Llama.generate: prefix-match hit\n"
          ]
        },
        {
          "output_type": "stream",
          "name": "stdout",
          "text": [
            "\u001b[32;1m\u001b[1;3m では、どの作品から始めようか？\n",
            "Action: Search\u001b[0m\n",
            "Observation: Invalid Format: Missing 'Action Input:' after 'Action:'\n",
            "Thought:"
          ]
        },
        {
          "output_type": "stream",
          "name": "stderr",
          "text": [
            "Llama.generate: prefix-match hit\n"
          ]
        },
        {
          "output_type": "stream",
          "name": "stdout",
          "text": [
            "\u001b[32;1m\u001b[1;3m まずは、っち・・ろっくの三部作をみ解いてみよう。\n",
            "Action: Search\u001b[0m\n",
            "Observation: Invalid Format: Missing 'Action Input:' after 'Action:'\n",
            "Thought:"
          ]
        },
        {
          "output_type": "stream",
          "name": "stderr",
          "text": [
            "Llama.generate: prefix-match hit\n"
          ]
        },
        {
          "output_type": "stream",
          "name": "stdout",
          "text": [
            "\u001b[32;1m\u001b[1;3m それでは、っち・・ろっくの三部作の中でも、最初に出版された作品を見てみよう。\n",
            "Action: Search\u001b[0m\n",
            "Observation: Invalid Format: Missing 'Action Input:' after 'Action:'\n",
            "Thought:"
          ]
        },
        {
          "output_type": "stream",
          "name": "stderr",
          "text": [
            "Llama.generate: prefix-match hit\n"
          ]
        },
        {
          "output_type": "stream",
          "name": "stdout",
          "text": [
            "\u001b[32;1m\u001b[1;3m それから、その作品がどの年代に出版されたかをべてみよう。\n",
            "Action: Search\u001b[0m\n",
            "Observation: Invalid Format: Missing 'Action Input:' after 'Action:'\n",
            "Thought:"
          ]
        },
        {
          "output_type": "stream",
          "name": "stderr",
          "text": [
            "Llama.generate: prefix-match hit\n"
          ]
        },
        {
          "output_type": "stream",
          "name": "stdout",
          "text": [
            "\u001b[32;1m\u001b[1;3m では、その作品のあるページをしてみよう。\n",
            "Action: Search\u001b[0m\n",
            "Observation: Invalid Format: Missing 'Action Input:' after 'Action:'\n",
            "Thought:"
          ]
        },
        {
          "output_type": "stream",
          "name": "stderr",
          "text": [
            "Llama.generate: prefix-match hit\n"
          ]
        },
        {
          "output_type": "stream",
          "name": "stdout",
          "text": [
            "\u001b[32;1m\u001b[1;3m それから、その作品がどの年代に出版されたかをべてみよう。\n",
            "Action: Search\u001b[0m\n",
            "Observation: Invalid Format: Missing 'Action Input:' after 'Action:'\n",
            "Thought:"
          ]
        },
        {
          "output_type": "stream",
          "name": "stderr",
          "text": [
            "Llama.generate: prefix-match hit\n"
          ]
        },
        {
          "output_type": "stream",
          "name": "stdout",
          "text": [
            "\u001b[32;1m\u001b[1;3m では、その作品のあるページをしてみよう。\n",
            "Action: Search\u001b[0m\n",
            "Observation: Invalid Format: Missing 'Action Input:' after 'Action:'\n",
            "Thought:"
          ]
        },
        {
          "output_type": "stream",
          "name": "stderr",
          "text": [
            "Llama.generate: prefix-match hit\n"
          ]
        },
        {
          "output_type": "stream",
          "name": "stdout",
          "text": [
            "\u001b[32;1m\u001b[1;3m それから、その作品がどの年代に出版されたかをべてみよう。\n",
            "Action: Search\u001b[0m\n",
            "Observation: Invalid Format: Missing 'Action Input:' after 'Action:'\n",
            "Thought:"
          ]
        },
        {
          "output_type": "stream",
          "name": "stderr",
          "text": [
            "Llama.generate: prefix-match hit\n"
          ]
        },
        {
          "output_type": "stream",
          "name": "stdout",
          "text": [
            "\u001b[32;1m\u001b[1;3m では、その作品のあるページをしてみよう。\n",
            "Action: Search\u001b[0m\n",
            "Observation: Invalid Format: Missing 'Action Input:' after 'Action:'\n",
            "Thought:"
          ]
        },
        {
          "output_type": "stream",
          "name": "stderr",
          "text": [
            "Llama.generate: prefix-match hit\n"
          ]
        },
        {
          "output_type": "stream",
          "name": "stdout",
          "text": [
            "\u001b[32;1m\u001b[1;3m それから、その作品がどの年代に出版されたかをべてみよう。\n",
            "Action: Search\u001b[0m\n",
            "Observation: Invalid Format: Missing 'Action Input:' after 'Action:'\n",
            "Thought:"
          ]
        },
        {
          "output_type": "stream",
          "name": "stderr",
          "text": [
            "Llama.generate: prefix-match hit\n"
          ]
        },
        {
          "output_type": "stream",
          "name": "stdout",
          "text": [
            "\u001b[32;1m\u001b[1;3m では、その作品のあるページをしてみよう。\n",
            "Action: Search\u001b[0m\n",
            "Observation: Invalid Format: Missing 'Action Input:' after 'Action:'\n",
            "Thought:"
          ]
        },
        {
          "output_type": "stream",
          "name": "stderr",
          "text": [
            "Llama.generate: prefix-match hit\n"
          ]
        },
        {
          "output_type": "stream",
          "name": "stdout",
          "text": [
            "\u001b[32;1m\u001b[1;3m それから、その作品がどの年代に出版されたかをべてみよう。\n",
            "Action: Search\u001b[0m\n",
            "Observation: Invalid Format: Missing 'Action Input:' after 'Action:'\n",
            "Thought:"
          ]
        },
        {
          "output_type": "stream",
          "name": "stderr",
          "text": [
            "Llama.generate: prefix-match hit\n"
          ]
        },
        {
          "output_type": "stream",
          "name": "stdout",
          "text": [
            "\u001b[32;1m\u001b[1;3m では、その作品のあるページをしてみよう。\n",
            "Action: Search\u001b[0m\n",
            "Observation: Invalid Format: Missing 'Action Input:' after 'Action:'\n",
            "Thought:"
          ]
        },
        {
          "output_type": "stream",
          "name": "stderr",
          "text": [
            "Llama.generate: prefix-match hit\n"
          ]
        },
        {
          "output_type": "stream",
          "name": "stdout",
          "text": [
            "\u001b[32;1m\u001b[1;3m それから、その作品がどの年代に出版されたかをべてみよう。\n",
            "Action: Search\u001b[0m\n",
            "Observation: Invalid Format: Missing 'Action Input:' after 'Action:'\n",
            "Thought:\u001b[32;1m\u001b[1;3m\u001b[0m\n",
            "\n",
            "\u001b[1m> Finished chain.\u001b[0m\n",
            "Agent stopped due to iteration limit or time limit.\n"
          ]
        }
      ]
    },
    {
      "cell_type": "code",
      "source": [
        "%time\n",
        "response = agent.run(\"最後のジェダイは誰？\")\n",
        "print(response)"
      ],
      "metadata": {
        "colab": {
          "base_uri": "https://localhost:8080/"
        },
        "id": "kJ-LDPJcZ-Nk",
        "outputId": "25b6b68a-a1de-4bc1-f7da-6f10f35ce865"
      },
      "execution_count": 12,
      "outputs": [
        {
          "output_type": "stream",
          "name": "stdout",
          "text": [
            "CPU times: user 3 µs, sys: 0 ns, total: 3 µs\n",
            "Wall time: 6.91 µs\n",
            "\n",
            "\n",
            "\u001b[1m> Entering new AgentExecutor chain...\u001b[0m\n"
          ]
        },
        {
          "output_type": "stream",
          "name": "stderr",
          "text": [
            "Llama.generate: prefix-match hit\n"
          ]
        },
        {
          "output_type": "stream",
          "name": "stdout",
          "text": [
            "\u001b[32;1m\u001b[1;3m このにえるためには、画や小などの情報源を使用する必要があります。\n",
            "Action: Search\u001b[0m\n",
            "Observation: Invalid Format: Missing 'Action Input:' after 'Action:'\n",
            "Thought:"
          ]
        },
        {
          "output_type": "stream",
          "name": "stderr",
          "text": [
            "Llama.generate: prefix-match hit\n"
          ]
        },
        {
          "output_type": "stream",
          "name": "stdout",
          "text": [
            "\u001b[32;1m\u001b[1;3m しありませんが、この回は正しい形式ではありません。必要な情報を提してください。\n",
            "Final Answer: 最後のジェダイはルーク・スカイウォーカーです。\u001b[0m\n",
            "\n",
            "\u001b[1m> Finished chain.\u001b[0m\n",
            "最後のジェダイはルーク・スカイウォーカーです。\n"
          ]
        }
      ]
    },
    {
      "cell_type": "code",
      "source": [
        "%time\n",
        "response = agent.run(\"Who is the last JEDI？\")\n",
        "print(response)"
      ],
      "metadata": {
        "id": "GN0mc8AEthox",
        "colab": {
          "base_uri": "https://localhost:8080/"
        },
        "outputId": "e1705e8f-9a53-4488-f5b9-c5194900d41b"
      },
      "execution_count": 13,
      "outputs": [
        {
          "output_type": "stream",
          "name": "stdout",
          "text": [
            "CPU times: user 3 µs, sys: 0 ns, total: 3 µs\n",
            "Wall time: 6.91 µs\n",
            "\n",
            "\n",
            "\u001b[1m> Entering new AgentExecutor chain...\u001b[0m\n"
          ]
        },
        {
          "output_type": "stream",
          "name": "stderr",
          "text": [
            "Llama.generate: prefix-match hit\n"
          ]
        },
        {
          "output_type": "stream",
          "name": "stdout",
          "text": [
            "\u001b[32;1m\u001b[1;3m There are no Jedis anymore. The Jedi Order was destroyed in the events of Star Wars: Episode III - Revenge of the Sith.\n",
            "Action: Search\n",
            "Action Input: \"last jedi\"\u001b[0m\n",
            "Observation: \u001b[36;1m\u001b[1;3m[snippet: A 2017 epic space opera film and the second installment of the Star Wars sequel trilogy. The film follows Rey as she seeks the aid of Luke Skywalker, who is under the influence of the dark side, while the Resistance faces a First Order attack. The film features the first posthumous film performance by Carrie Fisher and the first appearance of the Force Awakens characters., title: Star Wars: The Last Jedi - Wikipedia, link: https://en.wikipedia.org/wiki/Star_Wars:_The_Last_Jedi], [snippet: Star Wars: The Last Jedi (also known as Star Wars Episode VIII: The Last Jedi) is the eighth live-action theatrical installment in the Star Wars film franchise and the second installment in the sequel trilogy. Produced under the Disney-Lucasfilm brand, it's the tenth theatrically released film in the Star Wars franchise, written and directed by Rian Johnson, with George Lucas providing a story ..., title: Star Wars: The Last Jedi | Disney Wiki | Fandom, link: https://disney.fandom.com/wiki/Star_Wars:_The_Last_Jedi], [snippet: Star Wars: The Last of the Jedi is a series of ten young-reader novels written by Jude Watson following Ferus Olin in the period of time between Star Wars: Episode III Revenge of the Sith and Star Wars: Episode IV A New Hope.. Beginning with Return of the Dark Side, the series was billed on the covers of the books as simply Last of the Jedi.The Legends release of the series bills it as Last of ..., title: Star Wars: The Last of the Jedi | Wookieepedia | Fandom, link: https://starwars.fandom.com/wiki/Star_Wars:_The_Last_of_the_Jedi], [snippet: By Brett White Apr 12, 2023 The Empire is finally getting their ducks in a row — or in order ., title: Star Wars: The Last Jedi | Where to Stream and Watch | Decider, link: https://decider.com/movie/star-wars-the-last-jedi/]\u001b[0m\n",
            "Thought:"
          ]
        },
        {
          "output_type": "stream",
          "name": "stderr",
          "text": [
            "Llama.generate: prefix-match hit\n"
          ]
        },
        {
          "output_type": "stream",
          "name": "stdout",
          "text": [
            "\u001b[32;1m\u001b[1;3m I now know that the last Jedi is a character named Rey.\n",
            "Final Answer: Rey is the last Jedi.\u001b[0m\n",
            "\n",
            "\u001b[1m> Finished chain.\u001b[0m\n",
            "Rey is the last Jedi.\n"
          ]
        }
      ]
    },
    {
      "cell_type": "code",
      "source": [
        "%time\n",
        "response = agent.run(\"大谷翔平は、2023年のシーズンでは何本のホームランを打ったか？\")\n",
        "print(response)"
      ],
      "metadata": {
        "colab": {
          "base_uri": "https://localhost:8080/",
          "height": 1000
        },
        "id": "1-pfz1KtaFpC",
        "outputId": "d71f282f-c703-4737-bb71-bb5c9f0311f3"
      },
      "execution_count": 14,
      "outputs": [
        {
          "output_type": "stream",
          "name": "stdout",
          "text": [
            "CPU times: user 2 µs, sys: 0 ns, total: 2 µs\n",
            "Wall time: 4.29 µs\n",
            "\n",
            "\n",
            "\u001b[1m> Entering new AgentExecutor chain...\u001b[0m\n"
          ]
        },
        {
          "output_type": "stream",
          "name": "stderr",
          "text": [
            "Llama.generate: prefix-match hit\n"
          ]
        },
        {
          "output_type": "stream",
          "name": "stdout",
          "text": [
            "\u001b[32;1m\u001b[1;3m I need to find out how many home runs Tatsuya Ogawa hit in the 2023 season.\u001b[0m\n",
            "Observation: Invalid Format: Missing 'Action:' after 'Thought:\n",
            "Thought:"
          ]
        },
        {
          "output_type": "stream",
          "name": "stderr",
          "text": [
            "Llama.generate: prefix-match hit\n"
          ]
        },
        {
          "output_type": "stream",
          "name": "stdout",
          "text": [
            "\u001b[32;1m\u001b[1;3m I need to search for information on Tatsuya Ogawa's home run count for the 2023 season.\n",
            "Action: Search\n",
            "Action Input: \"Tatsuya Ogawa 2023 home runs\"\u001b[0m\n",
            "Observation: \u001b[36;1m\u001b[1;3m[snippet: With his win, Shohei Kimura locked in a clean sweep of all three Pokémon VGC brackets for Japan at the 2023 Pokémon World Championships alongside Tomoya Ogawa in the Senior Division and Sora ..., title: Pokémon World Championships 2023: All live results, top finishers, and ..., link: https://dotesports.com/pokemon/news/pokemon-world-championships-2023-all-live-results-top-finishers-and-big-announcements], [snippet: As the 2023 MLB season approaches, fans and bettors alike are speculating the home run totals of several key players. DraftKings Sportsbook has posted the corresponding over/unders, and we'll take a closer look at several that jump off the screen for better or worse. 2023 MLB HR total props Shohei Ohtani, Under 35.5 HRs (-120), title: MLB predictions 2023: Best bets, picks for HR total player props this ..., link: https://dknetwork.draftkings.com/2023/3/26/23649323/mlb-picks-odds-2023-home-run-player-prop-season-total-predictions-shohei-ohtani-trea-turner], [snippet: Oiwa vs. Yokoyama at K-1 World GP 2023 ～1st Middleweight Championship Tournament～ on Tapology. View Oiwa vs. Yokoyama fight video, highlights, news, Twitter updates, and fight results. ... Tatsuya Oiwa vs. Tomoya Yokoyama. ... UFC on ESPN 51's Hakeem Dawodu hopes to use 'legend' Cub Swanson as springboard to title run UFC.com: Vicente Luque ..., title: Tatsuya Oiwa vs. Tomoya Yokoyama, K-1 World GP 2023 ～1st ... - Tapology, link: https://www.tapology.com/fightcenter/bouts/759999-k-1-world-gp-2023-1st-middleweight-championship-tournament-tatsuya-oiwa-vs-tomoya-yokoyama], [snippet: Yasuhiro Ogawa (6-8) allowed a run on seven hits over seven innings, and left with an 8-1 lead that the bullpen tried to throw away. Munetaka Murakami hit his 23rd home run, doubled and drove in two, while Jose Osuna was a triple shy of achieving baseball's stupidest statistical feat, scored twice and drove in three., title: NPB news: Aug. 16, 2023 | jballallen.com, link: https://jballallen.com/npb-news-aug-16-2023/]\u001b[0m\n",
            "Thought:"
          ]
        },
        {
          "output_type": "stream",
          "name": "stderr",
          "text": [
            "Llama.generate: prefix-match hit\n"
          ]
        },
        {
          "output_type": "stream",
          "name": "stdout",
          "text": [
            "\u001b[32;1m\u001b[1;3m I found some information on Tatsuya Ogawa's home run count for the 2023 season, but it is not related to baseball.\u001b[0m\n",
            "Observation: Invalid Format: Missing 'Action:' after 'Thought:\n",
            "Thought:"
          ]
        },
        {
          "output_type": "stream",
          "name": "stderr",
          "text": [
            "Llama.generate: prefix-match hit\n"
          ]
        },
        {
          "output_type": "stream",
          "name": "stdout",
          "text": [
            "\u001b[32;1m\u001b[1;3m I need to search for more specific information on Tatsuya Ogawa's home run count for the 2023 season in baseball.\n",
            "Action: Search\n",
            "Action Input: \"Tatsuya Ogawa 2023 MLB home runs\"\u001b[0m\n",
            "Observation: \u001b[36;1m\u001b[1;3m[snippet: Mike Trout, Angels 2022 total: 40 Last year, Trout hit 40 home runs in just 119 games, becoming just the fourth player to hit 40 while playing fewer than 120 games. He has three 40-homer seasons since 2015, tied for most in MLB during that span. He hits the ball hard and hits it in the air -- the two key components to hitting a home run., title: Home run leader predictions 2023 MLB season - MLB.com, link: https://www.mlb.com/news/home-run-leader-predictions-2023-mlb-season], [snippet: Theo DeRosa @ Theo_DeRosa Share Shohei Ohtani is breaking all kinds of records in his legendary 2023 season, but there's one he hasn't reached quite yet -- the Angels' single-season home run record., title: Each MLB team's single-season home run leader - MLB.com, link: https://www.mlb.com/news/each-mlb-team-s-single-season-home-run-leader], [snippet: David Adler @ _dadler Share The field is set for the 2023 T-Mobile Home Run Derby. Play HR Derby Bracket Challenge, compete for $100,000 The eight sluggers set to square off at T-Mobile Park in Seattle on Monday at 8 p.m. ET on ESPN have been announced. The first-round matchups: (1) Luis Robert Jr. vs. (8) Adley Rutschman, title: 2023 MLB Home Run Derby bracket - MLB.com, link: https://www.mlb.com/news/2023-mlb-home-run-derby-participants], [snippet: Grab MLB tickets from our friends at Vivid Seats (new customers can get $20 off a $200+ order by using the promo code NEWVIVID20). And before you get to the stadium, make sure you're decked out in the right gear. Get your favorite team's official merch from the MLB Shop or a 'Big Dinger Energy' shirt from our apparel store. Longest Home ..., title: Top 37 Longest Home Runs in 2023 (So Far) - MLB Daily Dingers, link: https://mlbdailydingers.com/2023/05/longest-home-runs-in-2023/]\u001b[0m\n",
            "Thought:"
          ]
        },
        {
          "output_type": "stream",
          "name": "stderr",
          "text": [
            "Llama.generate: prefix-match hit\n"
          ]
        },
        {
          "output_type": "stream",
          "name": "stdout",
          "text": [
            "\u001b[32;1m\u001b[1;3m I found some information on Tatsuya Ogawa's home run count for the 2023 season, but it is not accurate or relevant to baseball.\u001b[0m\n",
            "Observation: Invalid Format: Missing 'Action:' after 'Thought:\n",
            "Thought:"
          ]
        },
        {
          "output_type": "stream",
          "name": "stderr",
          "text": [
            "Llama.generate: prefix-match hit\n"
          ]
        },
        {
          "output_type": "stream",
          "name": "stdout",
          "text": [
            "\u001b[32;1m\u001b[1;3m I need to search for more reliable and accurate information on Tatsuya Ogawa's home run count for the 2023 season in baseball.\n",
            "Action: Search\n",
            "Action Input: \"Tatsuya Ogawa 2023 MLB home runs accurate\"\u001b[0m\n",
            "Observation: \u001b[36;1m\u001b[1;3m[snippet: -- Brian Murphy Mike Trout, Angels 2022 total: 40 Last year, Trout hit 40 home runs in just 119 games, becoming just the fourth player to hit 40 while playing fewer than 120 games. He has three 40-homer seasons since 2015, tied for most in MLB during that span., title: Home run leader predictions 2023 MLB season - MLB.com, link: https://www.mlb.com/news/home-run-leader-predictions-2023-mlb-season], [snippet: 5) Matt Olson. The Atlanta Braves first baseman had an excellent season last year in his first with the team. He knocked in 34 home runs, so there's no reason to expect at least that for 2023 ..., title: Predicting the Top 5 Home Run leaders in 2023 MLB season - Sportskeeda, link: https://www.sportskeeda.com/baseball/news-predicting-top-5-home-run-leaders-2023-mlb-season], [snippet: As the 2023 MLB season approaches, fans and bettors alike are speculating the home run totals of several key players. DraftKings Sportsbook has posted the corresponding over/unders, and we'll take a closer look at several that jump off the screen for better or worse. 2023 MLB HR total props Shohei Ohtani, Under 35.5 HRs (-120), title: MLB predictions 2023: Best bets, picks for HR total player props this ..., link: https://dknetwork.draftkings.com/2023/3/26/23649323/mlb-picks-odds-2023-home-run-player-prop-season-total-predictions-shohei-ohtani-trea-turner], [snippet: With Steamer projecting 44 home runs for Judge in 2023, he could compete for the most in baseball yet again this season. Yordan Alvarez (OF - HOU) It's been a short journey to superstardom..., title: Players to Target for Home Runs (2023 Fantasy Baseball), link: https://www.fantasypros.com/2023/02/players-target-home-runs-2023-fantasy-baseball/]\u001b[0m\n",
            "Thought:"
          ]
        },
        {
          "output_type": "stream",
          "name": "stderr",
          "text": [
            "Llama.generate: prefix-match hit\n"
          ]
        },
        {
          "output_type": "stream",
          "name": "stdout",
          "text": [
            "\u001b[32;1m\u001b[1;3m I found some information on Tatsuya Ogawa's home run count for the 2023 season, but it is not accurate or reliable.\u001b[0m\n",
            "Observation: Invalid Format: Missing 'Action:' after 'Thought:\n",
            "Thought:"
          ]
        },
        {
          "output_type": "stream",
          "name": "stderr",
          "text": [
            "Llama.generate: prefix-match hit\n"
          ]
        },
        {
          "output_type": "stream",
          "name": "stdout",
          "text": [
            "\u001b[32;1m\u001b[1;3m I need to search for more accurate and reliable information on Tatsuya Ogawa's home run count for the 2023 season in baseball.\n",
            "Action: Search\n",
            "Action Input: \"Tatsuya Ogawa 2023 MLB home runs accurate\"\u001b[0m\n",
            "Observation: \u001b[36;1m\u001b[1;3m[snippet: -- Brian Murphy Mike Trout, Angels 2022 total: 40 Last year, Trout hit 40 home runs in just 119 games, becoming just the fourth player to hit 40 while playing fewer than 120 games. He has three 40-homer seasons since 2015, tied for most in MLB during that span., title: Home run leader predictions 2023 MLB season - MLB.com, link: https://www.mlb.com/news/home-run-leader-predictions-2023-mlb-season], [snippet: As the 2023 MLB season approaches, fans and bettors alike are speculating the home run totals of several key players. DraftKings Sportsbook has posted the corresponding over/unders, and we'll take a closer look at several that jump off the screen for better or worse. 2023 MLB HR total props Shohei Ohtani, Under 35.5 HRs (-120), title: MLB predictions 2023: Best bets, picks for HR total player props this ..., link: https://dknetwork.draftkings.com/2023/3/26/23649323/mlb-picks-odds-2023-home-run-player-prop-season-total-predictions-shohei-ohtani-trea-turner], [snippet: 5) Matt Olson. The Atlanta Braves first baseman had an excellent season last year in his first with the team. He knocked in 34 home runs, so there's no reason to expect at least that for 2023 ..., title: Predicting the Top 5 Home Run leaders in 2023 MLB season - Sportskeeda, link: https://www.sportskeeda.com/baseball/news-predicting-top-5-home-run-leaders-2023-mlb-season], [snippet: With Steamer projecting 44 home runs for Judge in 2023, he could compete for the most in baseball yet again this season. Yordan Alvarez (OF - HOU) It's been a short journey to superstardom..., title: Players to Target for Home Runs (2023 Fantasy Baseball), link: https://www.fantasypros.com/2023/02/players-target-home-runs-2023-fantasy-baseball/]\u001b[0m\n",
            "Thought:"
          ]
        },
        {
          "output_type": "stream",
          "name": "stderr",
          "text": [
            "Llama.generate: prefix-match hit\n"
          ]
        },
        {
          "output_type": "stream",
          "name": "stdout",
          "text": [
            "\u001b[32;1m\u001b[1;3m I found some information on Tatsuya Ogawa's home run count for the 2023 season, but it is not accurate or reliable.\u001b[0m\n",
            "Observation: Invalid Format: Missing 'Action:' after 'Thought:\n",
            "Thought:"
          ]
        },
        {
          "output_type": "stream",
          "name": "stderr",
          "text": [
            "Llama.generate: prefix-match hit\n"
          ]
        },
        {
          "output_type": "stream",
          "name": "stdout",
          "text": [
            "\u001b[32;1m\u001b[1;3m I need to search for more accurate and reliable information on Tatsuya Ogawa's home run count for the 2023 season in baseball.\n",
            "Action: Search\n",
            "Action Input: \"Tatsuya Ogawa 2023 MLB home runs accurate\"\u001b[0m\n",
            "Observation: \u001b[36;1m\u001b[1;3m[snippet: -- Brian Murphy Mike Trout, Angels 2022 total: 40 Last year, Trout hit 40 home runs in just 119 games, becoming just the fourth player to hit 40 while playing fewer than 120 games. He has three 40-homer seasons since 2015, tied for most in MLB during that span., title: Home run leader predictions 2023 MLB season - MLB.com, link: https://www.mlb.com/news/home-run-leader-predictions-2023-mlb-season], [snippet: 5) Matt Olson. The Atlanta Braves first baseman had an excellent season last year in his first with the team. He knocked in 34 home runs, so there's no reason to expect at least that for 2023 ..., title: Predicting the Top 5 Home Run leaders in 2023 MLB season - Sportskeeda, link: https://www.sportskeeda.com/baseball/news-predicting-top-5-home-run-leaders-2023-mlb-season], [snippet: As the 2023 MLB season approaches, fans and bettors alike are speculating the home run totals of several key players. DraftKings Sportsbook has posted the corresponding over/unders, and we'll take a closer look at several that jump off the screen for better or worse. 2023 MLB HR total props Shohei Ohtani, Under 35.5 HRs (-120), title: MLB predictions 2023: Best bets, picks for HR total player props this ..., link: https://dknetwork.draftkings.com/2023/3/26/23649323/mlb-picks-odds-2023-home-run-player-prop-season-total-predictions-shohei-ohtani-trea-turner], [snippet: With Steamer projecting 44 home runs for Judge in 2023, he could compete for the most in baseball yet again this season. Yordan Alvarez (OF - HOU) It's been a short journey to superstardom..., title: Players to Target for Home Runs (2023 Fantasy Baseball), link: https://www.fantasypros.com/2023/02/players-target-home-runs-2023-fantasy-baseball/]\u001b[0m\n",
            "Thought:"
          ]
        },
        {
          "output_type": "stream",
          "name": "stderr",
          "text": [
            "Llama.generate: prefix-match hit\n"
          ]
        },
        {
          "output_type": "stream",
          "name": "stdout",
          "text": [
            "\u001b[32;1m\u001b[1;3m I found some information on Tatsuya Ogawa's home run count for the 2023 season, but it is not accurate or reliable.\u001b[0m\n",
            "Observation: Invalid Format: Missing 'Action:' after 'Thought:\n",
            "Thought:"
          ]
        },
        {
          "output_type": "stream",
          "name": "stderr",
          "text": [
            "Llama.generate: prefix-match hit\n"
          ]
        },
        {
          "output_type": "stream",
          "name": "stdout",
          "text": [
            "\u001b[32;1m\u001b[1;3m I need to search for more accurate and reliable information on Tatsuya Ogawa's home run count for the 2023 season in baseball.\n",
            "Action: Search\n",
            "Action Input: \"Tatsuya Ogawa 2\u001b[0m\n",
            "Observation: \u001b[36;1m\u001b[1;3m[snippet: Tatsuya Ogawa. Animation Department: Catwoman: Hunted. Tatsuya Ogawa is known for Catwoman: Hunted (2022). Menu. Movies. Release Calendar Top 250 Movies Most Popular Movies Browse Movies by Genre Top Box Office Showtimes & Tickets Movie News India Movie Spotlight. TV Shows., title: Tatsuya Ogawa - IMDb, link: https://www.imdb.com/name/nm13392445/], [snippet: Work in Progress 27 Mar 2023 Graphic Depictions Of Violence Major Character Death Original Character x Original Character Original Female Character (s) Original Male Character (s) Akemi Suzuki (Ultimate Herbalist) Tao Manakorisen (Ultimate Barista) Zakoshi Natsuro (Ultimate Paranormal Investigator) Pon Palorstep (Ultimate Exorcist), title: Tatsuya Ogawa (Ultimate Lucky Student) | Archive ... - Archive of Our Own, link: https://archiveofourown.org/tags/Tatsuya+Ogawa+(Ultimate+Lucky+Student)/works], [snippet: Masahiro Iwata, MD, 1 Tatsuya Ogawa, MD, PhD, 1 Keisuke Anju, MD, 1 Naoko Okiyama, MD, PhD, 1 , 2 and Toshifumi Nomura, MD, PhD 1 ... Vaccination for severe acute respiratory syndrome coronavirus 2 (SARS‐CoV‐2) is the most effective preventive method for coronavirus disease 2019 (COVID‐19) pandemic and has been the focus of a worldwide ..., title: Adult‐onset Still's disease following mRNA‐1273 Moderna COVID‐19 ..., link: https://europepmc.org/article/PMC/PMC9874601], [snippet: Abstract In this study, we report on a computational fluid dynamics (CFD) simulation of the chemical vapor deposition reactor of silicon carbide (SiC) in the methyltrichlorosilane (MTS, CH 3 SiCl 3 )/H 2 system. The formation of SiC thin film is controlled by various process parameters, such as temperature and pressure., title: CFD simulation of CVD reactors in the CH3SiCl3(MTS)/H2 system using a ..., link: https://pubmed.ncbi.nlm.nih.gov/37089368/]\u001b[0m\n",
            "Thought:"
          ]
        },
        {
          "output_type": "error",
          "ename": "ValueError",
          "evalue": "ignored",
          "traceback": [
            "\u001b[0;31m---------------------------------------------------------------------------\u001b[0m",
            "\u001b[0;31mValueError\u001b[0m                                Traceback (most recent call last)",
            "\u001b[0;32m<ipython-input-14-8e47e2d71705>\u001b[0m in \u001b[0;36m<cell line: 2>\u001b[0;34m()\u001b[0m\n\u001b[1;32m      1\u001b[0m \u001b[0mget_ipython\u001b[0m\u001b[0;34m(\u001b[0m\u001b[0;34m)\u001b[0m\u001b[0;34m.\u001b[0m\u001b[0mrun_line_magic\u001b[0m\u001b[0;34m(\u001b[0m\u001b[0;34m'time'\u001b[0m\u001b[0;34m,\u001b[0m \u001b[0;34m''\u001b[0m\u001b[0;34m)\u001b[0m\u001b[0;34m\u001b[0m\u001b[0;34m\u001b[0m\u001b[0m\n\u001b[0;32m----> 2\u001b[0;31m \u001b[0mresponse\u001b[0m \u001b[0;34m=\u001b[0m \u001b[0magent\u001b[0m\u001b[0;34m.\u001b[0m\u001b[0mrun\u001b[0m\u001b[0;34m(\u001b[0m\u001b[0;34m\"大谷翔平は、2023年のシーズンでは何本のホームランを打ったか？\"\u001b[0m\u001b[0;34m)\u001b[0m\u001b[0;34m\u001b[0m\u001b[0;34m\u001b[0m\u001b[0m\n\u001b[0m\u001b[1;32m      3\u001b[0m \u001b[0mprint\u001b[0m\u001b[0;34m(\u001b[0m\u001b[0mresponse\u001b[0m\u001b[0;34m)\u001b[0m\u001b[0;34m\u001b[0m\u001b[0;34m\u001b[0m\u001b[0m\n",
            "\u001b[0;32m/usr/local/lib/python3.10/dist-packages/langchain/chains/base.py\u001b[0m in \u001b[0;36mrun\u001b[0;34m(self, callbacks, tags, metadata, *args, **kwargs)\u001b[0m\n\u001b[1;32m    473\u001b[0m             \u001b[0;32mif\u001b[0m \u001b[0mlen\u001b[0m\u001b[0;34m(\u001b[0m\u001b[0margs\u001b[0m\u001b[0;34m)\u001b[0m \u001b[0;34m!=\u001b[0m \u001b[0;36m1\u001b[0m\u001b[0;34m:\u001b[0m\u001b[0;34m\u001b[0m\u001b[0;34m\u001b[0m\u001b[0m\n\u001b[1;32m    474\u001b[0m                 \u001b[0;32mraise\u001b[0m \u001b[0mValueError\u001b[0m\u001b[0;34m(\u001b[0m\u001b[0;34m\"`run` supports only one positional argument.\"\u001b[0m\u001b[0;34m)\u001b[0m\u001b[0;34m\u001b[0m\u001b[0;34m\u001b[0m\u001b[0m\n\u001b[0;32m--> 475\u001b[0;31m             return self(args[0], callbacks=callbacks, tags=tags, metadata=metadata)[\n\u001b[0m\u001b[1;32m    476\u001b[0m                 \u001b[0m_output_key\u001b[0m\u001b[0;34m\u001b[0m\u001b[0;34m\u001b[0m\u001b[0m\n\u001b[1;32m    477\u001b[0m             ]\n",
            "\u001b[0;32m/usr/local/lib/python3.10/dist-packages/langchain/chains/base.py\u001b[0m in \u001b[0;36m__call__\u001b[0;34m(self, inputs, return_only_outputs, callbacks, tags, metadata, include_run_info)\u001b[0m\n\u001b[1;32m    280\u001b[0m         \u001b[0;32mexcept\u001b[0m \u001b[0;34m(\u001b[0m\u001b[0mKeyboardInterrupt\u001b[0m\u001b[0;34m,\u001b[0m \u001b[0mException\u001b[0m\u001b[0;34m)\u001b[0m \u001b[0;32mas\u001b[0m \u001b[0me\u001b[0m\u001b[0;34m:\u001b[0m\u001b[0;34m\u001b[0m\u001b[0;34m\u001b[0m\u001b[0m\n\u001b[1;32m    281\u001b[0m             \u001b[0mrun_manager\u001b[0m\u001b[0;34m.\u001b[0m\u001b[0mon_chain_error\u001b[0m\u001b[0;34m(\u001b[0m\u001b[0me\u001b[0m\u001b[0;34m)\u001b[0m\u001b[0;34m\u001b[0m\u001b[0;34m\u001b[0m\u001b[0m\n\u001b[0;32m--> 282\u001b[0;31m             \u001b[0;32mraise\u001b[0m \u001b[0me\u001b[0m\u001b[0;34m\u001b[0m\u001b[0;34m\u001b[0m\u001b[0m\n\u001b[0m\u001b[1;32m    283\u001b[0m         \u001b[0mrun_manager\u001b[0m\u001b[0;34m.\u001b[0m\u001b[0mon_chain_end\u001b[0m\u001b[0;34m(\u001b[0m\u001b[0moutputs\u001b[0m\u001b[0;34m)\u001b[0m\u001b[0;34m\u001b[0m\u001b[0;34m\u001b[0m\u001b[0m\n\u001b[1;32m    284\u001b[0m         final_outputs: Dict[str, Any] = self.prep_outputs(\n",
            "\u001b[0;32m/usr/local/lib/python3.10/dist-packages/langchain/chains/base.py\u001b[0m in \u001b[0;36m__call__\u001b[0;34m(self, inputs, return_only_outputs, callbacks, tags, metadata, include_run_info)\u001b[0m\n\u001b[1;32m    274\u001b[0m         \u001b[0;32mtry\u001b[0m\u001b[0;34m:\u001b[0m\u001b[0;34m\u001b[0m\u001b[0;34m\u001b[0m\u001b[0m\n\u001b[1;32m    275\u001b[0m             outputs = (\n\u001b[0;32m--> 276\u001b[0;31m                 \u001b[0mself\u001b[0m\u001b[0;34m.\u001b[0m\u001b[0m_call\u001b[0m\u001b[0;34m(\u001b[0m\u001b[0minputs\u001b[0m\u001b[0;34m,\u001b[0m \u001b[0mrun_manager\u001b[0m\u001b[0;34m=\u001b[0m\u001b[0mrun_manager\u001b[0m\u001b[0;34m)\u001b[0m\u001b[0;34m\u001b[0m\u001b[0;34m\u001b[0m\u001b[0m\n\u001b[0m\u001b[1;32m    277\u001b[0m                 \u001b[0;32mif\u001b[0m \u001b[0mnew_arg_supported\u001b[0m\u001b[0;34m\u001b[0m\u001b[0;34m\u001b[0m\u001b[0m\n\u001b[1;32m    278\u001b[0m                 \u001b[0;32melse\u001b[0m \u001b[0mself\u001b[0m\u001b[0;34m.\u001b[0m\u001b[0m_call\u001b[0m\u001b[0;34m(\u001b[0m\u001b[0minputs\u001b[0m\u001b[0;34m)\u001b[0m\u001b[0;34m\u001b[0m\u001b[0;34m\u001b[0m\u001b[0m\n",
            "\u001b[0;32m/usr/local/lib/python3.10/dist-packages/langchain/agents/agent.py\u001b[0m in \u001b[0;36m_call\u001b[0;34m(self, inputs, run_manager)\u001b[0m\n\u001b[1;32m   1034\u001b[0m         \u001b[0;31m# We now enter the agent loop (until it returns something).\u001b[0m\u001b[0;34m\u001b[0m\u001b[0;34m\u001b[0m\u001b[0m\n\u001b[1;32m   1035\u001b[0m         \u001b[0;32mwhile\u001b[0m \u001b[0mself\u001b[0m\u001b[0;34m.\u001b[0m\u001b[0m_should_continue\u001b[0m\u001b[0;34m(\u001b[0m\u001b[0miterations\u001b[0m\u001b[0;34m,\u001b[0m \u001b[0mtime_elapsed\u001b[0m\u001b[0;34m)\u001b[0m\u001b[0;34m:\u001b[0m\u001b[0;34m\u001b[0m\u001b[0;34m\u001b[0m\u001b[0m\n\u001b[0;32m-> 1036\u001b[0;31m             next_step_output = self._take_next_step(\n\u001b[0m\u001b[1;32m   1037\u001b[0m                 \u001b[0mname_to_tool_map\u001b[0m\u001b[0;34m,\u001b[0m\u001b[0;34m\u001b[0m\u001b[0;34m\u001b[0m\u001b[0m\n\u001b[1;32m   1038\u001b[0m                 \u001b[0mcolor_mapping\u001b[0m\u001b[0;34m,\u001b[0m\u001b[0;34m\u001b[0m\u001b[0;34m\u001b[0m\u001b[0m\n",
            "\u001b[0;32m/usr/local/lib/python3.10/dist-packages/langchain/agents/agent.py\u001b[0m in \u001b[0;36m_take_next_step\u001b[0;34m(self, name_to_tool_map, color_mapping, inputs, intermediate_steps, run_manager)\u001b[0m\n\u001b[1;32m    831\u001b[0m \u001b[0;34m\u001b[0m\u001b[0m\n\u001b[1;32m    832\u001b[0m             \u001b[0;31m# Call the LLM to see what to do.\u001b[0m\u001b[0;34m\u001b[0m\u001b[0;34m\u001b[0m\u001b[0m\n\u001b[0;32m--> 833\u001b[0;31m             output = self.agent.plan(\n\u001b[0m\u001b[1;32m    834\u001b[0m                 \u001b[0mintermediate_steps\u001b[0m\u001b[0;34m,\u001b[0m\u001b[0;34m\u001b[0m\u001b[0;34m\u001b[0m\u001b[0m\n\u001b[1;32m    835\u001b[0m                 \u001b[0mcallbacks\u001b[0m\u001b[0;34m=\u001b[0m\u001b[0mrun_manager\u001b[0m\u001b[0;34m.\u001b[0m\u001b[0mget_child\u001b[0m\u001b[0;34m(\u001b[0m\u001b[0;34m)\u001b[0m \u001b[0;32mif\u001b[0m \u001b[0mrun_manager\u001b[0m \u001b[0;32melse\u001b[0m \u001b[0;32mNone\u001b[0m\u001b[0;34m,\u001b[0m\u001b[0;34m\u001b[0m\u001b[0;34m\u001b[0m\u001b[0m\n",
            "\u001b[0;32m/usr/local/lib/python3.10/dist-packages/langchain/agents/agent.py\u001b[0m in \u001b[0;36mplan\u001b[0;34m(self, intermediate_steps, callbacks, **kwargs)\u001b[0m\n\u001b[1;32m    454\u001b[0m         \"\"\"\n\u001b[1;32m    455\u001b[0m         \u001b[0mfull_inputs\u001b[0m \u001b[0;34m=\u001b[0m \u001b[0mself\u001b[0m\u001b[0;34m.\u001b[0m\u001b[0mget_full_inputs\u001b[0m\u001b[0;34m(\u001b[0m\u001b[0mintermediate_steps\u001b[0m\u001b[0;34m,\u001b[0m \u001b[0;34m**\u001b[0m\u001b[0mkwargs\u001b[0m\u001b[0;34m)\u001b[0m\u001b[0;34m\u001b[0m\u001b[0;34m\u001b[0m\u001b[0m\n\u001b[0;32m--> 456\u001b[0;31m         \u001b[0mfull_output\u001b[0m \u001b[0;34m=\u001b[0m \u001b[0mself\u001b[0m\u001b[0;34m.\u001b[0m\u001b[0mllm_chain\u001b[0m\u001b[0;34m.\u001b[0m\u001b[0mpredict\u001b[0m\u001b[0;34m(\u001b[0m\u001b[0mcallbacks\u001b[0m\u001b[0;34m=\u001b[0m\u001b[0mcallbacks\u001b[0m\u001b[0;34m,\u001b[0m \u001b[0;34m**\u001b[0m\u001b[0mfull_inputs\u001b[0m\u001b[0;34m)\u001b[0m\u001b[0;34m\u001b[0m\u001b[0;34m\u001b[0m\u001b[0m\n\u001b[0m\u001b[1;32m    457\u001b[0m         \u001b[0;32mreturn\u001b[0m \u001b[0mself\u001b[0m\u001b[0;34m.\u001b[0m\u001b[0moutput_parser\u001b[0m\u001b[0;34m.\u001b[0m\u001b[0mparse\u001b[0m\u001b[0;34m(\u001b[0m\u001b[0mfull_output\u001b[0m\u001b[0;34m)\u001b[0m\u001b[0;34m\u001b[0m\u001b[0;34m\u001b[0m\u001b[0m\n\u001b[1;32m    458\u001b[0m \u001b[0;34m\u001b[0m\u001b[0m\n",
            "\u001b[0;32m/usr/local/lib/python3.10/dist-packages/langchain/chains/llm.py\u001b[0m in \u001b[0;36mpredict\u001b[0;34m(self, callbacks, **kwargs)\u001b[0m\n\u001b[1;32m    253\u001b[0m                 \u001b[0mcompletion\u001b[0m \u001b[0;34m=\u001b[0m \u001b[0mllm\u001b[0m\u001b[0;34m.\u001b[0m\u001b[0mpredict\u001b[0m\u001b[0;34m(\u001b[0m\u001b[0madjective\u001b[0m\u001b[0;34m=\u001b[0m\u001b[0;34m\"funny\"\u001b[0m\u001b[0;34m)\u001b[0m\u001b[0;34m\u001b[0m\u001b[0;34m\u001b[0m\u001b[0m\n\u001b[1;32m    254\u001b[0m         \"\"\"\n\u001b[0;32m--> 255\u001b[0;31m         \u001b[0;32mreturn\u001b[0m \u001b[0mself\u001b[0m\u001b[0;34m(\u001b[0m\u001b[0mkwargs\u001b[0m\u001b[0;34m,\u001b[0m \u001b[0mcallbacks\u001b[0m\u001b[0;34m=\u001b[0m\u001b[0mcallbacks\u001b[0m\u001b[0;34m)\u001b[0m\u001b[0;34m[\u001b[0m\u001b[0mself\u001b[0m\u001b[0;34m.\u001b[0m\u001b[0moutput_key\u001b[0m\u001b[0;34m]\u001b[0m\u001b[0;34m\u001b[0m\u001b[0;34m\u001b[0m\u001b[0m\n\u001b[0m\u001b[1;32m    256\u001b[0m \u001b[0;34m\u001b[0m\u001b[0m\n\u001b[1;32m    257\u001b[0m     \u001b[0;32masync\u001b[0m \u001b[0;32mdef\u001b[0m \u001b[0mapredict\u001b[0m\u001b[0;34m(\u001b[0m\u001b[0mself\u001b[0m\u001b[0;34m,\u001b[0m \u001b[0mcallbacks\u001b[0m\u001b[0;34m:\u001b[0m \u001b[0mCallbacks\u001b[0m \u001b[0;34m=\u001b[0m \u001b[0;32mNone\u001b[0m\u001b[0;34m,\u001b[0m \u001b[0;34m**\u001b[0m\u001b[0mkwargs\u001b[0m\u001b[0;34m:\u001b[0m \u001b[0mAny\u001b[0m\u001b[0;34m)\u001b[0m \u001b[0;34m->\u001b[0m \u001b[0mstr\u001b[0m\u001b[0;34m:\u001b[0m\u001b[0;34m\u001b[0m\u001b[0;34m\u001b[0m\u001b[0m\n",
            "\u001b[0;32m/usr/local/lib/python3.10/dist-packages/langchain/chains/base.py\u001b[0m in \u001b[0;36m__call__\u001b[0;34m(self, inputs, return_only_outputs, callbacks, tags, metadata, include_run_info)\u001b[0m\n\u001b[1;32m    280\u001b[0m         \u001b[0;32mexcept\u001b[0m \u001b[0;34m(\u001b[0m\u001b[0mKeyboardInterrupt\u001b[0m\u001b[0;34m,\u001b[0m \u001b[0mException\u001b[0m\u001b[0;34m)\u001b[0m \u001b[0;32mas\u001b[0m \u001b[0me\u001b[0m\u001b[0;34m:\u001b[0m\u001b[0;34m\u001b[0m\u001b[0;34m\u001b[0m\u001b[0m\n\u001b[1;32m    281\u001b[0m             \u001b[0mrun_manager\u001b[0m\u001b[0;34m.\u001b[0m\u001b[0mon_chain_error\u001b[0m\u001b[0;34m(\u001b[0m\u001b[0me\u001b[0m\u001b[0;34m)\u001b[0m\u001b[0;34m\u001b[0m\u001b[0;34m\u001b[0m\u001b[0m\n\u001b[0;32m--> 282\u001b[0;31m             \u001b[0;32mraise\u001b[0m \u001b[0me\u001b[0m\u001b[0;34m\u001b[0m\u001b[0;34m\u001b[0m\u001b[0m\n\u001b[0m\u001b[1;32m    283\u001b[0m         \u001b[0mrun_manager\u001b[0m\u001b[0;34m.\u001b[0m\u001b[0mon_chain_end\u001b[0m\u001b[0;34m(\u001b[0m\u001b[0moutputs\u001b[0m\u001b[0;34m)\u001b[0m\u001b[0;34m\u001b[0m\u001b[0;34m\u001b[0m\u001b[0m\n\u001b[1;32m    284\u001b[0m         final_outputs: Dict[str, Any] = self.prep_outputs(\n",
            "\u001b[0;32m/usr/local/lib/python3.10/dist-packages/langchain/chains/base.py\u001b[0m in \u001b[0;36m__call__\u001b[0;34m(self, inputs, return_only_outputs, callbacks, tags, metadata, include_run_info)\u001b[0m\n\u001b[1;32m    274\u001b[0m         \u001b[0;32mtry\u001b[0m\u001b[0;34m:\u001b[0m\u001b[0;34m\u001b[0m\u001b[0;34m\u001b[0m\u001b[0m\n\u001b[1;32m    275\u001b[0m             outputs = (\n\u001b[0;32m--> 276\u001b[0;31m                 \u001b[0mself\u001b[0m\u001b[0;34m.\u001b[0m\u001b[0m_call\u001b[0m\u001b[0;34m(\u001b[0m\u001b[0minputs\u001b[0m\u001b[0;34m,\u001b[0m \u001b[0mrun_manager\u001b[0m\u001b[0;34m=\u001b[0m\u001b[0mrun_manager\u001b[0m\u001b[0;34m)\u001b[0m\u001b[0;34m\u001b[0m\u001b[0;34m\u001b[0m\u001b[0m\n\u001b[0m\u001b[1;32m    277\u001b[0m                 \u001b[0;32mif\u001b[0m \u001b[0mnew_arg_supported\u001b[0m\u001b[0;34m\u001b[0m\u001b[0;34m\u001b[0m\u001b[0m\n\u001b[1;32m    278\u001b[0m                 \u001b[0;32melse\u001b[0m \u001b[0mself\u001b[0m\u001b[0;34m.\u001b[0m\u001b[0m_call\u001b[0m\u001b[0;34m(\u001b[0m\u001b[0minputs\u001b[0m\u001b[0;34m)\u001b[0m\u001b[0;34m\u001b[0m\u001b[0;34m\u001b[0m\u001b[0m\n",
            "\u001b[0;32m/usr/local/lib/python3.10/dist-packages/langchain/chains/llm.py\u001b[0m in \u001b[0;36m_call\u001b[0;34m(self, inputs, run_manager)\u001b[0m\n\u001b[1;32m     89\u001b[0m         \u001b[0mrun_manager\u001b[0m\u001b[0;34m:\u001b[0m \u001b[0mOptional\u001b[0m\u001b[0;34m[\u001b[0m\u001b[0mCallbackManagerForChainRun\u001b[0m\u001b[0;34m]\u001b[0m \u001b[0;34m=\u001b[0m \u001b[0;32mNone\u001b[0m\u001b[0;34m,\u001b[0m\u001b[0;34m\u001b[0m\u001b[0;34m\u001b[0m\u001b[0m\n\u001b[1;32m     90\u001b[0m     ) -> Dict[str, str]:\n\u001b[0;32m---> 91\u001b[0;31m         \u001b[0mresponse\u001b[0m \u001b[0;34m=\u001b[0m \u001b[0mself\u001b[0m\u001b[0;34m.\u001b[0m\u001b[0mgenerate\u001b[0m\u001b[0;34m(\u001b[0m\u001b[0;34m[\u001b[0m\u001b[0minputs\u001b[0m\u001b[0;34m]\u001b[0m\u001b[0;34m,\u001b[0m \u001b[0mrun_manager\u001b[0m\u001b[0;34m=\u001b[0m\u001b[0mrun_manager\u001b[0m\u001b[0;34m)\u001b[0m\u001b[0;34m\u001b[0m\u001b[0;34m\u001b[0m\u001b[0m\n\u001b[0m\u001b[1;32m     92\u001b[0m         \u001b[0;32mreturn\u001b[0m \u001b[0mself\u001b[0m\u001b[0;34m.\u001b[0m\u001b[0mcreate_outputs\u001b[0m\u001b[0;34m(\u001b[0m\u001b[0mresponse\u001b[0m\u001b[0;34m)\u001b[0m\u001b[0;34m[\u001b[0m\u001b[0;36m0\u001b[0m\u001b[0;34m]\u001b[0m\u001b[0;34m\u001b[0m\u001b[0;34m\u001b[0m\u001b[0m\n\u001b[1;32m     93\u001b[0m \u001b[0;34m\u001b[0m\u001b[0m\n",
            "\u001b[0;32m/usr/local/lib/python3.10/dist-packages/langchain/chains/llm.py\u001b[0m in \u001b[0;36mgenerate\u001b[0;34m(self, input_list, run_manager)\u001b[0m\n\u001b[1;32m     99\u001b[0m         \u001b[0;34m\"\"\"Generate LLM result from inputs.\"\"\"\u001b[0m\u001b[0;34m\u001b[0m\u001b[0;34m\u001b[0m\u001b[0m\n\u001b[1;32m    100\u001b[0m         \u001b[0mprompts\u001b[0m\u001b[0;34m,\u001b[0m \u001b[0mstop\u001b[0m \u001b[0;34m=\u001b[0m \u001b[0mself\u001b[0m\u001b[0;34m.\u001b[0m\u001b[0mprep_prompts\u001b[0m\u001b[0;34m(\u001b[0m\u001b[0minput_list\u001b[0m\u001b[0;34m,\u001b[0m \u001b[0mrun_manager\u001b[0m\u001b[0;34m=\u001b[0m\u001b[0mrun_manager\u001b[0m\u001b[0;34m)\u001b[0m\u001b[0;34m\u001b[0m\u001b[0;34m\u001b[0m\u001b[0m\n\u001b[0;32m--> 101\u001b[0;31m         return self.llm.generate_prompt(\n\u001b[0m\u001b[1;32m    102\u001b[0m             \u001b[0mprompts\u001b[0m\u001b[0;34m,\u001b[0m\u001b[0;34m\u001b[0m\u001b[0;34m\u001b[0m\u001b[0m\n\u001b[1;32m    103\u001b[0m             \u001b[0mstop\u001b[0m\u001b[0;34m,\u001b[0m\u001b[0;34m\u001b[0m\u001b[0;34m\u001b[0m\u001b[0m\n",
            "\u001b[0;32m/usr/local/lib/python3.10/dist-packages/langchain/llms/base.py\u001b[0m in \u001b[0;36mgenerate_prompt\u001b[0;34m(self, prompts, stop, callbacks, **kwargs)\u001b[0m\n\u001b[1;32m    465\u001b[0m     ) -> LLMResult:\n\u001b[1;32m    466\u001b[0m         \u001b[0mprompt_strings\u001b[0m \u001b[0;34m=\u001b[0m \u001b[0;34m[\u001b[0m\u001b[0mp\u001b[0m\u001b[0;34m.\u001b[0m\u001b[0mto_string\u001b[0m\u001b[0;34m(\u001b[0m\u001b[0;34m)\u001b[0m \u001b[0;32mfor\u001b[0m \u001b[0mp\u001b[0m \u001b[0;32min\u001b[0m \u001b[0mprompts\u001b[0m\u001b[0;34m]\u001b[0m\u001b[0;34m\u001b[0m\u001b[0;34m\u001b[0m\u001b[0m\n\u001b[0;32m--> 467\u001b[0;31m         \u001b[0;32mreturn\u001b[0m \u001b[0mself\u001b[0m\u001b[0;34m.\u001b[0m\u001b[0mgenerate\u001b[0m\u001b[0;34m(\u001b[0m\u001b[0mprompt_strings\u001b[0m\u001b[0;34m,\u001b[0m \u001b[0mstop\u001b[0m\u001b[0;34m=\u001b[0m\u001b[0mstop\u001b[0m\u001b[0;34m,\u001b[0m \u001b[0mcallbacks\u001b[0m\u001b[0;34m=\u001b[0m\u001b[0mcallbacks\u001b[0m\u001b[0;34m,\u001b[0m \u001b[0;34m**\u001b[0m\u001b[0mkwargs\u001b[0m\u001b[0;34m)\u001b[0m\u001b[0;34m\u001b[0m\u001b[0;34m\u001b[0m\u001b[0m\n\u001b[0m\u001b[1;32m    468\u001b[0m \u001b[0;34m\u001b[0m\u001b[0m\n\u001b[1;32m    469\u001b[0m     async def agenerate_prompt(\n",
            "\u001b[0;32m/usr/local/lib/python3.10/dist-packages/langchain/llms/base.py\u001b[0m in \u001b[0;36mgenerate\u001b[0;34m(self, prompts, stop, callbacks, tags, metadata, **kwargs)\u001b[0m\n\u001b[1;32m    596\u001b[0m                 \u001b[0;32mfor\u001b[0m \u001b[0mcallback_manager\u001b[0m\u001b[0;34m,\u001b[0m \u001b[0mprompt\u001b[0m \u001b[0;32min\u001b[0m \u001b[0mzip\u001b[0m\u001b[0;34m(\u001b[0m\u001b[0mcallback_managers\u001b[0m\u001b[0;34m,\u001b[0m \u001b[0mprompts\u001b[0m\u001b[0;34m)\u001b[0m\u001b[0;34m\u001b[0m\u001b[0;34m\u001b[0m\u001b[0m\n\u001b[1;32m    597\u001b[0m             ]\n\u001b[0;32m--> 598\u001b[0;31m             output = self._generate_helper(\n\u001b[0m\u001b[1;32m    599\u001b[0m                 \u001b[0mprompts\u001b[0m\u001b[0;34m,\u001b[0m \u001b[0mstop\u001b[0m\u001b[0;34m,\u001b[0m \u001b[0mrun_managers\u001b[0m\u001b[0;34m,\u001b[0m \u001b[0mbool\u001b[0m\u001b[0;34m(\u001b[0m\u001b[0mnew_arg_supported\u001b[0m\u001b[0;34m)\u001b[0m\u001b[0;34m,\u001b[0m \u001b[0;34m**\u001b[0m\u001b[0mkwargs\u001b[0m\u001b[0;34m\u001b[0m\u001b[0;34m\u001b[0m\u001b[0m\n\u001b[1;32m    600\u001b[0m             )\n",
            "\u001b[0;32m/usr/local/lib/python3.10/dist-packages/langchain/llms/base.py\u001b[0m in \u001b[0;36m_generate_helper\u001b[0;34m(self, prompts, stop, run_managers, new_arg_supported, **kwargs)\u001b[0m\n\u001b[1;32m    502\u001b[0m             \u001b[0;32mfor\u001b[0m \u001b[0mrun_manager\u001b[0m \u001b[0;32min\u001b[0m \u001b[0mrun_managers\u001b[0m\u001b[0;34m:\u001b[0m\u001b[0;34m\u001b[0m\u001b[0;34m\u001b[0m\u001b[0m\n\u001b[1;32m    503\u001b[0m                 \u001b[0mrun_manager\u001b[0m\u001b[0;34m.\u001b[0m\u001b[0mon_llm_error\u001b[0m\u001b[0;34m(\u001b[0m\u001b[0me\u001b[0m\u001b[0;34m)\u001b[0m\u001b[0;34m\u001b[0m\u001b[0;34m\u001b[0m\u001b[0m\n\u001b[0;32m--> 504\u001b[0;31m             \u001b[0;32mraise\u001b[0m \u001b[0me\u001b[0m\u001b[0;34m\u001b[0m\u001b[0;34m\u001b[0m\u001b[0m\n\u001b[0m\u001b[1;32m    505\u001b[0m         \u001b[0mflattened_outputs\u001b[0m \u001b[0;34m=\u001b[0m \u001b[0moutput\u001b[0m\u001b[0;34m.\u001b[0m\u001b[0mflatten\u001b[0m\u001b[0;34m(\u001b[0m\u001b[0;34m)\u001b[0m\u001b[0;34m\u001b[0m\u001b[0;34m\u001b[0m\u001b[0m\n\u001b[1;32m    506\u001b[0m         \u001b[0;32mfor\u001b[0m \u001b[0mmanager\u001b[0m\u001b[0;34m,\u001b[0m \u001b[0mflattened_output\u001b[0m \u001b[0;32min\u001b[0m \u001b[0mzip\u001b[0m\u001b[0;34m(\u001b[0m\u001b[0mrun_managers\u001b[0m\u001b[0;34m,\u001b[0m \u001b[0mflattened_outputs\u001b[0m\u001b[0;34m)\u001b[0m\u001b[0;34m:\u001b[0m\u001b[0;34m\u001b[0m\u001b[0;34m\u001b[0m\u001b[0m\n",
            "\u001b[0;32m/usr/local/lib/python3.10/dist-packages/langchain/llms/base.py\u001b[0m in \u001b[0;36m_generate_helper\u001b[0;34m(self, prompts, stop, run_managers, new_arg_supported, **kwargs)\u001b[0m\n\u001b[1;32m    489\u001b[0m         \u001b[0;32mtry\u001b[0m\u001b[0;34m:\u001b[0m\u001b[0;34m\u001b[0m\u001b[0;34m\u001b[0m\u001b[0m\n\u001b[1;32m    490\u001b[0m             output = (\n\u001b[0;32m--> 491\u001b[0;31m                 self._generate(\n\u001b[0m\u001b[1;32m    492\u001b[0m                     \u001b[0mprompts\u001b[0m\u001b[0;34m,\u001b[0m\u001b[0;34m\u001b[0m\u001b[0;34m\u001b[0m\u001b[0m\n\u001b[1;32m    493\u001b[0m                     \u001b[0mstop\u001b[0m\u001b[0;34m=\u001b[0m\u001b[0mstop\u001b[0m\u001b[0;34m,\u001b[0m\u001b[0;34m\u001b[0m\u001b[0;34m\u001b[0m\u001b[0m\n",
            "\u001b[0;32m/usr/local/lib/python3.10/dist-packages/langchain/llms/base.py\u001b[0m in \u001b[0;36m_generate\u001b[0;34m(self, prompts, stop, run_manager, **kwargs)\u001b[0m\n\u001b[1;32m    975\u001b[0m         \u001b[0;32mfor\u001b[0m \u001b[0mprompt\u001b[0m \u001b[0;32min\u001b[0m \u001b[0mprompts\u001b[0m\u001b[0;34m:\u001b[0m\u001b[0;34m\u001b[0m\u001b[0;34m\u001b[0m\u001b[0m\n\u001b[1;32m    976\u001b[0m             text = (\n\u001b[0;32m--> 977\u001b[0;31m                 \u001b[0mself\u001b[0m\u001b[0;34m.\u001b[0m\u001b[0m_call\u001b[0m\u001b[0;34m(\u001b[0m\u001b[0mprompt\u001b[0m\u001b[0;34m,\u001b[0m \u001b[0mstop\u001b[0m\u001b[0;34m=\u001b[0m\u001b[0mstop\u001b[0m\u001b[0;34m,\u001b[0m \u001b[0mrun_manager\u001b[0m\u001b[0;34m=\u001b[0m\u001b[0mrun_manager\u001b[0m\u001b[0;34m,\u001b[0m \u001b[0;34m**\u001b[0m\u001b[0mkwargs\u001b[0m\u001b[0;34m)\u001b[0m\u001b[0;34m\u001b[0m\u001b[0;34m\u001b[0m\u001b[0m\n\u001b[0m\u001b[1;32m    978\u001b[0m                 \u001b[0;32mif\u001b[0m \u001b[0mnew_arg_supported\u001b[0m\u001b[0;34m\u001b[0m\u001b[0;34m\u001b[0m\u001b[0m\n\u001b[1;32m    979\u001b[0m                 \u001b[0;32melse\u001b[0m \u001b[0mself\u001b[0m\u001b[0;34m.\u001b[0m\u001b[0m_call\u001b[0m\u001b[0;34m(\u001b[0m\u001b[0mprompt\u001b[0m\u001b[0;34m,\u001b[0m \u001b[0mstop\u001b[0m\u001b[0;34m=\u001b[0m\u001b[0mstop\u001b[0m\u001b[0;34m,\u001b[0m \u001b[0;34m**\u001b[0m\u001b[0mkwargs\u001b[0m\u001b[0;34m)\u001b[0m\u001b[0;34m\u001b[0m\u001b[0;34m\u001b[0m\u001b[0m\n",
            "\u001b[0;32m/usr/local/lib/python3.10/dist-packages/langchain/llms/llamacpp.py\u001b[0m in \u001b[0;36m_call\u001b[0;34m(self, prompt, stop, run_manager, **kwargs)\u001b[0m\n\u001b[1;32m    252\u001b[0m             \u001b[0;31m# and return the combined strings from the first choices's text:\u001b[0m\u001b[0;34m\u001b[0m\u001b[0;34m\u001b[0m\u001b[0m\n\u001b[1;32m    253\u001b[0m             \u001b[0mcombined_text_output\u001b[0m \u001b[0;34m=\u001b[0m \u001b[0;34m\"\"\u001b[0m\u001b[0;34m\u001b[0m\u001b[0;34m\u001b[0m\u001b[0m\n\u001b[0;32m--> 254\u001b[0;31m             for chunk in self._stream(\n\u001b[0m\u001b[1;32m    255\u001b[0m                 \u001b[0mprompt\u001b[0m\u001b[0;34m=\u001b[0m\u001b[0mprompt\u001b[0m\u001b[0;34m,\u001b[0m \u001b[0mstop\u001b[0m\u001b[0;34m=\u001b[0m\u001b[0mstop\u001b[0m\u001b[0;34m,\u001b[0m \u001b[0mrun_manager\u001b[0m\u001b[0;34m=\u001b[0m\u001b[0mrun_manager\u001b[0m\u001b[0;34m,\u001b[0m \u001b[0;34m**\u001b[0m\u001b[0mkwargs\u001b[0m\u001b[0;34m\u001b[0m\u001b[0;34m\u001b[0m\u001b[0m\n\u001b[1;32m    256\u001b[0m             ):\n",
            "\u001b[0;32m/usr/local/lib/python3.10/dist-packages/langchain/llms/llamacpp.py\u001b[0m in \u001b[0;36m_stream\u001b[0;34m(self, prompt, stop, run_manager, **kwargs)\u001b[0m\n\u001b[1;32m    302\u001b[0m         \u001b[0mparams\u001b[0m \u001b[0;34m=\u001b[0m \u001b[0;34m{\u001b[0m\u001b[0;34m**\u001b[0m\u001b[0mself\u001b[0m\u001b[0;34m.\u001b[0m\u001b[0m_get_parameters\u001b[0m\u001b[0;34m(\u001b[0m\u001b[0mstop\u001b[0m\u001b[0;34m)\u001b[0m\u001b[0;34m,\u001b[0m \u001b[0;34m**\u001b[0m\u001b[0mkwargs\u001b[0m\u001b[0;34m}\u001b[0m\u001b[0;34m\u001b[0m\u001b[0;34m\u001b[0m\u001b[0m\n\u001b[1;32m    303\u001b[0m         \u001b[0mresult\u001b[0m \u001b[0;34m=\u001b[0m \u001b[0mself\u001b[0m\u001b[0;34m.\u001b[0m\u001b[0mclient\u001b[0m\u001b[0;34m(\u001b[0m\u001b[0mprompt\u001b[0m\u001b[0;34m=\u001b[0m\u001b[0mprompt\u001b[0m\u001b[0;34m,\u001b[0m \u001b[0mstream\u001b[0m\u001b[0;34m=\u001b[0m\u001b[0;32mTrue\u001b[0m\u001b[0;34m,\u001b[0m \u001b[0;34m**\u001b[0m\u001b[0mparams\u001b[0m\u001b[0;34m)\u001b[0m\u001b[0;34m\u001b[0m\u001b[0;34m\u001b[0m\u001b[0m\n\u001b[0;32m--> 304\u001b[0;31m         \u001b[0;32mfor\u001b[0m \u001b[0mpart\u001b[0m \u001b[0;32min\u001b[0m \u001b[0mresult\u001b[0m\u001b[0;34m:\u001b[0m\u001b[0;34m\u001b[0m\u001b[0;34m\u001b[0m\u001b[0m\n\u001b[0m\u001b[1;32m    305\u001b[0m             \u001b[0mlogprobs\u001b[0m \u001b[0;34m=\u001b[0m \u001b[0mpart\u001b[0m\u001b[0;34m[\u001b[0m\u001b[0;34m\"choices\"\u001b[0m\u001b[0;34m]\u001b[0m\u001b[0;34m[\u001b[0m\u001b[0;36m0\u001b[0m\u001b[0;34m]\u001b[0m\u001b[0;34m.\u001b[0m\u001b[0mget\u001b[0m\u001b[0;34m(\u001b[0m\u001b[0;34m\"logprobs\"\u001b[0m\u001b[0;34m,\u001b[0m \u001b[0;32mNone\u001b[0m\u001b[0;34m)\u001b[0m\u001b[0;34m\u001b[0m\u001b[0;34m\u001b[0m\u001b[0m\n\u001b[1;32m    306\u001b[0m             chunk = GenerationChunk(\n",
            "\u001b[0;32m/usr/local/lib/python3.10/dist-packages/llama_cpp/llama.py\u001b[0m in \u001b[0;36m_create_completion\u001b[0;34m(self, prompt, suffix, max_tokens, temperature, top_p, logprobs, echo, stop, frequency_penalty, presence_penalty, repeat_penalty, top_k, stream, tfs_z, mirostat_mode, mirostat_tau, mirostat_eta, model, stopping_criteria, logits_processor, grammar)\u001b[0m\n\u001b[1;32m    898\u001b[0m \u001b[0;34m\u001b[0m\u001b[0m\n\u001b[1;32m    899\u001b[0m         \u001b[0;32mif\u001b[0m \u001b[0mlen\u001b[0m\u001b[0;34m(\u001b[0m\u001b[0mprompt_tokens\u001b[0m\u001b[0;34m)\u001b[0m \u001b[0;34m>=\u001b[0m \u001b[0mllama_cpp\u001b[0m\u001b[0;34m.\u001b[0m\u001b[0mllama_n_ctx\u001b[0m\u001b[0;34m(\u001b[0m\u001b[0mself\u001b[0m\u001b[0;34m.\u001b[0m\u001b[0mctx\u001b[0m\u001b[0;34m)\u001b[0m\u001b[0;34m:\u001b[0m\u001b[0;34m\u001b[0m\u001b[0;34m\u001b[0m\u001b[0m\n\u001b[0;32m--> 900\u001b[0;31m             raise ValueError(\n\u001b[0m\u001b[1;32m    901\u001b[0m                 \u001b[0;34mf\"Requested tokens ({len(prompt_tokens)}) exceed context window of {llama_cpp.llama_n_ctx(self.ctx)}\"\u001b[0m\u001b[0;34m\u001b[0m\u001b[0;34m\u001b[0m\u001b[0m\n\u001b[1;32m    902\u001b[0m             )\n",
            "\u001b[0;31mValueError\u001b[0m: Requested tokens (4677) exceed context window of 4048"
          ]
        }
      ]
    },
    {
      "cell_type": "code",
      "source": [
        "%%time\n",
        "response = agent.run(\"大谷翔平は、2023年のシーズンでは何本のホームランを打っているか？また、最終的に何本打つと予測できるか？\")\n",
        "print(response)"
      ],
      "metadata": {
        "colab": {
          "base_uri": "https://localhost:8080/"
        },
        "id": "pPzWuRi_bQjM",
        "outputId": "5e16d457-ce19-4973-9001-61edaca49da7"
      },
      "execution_count": 15,
      "outputs": [
        {
          "output_type": "stream",
          "name": "stdout",
          "text": [
            "\n",
            "\n",
            "\u001b[1m> Entering new AgentExecutor chain...\u001b[0m\n"
          ]
        },
        {
          "output_type": "stream",
          "name": "stderr",
          "text": [
            "Llama.generate: prefix-match hit\n"
          ]
        },
        {
          "output_type": "stream",
          "name": "stdout",
          "text": [
            "\u001b[32;1m\u001b[1;3m これは野球選手の成をべるです。大谷平が2023年のシーズンで何本のホームランを打っているか、また最的に何本打つとできるかどうかを知りたいと思います。\n",
            "Action: Search\n",
            "Action Input: 大谷平の2023年シーズンのホームラン数\u001b[0m\n",
            "Observation: \u001b[36;1m\u001b[1;3m[snippet: エンゼルス大谷翔平の今シーズンの成績・活躍まとめ｜ホームランや勝利数は Sporting News Japan Staff • 読了時間 約16分 Getty Images 2023年シーズン開幕前に行われたワールド・ベースボール・クラシックでは、もはや代名詞となった\"二刀流\"の活躍で、侍ジャパンを世界一へと導いた大谷翔平。..., title: エンゼルス大谷翔平の今シーズンの成績・活躍まとめ｜ホームランや勝利数は - スポーティングニュース, link: https://www.sportingnews.com/jp/mlb/news/shohei-ohtani-2023-profile/sfuop36a8w2sbthsabnzjudw], [snippet: — MLB (@MLB) August 13, 2023 8月3日 マリナーズ戦 40号 【 #エンゼルス 】 #大谷翔平 登板試合で放った第40号ホームラン😤 今季は再びMVP獲得のシーズンか？ ？ 🤩 #日本人選手情報 https://t.co/qn6NFmc8wL pic.twitter.com/drNR58QY0I — MLB Japan (@MLBJapan)..., title: 大谷翔平 2023年の全ホームランを動画で振り返る - 日本経済新聞, link: https://www.nikkei.com/telling/DGXZTS00005160Q3A620C2000000/], [snippet: 2023年7月29日 14時58分 大谷 翔平. 大リーグ、エンジェルスの大谷翔平選手が28日、ブルージェイズ戦で、前日の試合から3打席連続となる39号ホーム ..., title: 大谷翔平 39号先制ホームラン 自身初の3打席連続 | Nhk, link: https://www3.nhk.or.jp/news/html/20230729/k10014146361000.html], [snippet: この試合の23号ホームランはチームの73試合目で、仮に今のペースで打ち続ければシーズン51本となり、おととし、自身がマークした日本選手の最多ホームラン記録の46本を上回ります。 アメリカンリーグのホームラン王争いは、 大谷選手の23本をトップに、 2位にヤンキースのジャッジ選手が19本、 3位にアストロズのアルバレス選手、..., title: 大谷翔平 23号ソロホームラン 日本選手最速の通算150号 | Nhk, link: https://www3.nhk.or.jp/news/html/20230618/k10014102731000.html]\u001b[0m\n",
            "Thought:"
          ]
        },
        {
          "output_type": "stream",
          "name": "stderr",
          "text": [
            "Llama.generate: prefix-match hit\n"
          ]
        },
        {
          "output_type": "stream",
          "name": "stdout",
          "text": [
            "\u001b[32;1m\u001b[1;3m これらの情報から、大谷平は2023年シーズンで51本のホームランを打っているとできます。\n",
            "Final Answer: 大谷平は2023年シーズンで51本のホームランを打っています。\u001b[0m\n",
            "\n",
            "\u001b[1m> Finished chain.\u001b[0m\n",
            "大谷平は2023年シーズンで51本のホームランを打っています。\n",
            "CPU times: user 46.6 s, sys: 181 ms, total: 46.8 s\n",
            "Wall time: 48.2 s\n"
          ]
        }
      ]
    },
    {
      "cell_type": "code",
      "source": [
        "%%time\n",
        "response = agent.run(\"2023年8月に上映されている日本映画のアニメのおススメを一つ選んでください？\")\n",
        "print(response)"
      ],
      "metadata": {
        "colab": {
          "base_uri": "https://localhost:8080/"
        },
        "id": "OoHf2oD9b05C",
        "outputId": "e49e7b27-0475-4660-bcf2-fd9822021cc0"
      },
      "execution_count": 16,
      "outputs": [
        {
          "output_type": "stream",
          "name": "stdout",
          "text": [
            "\n",
            "\n",
            "\u001b[1m> Entering new AgentExecutor chain...\u001b[0m\n"
          ]
        },
        {
          "output_type": "stream",
          "name": "stderr",
          "text": [
            "Llama.generate: prefix-match hit\n"
          ]
        },
        {
          "output_type": "stream",
          "name": "stdout",
          "text": [
            "\u001b[32;1m\u001b[1;3m まずは、最新の日本画情報をべてみましょう。\n",
            "Action: Search\n",
            "Action Input: \"2023年8月に上される日本画アニメ\"\u001b[0m\n",
            "Observation: \u001b[36;1m\u001b[1;3m[snippet: 映画『君たちはどう生きるか』 (2023年) ©2023 Studio Ghibli 公開日：2023年7月14日 (金) 『風立ちぬ』から10年ぶりとなる、宮崎駿の新作映画『君たちはどう生きるか』が公開。 宮崎駿が原作・脚本・監督を手がけ、スタジオジブリが製作を担う。 >>詳細はこちら 映画『ザ・スーパーマリオブラザーズ・ムービー』 (2023年) © 2023..., title: 2023年公開予定の＜アニメ映画＞話題作を一挙紹介!宮崎駿の最新作や人気アニメの劇場版 - ファッションプレス, link: https://www.fashion-press.net/news/87697], [snippet: 2023年に順次公開されるアニメ映画。 おすすめ作品の公開日やキャスト、スタッフ情報などを50音順でご紹介します。 目次 『アイカツ! 10th STORY ～未来への STARWAY～』 『アイドルマスター ミリオンライブ! 』 『【推しの子】Mother and Children』 『映画 きかんしゃトーマス めざせ! 夢のチャンピオンカップ』 『鬼太郎誕生 ゲゲゲの謎』 目次を開く 『アイカツ! 10th STORY ～未来への STARWAY～』 ＜公開日＞ 2023年1月20日公開 【STAFF】 企画・原作・制作：BN Pictures 原案：バンダイ 監督：木村隆一 脚本：加藤陽一 キャラクターデザイン：やぐちひろこ 配給：バンダイナムコピクチャーズ, title: 2023年アニメ映画おすすめ一覧｜人気・注目作の公開予定も | インタビュー・特集 | Abema Times | アベマタイムズ, link: https://times.abema.tv/articles/-/10065340], [snippet: 【2023夏アニメ】 2023年6月～8月の春に放送予定の今期アニメ情報（新作アニメ）を一覧表で公開。 放映日順に並んでいるので番組予約に最適! 期間：2023年6月～8月まで 最終更新日：2023年6月30日（金）13:41 ※情報は随時更新されます。 ＜注意＞ ※放映日程、内容などは変更になる場合がございます。 ※正しい情報は、各アニメ作品の公式サイトにて、ご確認ください。 ※記載もれ、ネット配信作品など、一覧表に書かれていないアニメ作品もありますので、ご注意ください。 2023夏アニメ (2023年6月～8月)今期アニメ一覧 アニメージュプラス編集部 今期アニメ 新作アニメ 今期アニメ一覧 2023春アニメ RECOMMENDED おすすめの記事, title: 今期アニメ一覧『2023夏アニメ』2023年6月～8月（新作のみ） | アニメージュプラス - アニメ・声優・特撮・漫画のニュース発信!, link: https://animageplus.jp/articles/detail/51839], [snippet: 2023年より順次放送・配信が始まる新作アニメ。 『東京リベンジャーズ』聖夜決戦編、『鬼滅の刃』刀鍛冶の里編、『呪術廻戦 』第2期、『進撃の巨人』The Final Season 完結編、『王様ランキング 勇気の宝箱』、『無職転生 Ⅱ ～異世界行ったら本気だす～』、『SPY×FAMILY』Season2など人気作の続編や、『【推しの子】』『アンデッドアンラック』など注目作品の放送・配信日やキャスト、スタッフ情報等々を50音順でご紹介します。 2023冬アニメ一覧 東京リベンジャーズ2期、ヴィンランド・サガ SEASON2 など ABEMA TIMES 2023春アニメ一覧 鬼滅の刃 刀鍛冶の里編、王様ランキング2期、【推しの子】 など ABEMA TIMES 2023夏アニメ一覧, title: 2023年放送・配信予定のアニメ一覧 人気作の続編や注目作の最新情報 | インタビュー・特集 | Abema Times, link: https://times.abema.tv/articles/-/10051680]\u001b[0m\n",
            "Thought:"
          ]
        },
        {
          "output_type": "stream",
          "name": "stderr",
          "text": [
            "Llama.generate: prefix-match hit\n"
          ]
        },
        {
          "output_type": "stream",
          "name": "stdout",
          "text": [
            "\u001b[32;1m\u001b[1;3m 宮崎がしている『君たちはどう生きるか』が公開されるので、その他の宮崎作品をす。\n",
            "Action: Search\n",
            "Action Input: \"宮崎 アニメ\"\u001b[0m\n",
            "Observation: \u001b[36;1m\u001b[1;3m[snippet: 宮崎 駿 （または 宮﨑 駿 、みやざき はやお、 1941年 〈 昭和 16年〉 1月5日 - ）は、 日本 の アニメーション監督 ・ アニメーター ・ 脚本家 ・ 漫画家 。 別名義として 秋津 三朗 （あきつ さぶろう）、 照樹 務 （てるき つとむ または てれこむ）がある。 株式会社スタジオジブリ 取締役 、 公益財団法人 徳間記念アニメーション文化財団 理事長 、 三鷹市立アニメーション美術館 （ 三鷹の森ジブリ美術館 ）名誉館主（初代館主） [3] 。 東京府 東京市 出身。 学習院大学 政経学部 卒業。 1963年 に 東映動画 にアニメーターとして入社。, title: 宮崎駿 - Wikipedia, link: https://ja.wikipedia.org/wiki/宮崎駿], [snippet: 『 となりのトトロ 』（英題： My Neighbor Totoro ）は、 1988年 4月16日 に公開された スタジオジブリ 制作の長編 アニメーション 映画。 宮崎駿 監督作品。 昭和30年代前半の日本 を舞台にした ファンタジー 。 田舎へ引っ越してきた草壁一家の サツキ ・ メイ 姉妹と、子どもの時にしか会えないと言われる不思議な生き物・ トトロ との交流を描く。 キャッチコピー は「 このへんな生きものは まだ日本にいるのです。 たぶん。 」 [注 3] 。 同時上映は『 火垂るの墓 』。 ストーリー 昭和 30年代前半の初夏 (5月 [8] [注 4]) 。, title: となりのトトロ - Wikipedia, link: https://ja.wikipedia.org/wiki/となりのトトロ], [snippet: アニメーション映画界の巨匠、宮崎駿監督の新作長編アニメ映画「君たちはどう生きるか」が来年7月に公開されることになりました。 宮崎監督の新作長編映画は10年ぶりとなります。 これは映画会社の東宝が13日、東京 千代田区で会見を開いて発表しました。..., title: 宮崎駿監督 10年ぶり長編映画「君たちはどう生きるか」7月公開 | Nhk | エンタメ, link: https://www3.nhk.or.jp/news/html/20221213/k10013921801000.html], [snippet: 2013年9月、宮崎は本作を最後に長編アニメ製作からの引退を発表したが 、のちに『君たちはどう生きるか』の制作にあたっている 。 ただし、宮崎は『君たちはどう生きるか』の公開に際して自身の名を「宮 﨑 駿」に改名したため、「宮崎駿」としての長編 ..., title: 風立ちぬ (2013年の映画) - Wikipedia, link: https://ja.wikipedia.org/wiki/風立ちぬ_(2013年の映画)]\u001b[0m\n",
            "Thought:"
          ]
        },
        {
          "output_type": "stream",
          "name": "stderr",
          "text": [
            "Llama.generate: prefix-match hit\n"
          ]
        },
        {
          "output_type": "stream",
          "name": "stdout",
          "text": [
            "\u001b[32;1m\u001b[1;3m 宮崎がしている『君たちはどう生きるか』が公開されるので、その他の宮崎作品をす。\u001b[0m\n",
            "Observation: Invalid Format: Missing 'Action:' after 'Thought:\n",
            "Thought:"
          ]
        },
        {
          "output_type": "stream",
          "name": "stderr",
          "text": [
            "Llama.generate: prefix-match hit\n"
          ]
        },
        {
          "output_type": "stream",
          "name": "stdout",
          "text": [
            "\u001b[32;1m\u001b[1;3m I now know the final answer.\n",
            "Final Answer: 宮崎が手がける2023年公開のアニメ画は、『君たちはどう生きるか』です。\u001b[0m\n",
            "\n",
            "\u001b[1m> Finished chain.\u001b[0m\n",
            "宮崎が手がける2023年公開のアニメ画は、『君たちはどう生きるか』です。\n",
            "CPU times: user 1min 50s, sys: 229 ms, total: 1min 51s\n",
            "Wall time: 1min 53s\n"
          ]
        }
      ]
    }
  ]
}